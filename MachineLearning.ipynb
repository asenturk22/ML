{
 "cells": [
  {
   "cell_type": "markdown",
   "id": "5c8069c1-40f4-48b9-8e7c-a11c5b8c9407",
   "metadata": {
    "jp-MarkdownHeadingCollapsed": true
   },
   "source": [
    "# Makine Öğrenmesi Temelleri"
   ]
  },
  {
   "cell_type": "markdown",
   "id": "168e68bf-389a-4d9a-a356-b1b09684e980",
   "metadata": {
    "jp-MarkdownHeadingCollapsed": true
   },
   "source": [
    "## Makineler Nasıl Öğrenir"
   ]
  },
  {
   "cell_type": "markdown",
   "id": "922c11bc-c244-48af-b200-2627ad95fc2e",
   "metadata": {},
   "source": [
    "- Yapay zeka algoritmaları, büyük miktarda veriye dahaylı olarak desenleri tanımlar, kararlar alır ve sonuçları tahmin ederler.\n",
    "- İnsanların öğrenme sürecine benzer şekilde, yapay zeka modelleri de hatalarından öğrenir ve deneyimleriyle daha iyi hale gelir. "
   ]
  },
  {
   "cell_type": "markdown",
   "id": "275c2c05-1c46-4c03-aec9-3780de453d86",
   "metadata": {
    "jp-MarkdownHeadingCollapsed": true
   },
   "source": [
    "## Makinelerde Öğrenme Kavramı Nedir?"
   ]
  },
  {
   "cell_type": "markdown",
   "id": "b91c62af-e40b-4694-b165-97704380de37",
   "metadata": {},
   "source": [
    "- Makine öğrenmesi,\n",
    "  * bilgisayar sistemlerinin verilerden öğrenerek,\n",
    "  * deneyimlerden yararlanarak\n",
    "  * algoritmaları kullanarak\n",
    "- belirli görevleri gerçekleştirmesini sağlayan yapay zeka alanının bir alt dalıdır.\n"
   ]
  },
  {
   "cell_type": "markdown",
   "id": "bb0a2fe6-b4a3-4106-8a3c-17a0c6cb1af4",
   "metadata": {
    "jp-MarkdownHeadingCollapsed": true
   },
   "source": [
    "## Makine Öğrenmesi ve Geleneksel Programlama "
   ]
  },
  {
   "cell_type": "markdown",
   "id": "acbd30be-ceed-4cc8-bdd4-b5bd23ee696e",
   "metadata": {},
   "source": [
    "- Programlama yaklaşımı \n",
    "- Kural tabanlı bilgi\n",
    "- Esneklik ve Genelleme\n",
    "- Değişkenlik ve adaptasyon"
   ]
  },
  {
   "cell_type": "markdown",
   "id": "5100129c-2509-4562-aacb-85bcd7eea3b3",
   "metadata": {
    "jp-MarkdownHeadingCollapsed": true
   },
   "source": [
    "# Makine Öğrenmesi Yöntemleri"
   ]
  },
  {
   "cell_type": "markdown",
   "id": "779a2e3c-04e1-48b7-9983-6c51ddfaa4e1",
   "metadata": {},
   "source": [
    "- **Veri kümesi (dataset)**\n",
    "- **öznitelik (features) :** veri noktalarını tanımlayan özniteliklerdir. Öznitelikler makine öğrenmesi algoritmalarının modellenmesi ve tahmin yapması için kullanılan değişkenlerdir.\n",
    "- **Etiketler (labels)** : gözetimli öğrenme problemlerinde hedef değişkenler olarak adlandırılır. Bir veri örneğinin etiketi özelliklere karşılık gelen gerçek çıktı veya sınıfı temsil etmektedir.\n",
    "- **Model** : girdi verilerini alıp belirli bir çıktıyı verir.\n",
    "- **Eğitim(Training)** : Bir makine öğrenimi modelinin veri kümesi üzerindeki örneklerle eğitilmesi sürecidir. Eğitim süreci, makine öğrenmesi modeli içerisindeki parametre ayarlarının optimize edilmesidir.\n",
    "- **Doğrulama(validation)** : Eğitim sürecinde modelin performansını değerlendirir ve hiper parametrelerin ayarlanmasına yardımcı olmak için ayrılan bir veri kümesidir.\n",
    "- **Test(test)** :  Modelin gerçek veri kümeleri ile test edilmesi için ayrılan veri kümesidir.\n"
   ]
  },
  {
   "cell_type": "markdown",
   "id": "8a5993fe-8c54-4d54-abb6-3fd20017307e",
   "metadata": {},
   "source": [
    "![Resim Açıklaması](images/ML_algoritma.png)"
   ]
  },
  {
   "cell_type": "markdown",
   "id": "8e6a1b86-4912-4ba2-9cde-1ff33857452b",
   "metadata": {},
   "source": [
    "- **Sınıflandırma (Classification)** : Bir veri noktasını bir veya daha fazla sınıfa atayan bir tahmin problemidir.\n",
    "- **Regresyon (Regression)** : Bir çıktı değişkeninin sürekli bir değeri tahmin etmeye çalışan bir tahmin problemidir. Regresyon problemlerinde çıktılar sayısal değerlerdir. Örn, bir evin fiyatını tahmin etmek yada borsanın fiyat tahmini\n",
    "- **Öğrenme Algoritmaları (Learning Algorithms)** : Veri üzerinden örüntüleri keşfetmek ve modellemek için kullanılan matematiksel ve istatistiksel tekniklerdir.\n",
    "- **Öznitelik Mühendisliği(Feature Engineering)** :\n",
    "- **Hiper parametreler (Hyperparameters)** : Modelin yapılandırılması ve eğitilmesi sürecini kontrol eden parametrelerdir. Örneğin, bir sinir ağı modelindeki katman sayısı veya öğrenme hızı gibi parametreler hiper parametrelerdir.\n",
    "- **Overfitting ve Underfitting** : Modelin eğitim verilerine aşırı uyum sağlaması durumuna overfitting (ezberleme) diyoruz. Test veri seti ile test ettiğimizde undefitting olma  durumu (öğrenememe).\n",
    "- **Cross-Validation (Çapraz Doğrulama)** : Modelin performansını değerlendirmek için kullanılan bir tekniktir. Veri kümesi birden fazla alt kümeye bölünür ve her bir alt küme sırasıyla eğitim ve doğrulama için kullanılır. Bu sayede modelin genelleme yeteneği daha güvenilir bir şekilde değerlendirilir.\n",
    "- **Derin Öğrenme (Deep Learning)** : "
   ]
  },
  {
   "cell_type": "markdown",
   "id": "e5577078-1ccb-4278-82ed-813c70f87968",
   "metadata": {},
   "source": [
    "Örn, birtane kanser hücresi ile ilgili bir **label** yazmak isteyelim.  Kanser hücreli yada kanser hücresiz olarak bunlara **pozitif** ve **negatif** label'lar yazmak istersek, \n",
    "\n",
    "**label**  <br>\n",
    "- **p** : kanserli hücre <br>\n",
    "- **n** : kansersiz hücre <br>\n",
    "\n",
    "**features** <br>\n",
    "- **hucreY** : hücre yarıçapı <br>\n",
    "- **hucreA** : hücre alanı <br>\n",
    "- **boyut**  : hücre boyutu <br>\n",
    "\n",
    "\n"
   ]
  },
  {
   "cell_type": "markdown",
   "id": "b39ef3c7-a02f-4415-92a5-6ba346771583",
   "metadata": {},
   "source": [
    "![Resim Açıklaması](images/ML_yontemler.png)"
   ]
  },
  {
   "cell_type": "markdown",
   "id": "922efc56-9ae4-46ca-80be-61919fbe060a",
   "metadata": {},
   "source": [
    "![Resim Açıklaması](images/ML_sureci.png)"
   ]
  },
  {
   "cell_type": "markdown",
   "id": "95a13f96-c5c0-4ddf-b516-77b37f01ccaa",
   "metadata": {},
   "source": [
    "**Makine öğrenmesi uygulamaları;**\n",
    "- Tıp ve Sağlık\n",
    "- Finans\n",
    "- Perakende ve Pazarlama\n",
    "- Ulaşım ve lojistik\n",
    "- Güvenlik ve Siber Güvenlik\n",
    "- Robotik\n",
    "- Enerji Planlaması ve Verimlilik\n",
    "\n",
    "**Makine öğrenmesi araçları:**\n",
    "- Tensorflow\n",
    "- PyTorch\n",
    "- Keras\n",
    "- NumPy\n",
    "- Scikit-learn\n",
    "- Pandas\n",
    "- Matplotlib\n",
    "- Theano"
   ]
  },
  {
   "cell_type": "markdown",
   "id": "c10d8092-d179-4c48-8d10-1db2a4daf89f",
   "metadata": {
    "jp-MarkdownHeadingCollapsed": true
   },
   "source": [
    "# Veri Ön İşleme"
   ]
  },
  {
   "cell_type": "markdown",
   "id": "3c2cdd58-7468-4271-9764-d7132a7b3220",
   "metadata": {},
   "source": [
    "**Veri Nedir?**\n",
    "\n",
    "Veri, bilgi taşıyan ve anlam ifade eden öğelerin toplamıdır. \n",
    "Genellikle sayılar, metin, görseller veya diğer formatlardaki bilgileri içerir. <br> \n",
    "\n",
    "- **Veri Tipleri**\n",
    "    - **Kategorik Veriler**\n",
    "      - Nominal\n",
    "      - Ordinal\n",
    "    - **Sayısal Veriler**\n",
    "      - Interval\n",
    "      - Ratio   "
   ]
  },
  {
   "cell_type": "markdown",
   "id": "5fa8f4be-8144-4fcb-bd45-cc774bcac53e",
   "metadata": {},
   "source": [
    "**Veri Ön İşleme**\n",
    "\n",
    "Veri setini hazırlama sürecidir. Veri ön işleme aşamaları genellikle şunları içerir.  \n",
    "\n",
    "    - Veri temizleme\n",
    "    - Veri standardizasyonu \n",
    "    - Öznitelik seçimi\n",
    "    - Veri dönüşümü\n",
    "    - Aykırı değerlerin işlenmesi"
   ]
  },
  {
   "cell_type": "markdown",
   "id": "78316fea-2ba3-4527-b301-c2b3635fd608",
   "metadata": {},
   "source": [
    "- **Veri Temizleme**\n",
    "\n",
    "Veri temizleme, veri setindeki hatalı, eksik veya tutarsız verileri tanımlama, düzeltme veya çıkarma işlemidir. Bu işlem, verinin doğruluğunu artırarak analiz veya modelleme süreçlerinin güvenilirliğini sağlar. Veri temizleme, \n",
    "* Doğruluk\n",
    "* Tutarlılık\n",
    "* Eksik veri problemi\n",
    "* Aykırı değerler\n",
    "* Standartlaştırma\n",
    "\n",
    "Veri temizleme yöntemleri: <br>\n",
    "    - **Kayıp Veri Problemi** : Bir veri setindeki eksik veya bozuk verilerin bulunması durumudur. <br> \n",
    "    - **Tutarsız veri düzeltme**  veri setindeki tutarsızlıkları tespit etme ve düzeltme işlemidir.  <br> \n",
    "    - **Yinelenen Verilerin Silinmesi**   <br>\n",
    "    - **Gereksiz sütunların silinmesi**    <br>\n",
    "\n",
    "- **Veri Kodlaması**\n",
    "  Veri kodlaması, kategorik (nominal veya ordinal) verileri sayısal değerlere dönüştürme işlemidir. Bu dönüşüm, makine öğrenimi algoritmaları gibi birçok analiz yöntemi için gereklidir, çünkü bu algoritmalar genellikle sayısal verilerle çalışır. Veri kodlamasının iki ana türü vardır.\n",
    "  - Nominal kodlama\n",
    "  - Ordinal kodlama"
   ]
  },
  {
   "cell_type": "markdown",
   "id": "2d724441-4ab0-4950-827d-db49ebab62d4",
   "metadata": {},
   "source": [
    "## Öznitelik Mühendisliği"
   ]
  },
  {
   "cell_type": "markdown",
   "id": "2d9e80cc-95f1-4c3c-9f88-1a45242a28e2",
   "metadata": {},
   "source": [
    "**Öznitelik Nedir?** :\n",
    "- Öznitelik (feature), bir veri örneğini tanımlayan veya açıklayan herhangi bir özelliktir.\n",
    "- Öznitelikler, veri setindeki her bir gözlemin bir parçasını oluşturan ölçülebilir veya gözlemlenebilir özelliklerdir.\n",
    "- Öznitelikler, veri setinin her bir **sütununu** temsil eder.\n",
    "- Öznitelik mühendisliği (feature engineering), veri bilimi ve makine öğrenmi alanında kullanılan bir tekniktir ve veri setindeki öznitelikleri (features) optimize etmek veya yeni öznitelikler oluşturmak için yapılan işlemleri ifade eder.  "
   ]
  },
  {
   "cell_type": "markdown",
   "id": "c29b87f2-9947-4a00-b811-866153447c52",
   "metadata": {},
   "source": [
    "**Öznitelik mühendisliğinin önemi**\n",
    "\n",
    "- Model performansını artırma\n",
    "- Boyut azaltma\n",
    "- Hesaplama maliyetini azaltma\n",
    "\n",
    "\n",
    "**Öznitelik Seçimi**\n",
    "\n",
    "- Öznitelik seçimi (feature selection), veri setinde bulunan öznitelikler arasından en önemli veya en bilgilendirici olanları seçme veya belirleme sürecidir.\n",
    "- Bu süreçte, veri setinteki gereksiz, tekrarlayan veya düşük etkili özniteliklerin tanımlanması ve çıkarılması hedefleniyor.\n",
    "- Informasyon tabanlı yöntemler\n",
    "- Wrapper yöntemler\n",
    "- Gömülü yöntemler\n",
    "- Filter yöntemler\n",
    "\n",
    "**Öznitelik Çıkarma**\n",
    "\n",
    "- Öznitelik çıkarma (Feature extraction), veri setindeki özniteliklerin temsilini değiştirme veya dönüştürme sürecidir.\n",
    "- Bu süreçte, var olan özniteliklerin birleştirilmesi, dönüştürülmesi veya yeni özniteliklerin oluşturulması yoluyla verinin tamsilinin iyileştirilmesi amaçlanır.\n",
    "- Öznitelik çıkarma, veri boyutunu azaltarak gereksiz bilgiyi çıkararak ve verinin daha anlamlı bir şekilde temsil edilmesini sağlayarak model performansını arttırabilir.\n",
    "\n",
    "**Öznitelik Çıkarmanın Önemi**\n",
    "\n",
    "- Model performansını artırma\n",
    "- Boyut azaltma\n",
    "- Gereksiz bilgiyi çıkarılması\n",
    "- Anlamlı temsilinin sağlanması\n",
    "\n",
    "\n",
    "**Öznitelik Çıkarma Yöntemleri**\n",
    "\n",
    "- Principle Compenent Analysis (PCA) : Veri setindeki öznitelikler arasındaki korelasyonu azaltmak ve veri boyutunu azaltmak için kullanılan bir yöntemdir. \n",
    "- Linear Discriminant Analysis (LDA) : Sınıflar arasındaki farklılıkları en üst düzeye çıkarmaya kullanılan bir yöntemdir.\n",
    "- Autoencoders : Giriş verisine benzeyen ancak daha düşük boyutlu bir temsillemeye dönüştüren sinir ağı tabanlı bir modellerdir. Bu yöntem veri setindeki gizli yapıyı öğrenir ve daha az boyutlu bir temsile oluşturmuş olur.\n"
   ]
  },
  {
   "cell_type": "markdown",
   "id": "ca62687c-2781-45c7-998f-286f3184c07f",
   "metadata": {},
   "source": [
    "![Resim Açıklaması](images/oznitelik_yontemleri.png)"
   ]
  },
  {
   "cell_type": "markdown",
   "id": "183f8e56-e211-4ea1-8498-ab56493c8f35",
   "metadata": {},
   "source": [
    "\n",
    "**Veri Normalizasyonu ve Standardizasyonu**\n",
    "\n",
    "- Veri normalizasyonu ve standardizasyonu, veri öznitelikleirnin farklı ölçeklere veya dağılımlara sahip olması durumunda bunları belirli bir standart forma dönüştürmek için kullanılan yöntemlerdir. "
   ]
  },
  {
   "cell_type": "markdown",
   "id": "4d47e0d8-0f6d-4a74-b10c-af06fadaae99",
   "metadata": {},
   "source": [
    "![Resim Açıklaması](images/veri_normalizasyon.png)"
   ]
  },
  {
   "cell_type": "markdown",
   "id": "3ce34fc7-09f0-4acc-872d-6ec800d75336",
   "metadata": {},
   "source": [
    "**Örnek** \n",
    "\n",
    "$$\n",
    "X_{norm} = \\frac{x - x_{\\text{min}}}{x_{\\text{max}} - x_{\\text{min}}}\n",
    "$$\n",
    "\n",
    "Öncelikle, Matematik notlarını $[0,1]$ aralığına normalizasyon yapalım: \n",
    "\n",
    "$$\n",
    "X_{norm} = \\frac{x - 70}{90-70} =  \\frac{x - 70}{20}\n",
    "$$\n"
   ]
  },
  {
   "cell_type": "markdown",
   "id": "70c426d3-6800-4ba3-ae0e-433aa02554de",
   "metadata": {},
   "source": [
    "![Resim Açıklaması](images/m_notlar.png)"
   ]
  },
  {
   "cell_type": "markdown",
   "id": "f67fa96d-79b0-40b8-adaa-1294a5299bb2",
   "metadata": {},
   "source": [
    "![Resim Açıklaması](images/standart.png)"
   ]
  },
  {
   "cell_type": "markdown",
   "id": "ae0ea64d-3571-423d-9735-9d58fb755f59",
   "metadata": {},
   "source": [
    "## Veri Tipleri ve Dönüşümleri"
   ]
  },
  {
   "cell_type": "markdown",
   "id": "ed6068ee-1ae7-499f-8d52-f078e4ab44f0",
   "metadata": {},
   "source": [
    "**Ayrık ve Sürekli Veri Ayırma**\n",
    "\n",
    "- Ayrık (discrate) ve sürekli (continuous) veri, istatistik ve veri bilimi alanlarında temel olarak iki farklı veri tipini ifade eder.\n",
    "![Resim Açıklaması](images/ayrik_surekli_veri.png)\n",
    " \n",
    "\n",
    "**Veri Bölme**\n",
    "- Bir veri setini eğitim, doğrulama ve test kümeleri olarak üçe veya daha fazla parçaya ayırmak anlamına gelir.\n",
    "- Bu bölme işlemi, makine öğrenimi modelinin eğitilmesi, doğrulanması ve değerlendirilmesi için kullanılır.\n",
    "- Genellikle, veri setinin büyük bir kısmı modelin eğitimi için kullanılırken, geri kalan kısmı modelin doğrulanması ve test edilmesi için kullanılır.\n",
    "- Veri bölmenin makine öğrenmi açısından önemi :\n",
    "  - Model performansının doğru değerlendirilmesi\n",
    "  - Aşırı uydurmanın (overfitting) önlenmesi.\n",
    "  - Parametre ayarının ve model seçiminin yapılması\n",
    "    \n",
    "**Dengesiz Veri İşleme**\n",
    "\n",
    "- Makine öğrenmesinde dengesiz veri, farklı sınıflara ait örneklerin sayısal olarak büyük farklılıklar gösterdiği durumlarda ortaya çıkar. \n",
    "- Örneğin, bir sınıfın örnek sayısı diğerlerine göre çok daha fazlaysa, bu dengesiz veri problemi olarak kabul edilir.\n",
    "- Dengesiz veri, modelin eğitimini ve performansını olumsuz yönde etkileyebilir çünkü nadir sınıfların öğrenilmesi zorlaşabilir ve modelin bu sınıfları tanımlaması daha düşük olabilir.\n",
    "\n",
    "Örneğin : 100 adet kedi ve köpek görselinin 90 tanesi kedi 10 tane köpek olursa bu veri dengesiz veridir. Herşeye kedi dmee olasılığı yüksektir. Ancak 50 kedi ve 50 köpek veri seti olursa bu veri seti dengeli bir veri setidir. \n",
    "\n",
    "Dengesiz verin önüne geçmek için,\n",
    "- OVersampling (Aşırı örnekleme)\n",
    "- Undersampling (Yetersiz Örnekleme)\n",
    "- Sentetik Örnekleme (Synthetic Sampling)\n",
    "\n",
    "![Resim Açıklaması](images/veri_isleme.png)\n"
   ]
  },
  {
   "cell_type": "markdown",
   "id": "fb72625e-8665-4f27-bf3f-0067a89f2c8c",
   "metadata": {},
   "source": [
    "**Aykırı değer işleme**\n",
    "\n",
    "- Aykırı değer (outlier), genel trendden önemli ölçüde farklı olan ve genellikle diğer veri noktalarından uzakta bulunan bir veri noktasıdır.\n",
    "- Makine öğrenmesi bağlamında, **aykırı değerler** genellikle modelin **yanlış eğitilmesine** veya yanıltılmasına neden olabilir.\n",
    "- Model performansını etklileyebilir.\n",
    "- Modelin hassasiyetini arttırır.\n",
    "- Modelin yorumlanabilirliğini artırır.\n",
    "\n",
    "**Aykırı değer tespit etme yöntemleri**\n",
    "\n",
    "- Standart sapma yaklaşımı\n",
    "- Elimizdeki verinin dağılımına bakıyoruz belirli bir standart sapmanın üzerindeyse **outliers** olarak tespit ediyoruz.\n",
    "\n",
    "![Resim Açıklaması](images/s_sapma.png)\n",
    "\n",
    "- Box Plot(kutu grafiği) yöntemi\n",
    "\n",
    "Elimizdeki bir veriye box plot yöntemi uygulandığında medyan(Q2), Q1, Q3 şeklinde farklı grafiksel modellemeler çıkartacaktır. Biz burdan Q1 ve Q3 arasındaki farkı bulup IQR tespit edeceğiz. Q3 değerine, k katsayılı IQR eklersek upper extreme value limiti elde edilir.  Q1 den de k katsayılı bir IQR çıkartılırsa da lower extreme value limiti elde edilir. Eğer bu değerlerin dışında bunlar outlier adaylarıdır.  \n",
    "\n",
    "![Resim Açıklaması](images/box_plot.png)\n",
    "\n",
    "- Z-Skoru yaklaşımı\n",
    "Bir veri noktasının ortalama değerden kaç standart sapma uzaklıkta olduğunu ölçen bir kavramdır. \n",
    "![Resim Açıklaması](images/z_skoru_yaklasimi.png)\n",
    "\n",
    "- LOF (Local Outlier Factor)\n",
    "Her veri noktasının çevresindeki yoğunluğu dikkaet alıp ve aykırı değerleri belirliyor. \n",
    "\n",
    "![Resim Açıklaması](images/lof.png)\n"
   ]
  },
  {
   "cell_type": "markdown",
   "id": "b6b35556-ebfb-41be-bbb5-e3cb67eb8cdf",
   "metadata": {
    "jp-MarkdownHeadingCollapsed": true
   },
   "source": [
    "# Makine Öğrenmesi İçin Temel Matemaiiksel Kavramlar"
   ]
  },
  {
   "cell_type": "markdown",
   "id": "4a679341-6085-4e04-8a00-6dc6b6aad6fb",
   "metadata": {},
   "source": [
    "## Lineer Cebir"
   ]
  },
  {
   "cell_type": "markdown",
   "id": "5689531b-103f-424d-8138-63fb29ce3fca",
   "metadata": {},
   "source": [
    "- Lineer cebir, makine öğrenmesinin temel taşlarından biridir.\n",
    "- Özellikle matrisler, vektörler ve matris işlemleri makine öğrenmesi algoritmalarının pek çoğunda kullanılır.\n",
    "- Örneğin, model parametrelerinin matris formunda ifade edilmesi, özellik vektörlerinin işlenmesi ve boyut indirgeme teknikleri gibi"
   ]
  },
  {
   "cell_type": "markdown",
   "id": "a5f86ec4-c45c-4b3d-bcc5-4640ad4c60fd",
   "metadata": {},
   "source": [
    "### Skaler ve Vektör"
   ]
  },
  {
   "cell_type": "markdown",
   "id": "31982aa5-1ebe-4f68-84ba-8d6dc5448698",
   "metadata": {},
   "source": [
    "#### Skaler (Scalar)\n",
    "\n",
    "- Skaler, büyüklüğü (magnitude) belirten ve yalnızca bir sayıdan oluşan matematiksel bir nesnedir. Yani, sadece büyüklüğü vardır ve bir yöne veya konuma sahip değildir.\n",
    "- Bir otomobilin hızı, bir kişinin yaşını, veya bir oda sıcaklığı birer skaler değerdir.\n",
    "\n",
    "#### Vektör (Vector)\n",
    "\n",
    "- Vektör, hem büyüklüğü (magnitude) hem de yönü (direction) belirten matematiksel bir nesnedir. Bir başlangıç noktasından bir bitiş noktasına yönelen bir ok olarak düşünülebilir.\n",
    "- Bir otomobilin hızı ve yönü (örneğin, 50km/saat doğuya) birer vektördür. Bir kuvvetin uygulandığı yön ve şiddeti de bir vektör olarak ifade edilebilir.\n",
    "\n",
    "#### Skaler vektör çarpımı\n",
    "\n",
    "- Bir vektörün her elemanının bir skaler sayıyla çarpılması işlemdir."
   ]
  },
  {
   "cell_type": "markdown",
   "id": "a2398960-b26e-4321-979a-140daf6204ff",
   "metadata": {},
   "source": [
    "### Matrisler\n",
    "\n",
    "Matrisler, sayılar kümesinin satır ve sütunlarla düzenlenmiş bir düzlem tablosudur. \n",
    "\n",
    "![Resim Açıklaması](images/matrisler.png)\n",
    "\n",
    "**Matris İşlemleri**\n",
    "\n",
    "- Skaler-Matris Çarpımı\n",
    "- Matris-Matris Toplama\n",
    "- Matris-Matris Çıkarma\n",
    "- Matris-Matris Çarpımı\n",
    "- Vektör-Matris İşlemleri\n",
    "- Transpoze\n",
    "- Ters Matris\n",
    "\n",
    "### Lineer Denklemler\n",
    "\n",
    "- Lineer denklem, içinde yalnızca birinci dereceden terimlerin bulunduğu bir denklem sistemidir.\n",
    "- Bu denklemler, bilinmeyen değişkenlerin doğrusal olarak ifade edildiği denklemlerdir.\n",
    "- Makine öğrenmesi bağlamında, lineer denklemler genellikle modelin temelini oluşturur.\n",
    "- Özellikle regresyon analizi ve sınıflandırma gibi temel makine öğrenmesi problemlerinde lineer modeller sıklıkla kullanılır.\n",
    "\n",
    "![Resim Açıklaması](images/lineer_denklem.png)\n",
    "\n",
    "**Örnek:**  Bir evin fiyatını tahmin etmek için lineer denklem yazalım. \n",
    "\n",
    "- Evin fiyatını öğrenebilmek için ilk önce,\n",
    "- evin alanı(m2) \n",
    "- oda sayısı\n",
    "- konumu gibi bilgilere ihtiyacımız var. Biz bunları matematiksel ifade edebilmek için sırasıyla x1, x2, x3 değişkelerinde tutalım.\n",
    "\n",
    "**Değişkenler**\n",
    "- x1 = evin alanı\n",
    "- x2 = evin oda sayısı\n",
    "- x3 = evin konumu  olsun.\n",
    "- y = evin fiyatı olsun.  (biz y'yi tahmin etmeye çalışacağız. ) \n",
    "\n",
    "\n",
    "$x_1 + x_2 + x_3 = y$\n",
    "\n",
    "Bizim burda aslında x1, x2, ve x3' ün katsayıları \"1\" dir. Ancak biz burda bunları \"w\" ile ifade edeceğiz. Bunu yazmamızdaki sebep farklı katsayılar ile işleme soktuğumuzda değişken olarak w1, w2, ve w3 olarak ifade ettğimiz ağırlık katsayıları ile x1, x2, ve x3 değişkenlerini işleme sokmamız gerekiyor. Bu durumda bu ifade aşağıdaki gibi olacaktır. \n",
    "\n",
    "$ w_1*x_1 + w_2*x_2 + w_3*x_3 + bias = y $ \n",
    "\n",
    "olarak ifade ederiz. \n",
    "\n",
    "Örneğimizde, \n",
    "\n",
    "- Evin alanı : 100m2\n",
    "- oda sayısı : 5\n",
    "- Konumu     : 1  olsun.\n",
    "  - güzel bir konum için : 1\n",
    "  - orta bir konum için  : 0 olsun.\n",
    "\n",
    "sonuç olarak bir $y$ değeri elde edilecek. Ağırlık katsayılarımızı elimizde bulunan $y$ değerine karşılık öğrenmiş(belirlemiş) olacağız. \n",
    "\n",
    "$ w_1*x_1 + w_2*x_2 + w_3*x_3 = y + bias $ <br>\n",
    "$     100 +      5  +       1 = y $   \n",
    "\n",
    "makine öğrenmesi uygulamasında biz bu $y$ yide biliyor olacağız ve biz $w_1, w_2 ve w_3$ ü öğrenmeye çalışacağız. "
   ]
  },
  {
   "cell_type": "markdown",
   "id": "74ccb33b-40be-4426-93c6-e92f9c6603fc",
   "metadata": {},
   "source": [
    "## Kalkülüs"
   ]
  },
  {
   "cell_type": "markdown",
   "id": "07c3a8d2-ccf4-4e54-83e2-9052a3dffb7d",
   "metadata": {},
   "source": [
    "### Türev\n",
    "\n",
    "- Türev, bir fonksiyonun belirli bir noktasındaki anlık değişim oranını ifade eder.\n",
    "- Özellikle gradyan inişi gibi optimizasyon teknikleri, bir fonksiyonun türevini kullanarak en uygun parametre değerlerini bulmaya çalışır. Modelin kayıp fonksiyonunun (loss function) türevi, parametre güncellemelerinde bir rehber olarak kullanılır. \n",
    "\n",
    "![Resim Açıklaması](images/turev_integral.png)"
   ]
  },
  {
   "cell_type": "markdown",
   "id": "ae9b2f0f-dd0e-4eb8-a61a-7a6df89095b6",
   "metadata": {},
   "source": [
    "### İntegral\n",
    "\n",
    "- Integral, bir fonksiyonun belirli bir aralıktaki alanını ifade eder.\n",
    "- Integral, bir fonksiyonun toplamını almak için kullanılır ve belirli bir aralıktaki sonsuz küçük parçaların toplamını hesaplamak için integral işareti kullanılır.\n"
   ]
  },
  {
   "cell_type": "markdown",
   "id": "1555a3b8-92d4-4c7e-9edd-f72e6c7c814d",
   "metadata": {},
   "source": [
    "## Olasılık ve İstatistik"
   ]
  },
  {
   "cell_type": "markdown",
   "id": "d47b6fe4-72c9-4646-a653-70abcc9da9b5",
   "metadata": {},
   "source": [
    "- Olasılık, belirsizlik altında olayların olasılığını ve bu olayların matematiksel modellerini inceleyen bir alandır. Bir olayın gerçekleşme olasılığını sayısal olarak ifade eder.\n",
    "- İstatistik,  veri toplama, analiz etme, yorumlama ve sonuç çıkarma süreçlerini inceleyen bir alandır. Bu süreçler, veri setlerinden anlamlı bilgiler çıkarılmasına ve karar verme süreçlerine destek sağlar. "
   ]
  },
  {
   "cell_type": "markdown",
   "id": "437e55af-88ca-4dc0-8b87-e98eb3588fb2",
   "metadata": {},
   "source": [
    "**Olay (Event)** Bir deneyde gözlemlenebilecek sonuçlardan her biridir.\n",
    "- Örnek Uzay (Sample Space) : Bir deneyde olası tüm sonuçların olşturduğu kümedir. $S = \\{Y, T\\}$\n",
    "\n",
    "**Koşullu Olasılık (Conditional Probability)** : Bir olayın başka bir olayın gerçekleşme durumuna bağlı olarak gerçekleşme olasılığını ifade etmektedir.\n",
    "\n",
    "![Resim Açıklaması](images/kosullu_olasilik.png)\n",
    "\n",
    "$P(...)$  fonksiyonu içerisine bir değer alacak anlamına gelir. <br>\n",
    "$P(A)$ : A'nın gerçekleşme olasılığı <br>\n",
    "$P(B)$ : B'nın gerçekleşme olasılığı <br>\n",
    "$P(A∩B)$ : A ve(kesişim) B'nın gerçekleşme olasılığı <br>\n",
    "$P(A/B)$ : B verildiğinde A'nın  gerçekleşme(olma) olasılığı <br>\n"
   ]
  },
  {
   "cell_type": "markdown",
   "id": "6bef39ca-0693-4488-8f1b-5fc75c254089",
   "metadata": {},
   "source": [
    "**Olasılıksal Dağılımlar**\n",
    "\n",
    "- Normal Dağılım (Gauss Dağılımı) : Sürekli bir değişkenin dağılımını modellemek için kullanılır. Merkezi limit teoremi ile karşımıza çıkar.\n",
    "\n",
    "**Bernoulli Dağılımı**\n",
    "\n",
    "- 2 sonuçlu olayları modellemek için kullanılır. Örneğin, yazı-tura olayını modellemek\n",
    "\n",
    "**Binom Dağılımı**\n",
    "\n",
    "- Belirli sayıda deneme yapıldığında başarı ve başarı sayısını modellemek için kullanılır. Bağımsız ve aynı şekilde dağılmış bernoulli dağılımlarının toplamıdır.\n",
    "\n",
    "**Poisson Dağılımı**\n",
    "\n",
    "- Belirli zaman aralığında nadir gerçekleşen olayların sayısını modellemek için kullanılır. \n",
    "![Resim Açıklaması](images/olasılıklar.png)"
   ]
  },
  {
   "cell_type": "markdown",
   "id": "e0e558c0-a5f6-4d72-b3a1-299475d4d585",
   "metadata": {},
   "source": [
    "**Temel İstatistiksel Özellikler**\n",
    "\n",
    "**Ortalama (mean)**\n",
    "\n",
    "Bir veri setindeki değerlerin toplamının veri sayısına bölünmesi ile elde edilmektedir. Veri setinin merkezi eğilimini gösterir. \n",
    "Örn; Bir sınıftaki öğrencilerin not ortalaması. \n",
    "\n",
    "**Medyan(median)** \n",
    "\n",
    "Bir listedeki ortada ki sayıyı ifade eder. \n",
    "\n",
    "**Mod(mode)**\n",
    "\n",
    "Bir veri setinin içerisinde hangi değerin kaç adet olduğunu ifade eder. \n",
    "\n",
    "**Varyans(variance)**\n",
    "\n",
    "Bir veri setindeki değerlerin ortalamadan ne kadar uzak olduğunun ölçüsüdür. Değişkenliği ifade etmektedir. \n",
    "\n",
    "**Standart Sapma(Standard Deviation)**\n",
    "\n",
    "Varyansın karekökü alınarak hesaplanır, veri setindeki değerlerin ortalamadan ne kadar saptığı hakkında bilgi verir. \n"
   ]
  },
  {
   "cell_type": "markdown",
   "id": "4f548cb3-282a-49da-90c8-9e4a0c4def13",
   "metadata": {},
   "source": [
    "# GÖZETİMLİ ÖĞRENME"
   ]
  },
  {
   "cell_type": "markdown",
   "id": "07d6d693-1c10-4139-9141-5831b93fd428",
   "metadata": {},
   "source": [
    "- Gözetimli öğrenme, eğitim verilerinde girdi ve çıktı arasındaki ilişkiyi öğrenmeyi amaçlayan bir makine öğrenmesi yaklaşımıdır. \n",
    "\n",
    "girdi : veri setindeki feature'lar  <br>\n",
    "çıktı : Bu feature'lara karşılık gelen etiketler. <br>\n",
    "\n",
    "- Bu tür öğrenme genellikle \"etiketlenmiş veri\" ile gerçekleştirilir, yani her girdiye karşılık gelen bir çıktı etiketi bulunur.\n",
    "- Gözetimli öğrenmenin ana adımları şunlardır:\n",
    "  - Ver toplama ve hazırlığı\n",
    "  - Model seçimi ve eğitimi\n",
    "  - Model değerlendirilmesi\n",
    "  - Model ayarlanması ve hiperparametre optimizasyonu\n",
    "- Gözetimli öğrenme, sınıflandırma ve regresyon gibi çeşitli problemleri çözmek için kullanılabilir.\n",
    "- Örnek uygulamalar arasında hatalık teşhisi, müşteri tercihlerini tahmin etme, pazar segmentasyonu ve hisse senedi fiyatlarını tahmin etme bulunmaktadır.\n",
    "  \n",
    "![Resim Açıklaması](images/gozetimli_ogrenme.png)\n",
    "\n",
    "\n",
    "**Gözetimli Öğrenme Algoritmaları** \n",
    "\n",
    "- Sınıflandırma\n",
    "  - K-En yakın komşu\n",
    "  - Karar ağaçları\n",
    "  - Rasgele Orman\n",
    "  - Logistic Regresyon\n",
    "  - Destek Vektör Makinesi\n",
    "  - Naive Bayes\n",
    "- Regresyon\n",
    "  - Lineer Regresyon\n",
    "  - Çoklu Lineer Regresyon\n",
    "  - Polinom Regresyon"
   ]
  },
  {
   "cell_type": "markdown",
   "id": "7a50564d-d8fd-4aaa-a01f-03fa593b5b91",
   "metadata": {},
   "source": [
    "## Sınıflandırma"
   ]
  },
  {
   "cell_type": "markdown",
   "id": "450b4643-6b32-46e0-b1b7-4b575c373c5e",
   "metadata": {
    "jp-MarkdownHeadingCollapsed": true
   },
   "source": [
    "### K-En Yakın Komşu (KNN)"
   ]
  },
  {
   "cell_type": "markdown",
   "id": "69031e83-4e08-4f60-8391-1f451c5f877c",
   "metadata": {},
   "source": [
    "- K-Nearest  Neighbors (KNN), makine öğrenimi alanında sınıflandırma ve regresyon problemlerini çözmek için kullanılan basit ve popüler bir algoritmadır.\n",
    "- Temelde, bir veri noktasının sınıfını tahmin etmek veya bir değeri öngörmek için en yakın komşuların etrafındaki veri noktalarının etiketlerini veya değerlerini kullanır.\n",
    "\n",
    "![Resim Açıklaması](images/knn.png)\n",
    "\n",
    "$x_1$ ve $x_2$ bizim featurelarımız. <br> \n",
    "etiket : CategoryA, CategoryB <br> \n",
    "\n",
    "Burda $x_1$ ve $x_2$ değerlerine karşılık gelen iki sınıflı bir sınıflandırma problemidir.  Sınıflandırma problemini KNN ile çözebiliriz.  Burda yeni bir nokta veriyor ve bunun $x_1$ ve $x_2$ değerlerini veriyor ve bu noktanın hangi sınıfa ait olduğunu KNN ile tahmin etmye çalışacak. \n",
    "\n",
    "K en yakın komşuya bakar.  K dediğimiz şey bir hyper parametredir.  Hiper parametre dediğimiz şey bizim tarafımızdan seçiliyor. \n",
    "\n",
    "K = 3 seçilirse, en yakın veri noktalarına bakılır. Mesafe olarak en yakın 3 noktalara bakar. Hangi nokta en yakın ise o sınıfa geçer. "
   ]
  },
  {
   "cell_type": "markdown",
   "id": "f4a592d0-c5a1-4a36-aa05-c99ef85e9bf6",
   "metadata": {},
   "source": [
    "**KNN algoritma akış şeması**\n",
    "\n",
    "\n",
    "![Resim Açıklaması](images/knn_akis_semasi.png)"
   ]
  },
  {
   "cell_type": "markdown",
   "id": "35dbdfb6-2edf-4179-a08a-504250e1150c",
   "metadata": {},
   "source": [
    "- **K Nasıl seçilir?**\n",
    "-  **Mesafe Nedir?** mesafe (distance) da bir hyper parameter dir. \n",
    "  A noktasından B noktasına gidiş yöntemi. \n",
    "  - **Euclieden** : İki nokta arasında doğrusal mesafeyi ölçer. \n",
    "  - **Manhattan** : İki nokta arasındaki ölçümü gerçekleştirir. Dikdörtgen çizgisine dayalı olarak gerçekleştirir. Manhattan mesafesi düşük boyutlu veri setlerinde ve kategorik değişkenlerle çalışırken etkilidir. Öznitelik arasındaki farklar daha az olduğunda kullanılır. \n",
    "  - **Minkowski** : Euclidean ve Manhattan mesafesini genelleştiren bir mesafe türüdür. Minkowski de bir tane p parametresi vardır. Eğer p parametresi 2 ise euclidean mesafesine yaklaşır 2 den küçükse manhattan mesafesine yaklaşır. \n",
    "  - **Hamming**   : Kategorik değişkenler arasındaki mesafeyi ölçer. iki vektör arasındaki eşleşmeyen öğe sayısını hesaplar. \n",
    "- **K adet küçük mesafeyi seç**\n",
    "  ![Resim Açıklaması](images/knn_.png)\n",
    "\n",
    "  - Elbow method, KNN(K-Nearest neighbors) gibi kümeleme veya sınıflandırma algoritmalarında K (komşu sayısı) değerini seçmek için kullanılan bir tekniktir.\n",
    "  - Bu yöntem, farklı K değerlerini deneyerek modelin performansını değerlendirir ve optimum K değerini belirlemeye çalışır.\n",
    "  - Elbow methodu, K değerinin artmasıyla birlikte modelin performansındaki azalışın hızının azalması ve eğrinin dirsek gibi bükülmesi prensibine dayanır.\n",
    "  - Elbow methodu, K değerinin artmasıyla birlikte modelin performansındaki(hatanın azalışı) azalışın hızının azalması ve eğrinin dirsek gibi bükülmesi prensibine dayanır.\n",
    "    ![Resim Açıklaması](images/elbow.png)\n",
    "\n",
    "\n",
    "    ![Resim Açıklaması](images/knn_hiperoptimizasyon.png)\n",
    "\n",
    "    K çok küçükken train accuracy çok yüksek test accuracy çok düşük çıkıyor bu underfitting demektir. Yani KNN algoritmamız öğrenemedi. Sonrasında K değeri arttıkça test ve train accuracy leri birbirine çok yakın olmaya başladı. Modelin yapması gereken işi yapıyor anlamındadır.\n",
    "    \n",
    "- **K için x, y, z etiketleri olsun**\n",
    "- **seçme**\n",
    "Eğer $x>y>z$ ise  x'in karşılığındaki etiket ne ise o sınıf seçilir. \n",
    "\n",
    "\n",
    "**KNN Uygulama Alanları**\n",
    "\n",
    "- Sağlık\n",
    "- E-ticaret\n",
    "- Finans\n",
    "\n",
    "- Avantajları\n",
    "  - Basitlik ve doğruluk\n",
    "  - Parametre ayarının kolaylığı\n",
    "  - Örnek bazlı öğrenme\n",
    "- Dezavantajları\n",
    "  - Boyutluluk problemi\n",
    "  - Veriye duyarlılık\n",
    "  - Yüksek hesaplama maliyet\n",
    "\n"
   ]
  },
  {
   "cell_type": "markdown",
   "id": "3657d470-94a6-4eca-b869-49d6f2d4a15e",
   "metadata": {},
   "source": [
    "#### KNN Durum Çalışması"
   ]
  },
  {
   "cell_type": "markdown",
   "id": "bf6328f0-e16d-417e-a729-9db3a7f28297",
   "metadata": {},
   "source": [
    "- Features (öznitelikler)  $x_1$ ve $x_2$ olsun.\n",
    "\n",
    "![Resim Açıklaması](images/knn_1.png)\n"
   ]
  },
  {
   "cell_type": "markdown",
   "id": "b630c1b7-db51-4063-941d-5032cb415073",
   "metadata": {},
   "source": [
    "K = 3 seçelim.   (literatürde K için 1,3,5 gibi tek sayı seçimi önerilir.)\n",
    "\n",
    "1- Distance(mesafe) hesaplayalım. (Eucladian) \n",
    "Euclidean Distance: $$\n",
    "d = \\sqrt{\\sum_{i=1}^n (x_i - y_i)^2}\n",
    "$$\n",
    "\n",
    "1. $(1,1) -> (1.5, 2) = \\sqrt{(1.5-1)^2 + (2-1)^2} = 1.1 $\n",
    "2. $(2,1) -> (1.5, 2) = \\sqrt{(1.5-2)^2 + (2-1)^2} = 1.1 $\n",
    "3. $(1,2) -> (1.5, 2) = \\sqrt{(1.5-1)^2 + (2-2)^2} = 0.5 $  \n",
    "4. $(3,3) -> (1.5, 2) = \\sqrt{(1.5-3)^2 + (2-3)^2} = 1.8 $\n",
    "5. $(4,3) -> (1.5, 2) = \\sqrt{(1.5-4)^2 + (2-1)^3} = 2.7 $\n",
    "6. $(3,4) -> (1.5, 2) = \\sqrt{(1.5-3)^2 + (2-4)^2} = 2.5 $\n",
    "\n",
    "K=3 için en yakın 3 komşusu 1,2,3 nolu A etiketli komşular olduğundan A etiketini alır.  \n",
    "\n",
    "1. $(1,1) \\to (4,4) = \\sqrt{(4-1)^2 + (4-1)^2} = 4.243  $  \n",
    "2. $(2,1) \\to (4,4) = \\sqrt{(4-2)^2 + (4-1)^2} = 3.606  $ \n",
    "3. $(1,2) \\to (4,4) = \\sqrt{(4-1)^2 + (4-2)^2} = 3.606  $\n",
    "4. $(3,3) \\to (4,4) = \\sqrt{(4-3)^2 + (4-3)^2} = 1.414  $\n",
    "5. $(4,3) \\to (4,4) = \\sqrt{(4-4)^2 + (4-3)^2} = 1.0    $\n",
    "6. $(3,4) \\to (4,4) = \\sqrt{(4-3)^2 + (4-4)^2} = 1.0    $\n",
    "\n",
    "En yakın 3 komşusu 5,6 ve 7 nolu noktaları B etiketli olduğundan (4,4) noktası da B etiketini alır. "
   ]
  },
  {
   "cell_type": "markdown",
   "id": "d189cacc-a8cc-4c09-a4e5-273c3cb86afc",
   "metadata": {},
   "source": [
    "### Karar Ağaçları"
   ]
  },
  {
   "cell_type": "markdown",
   "id": "86097d45-0ed7-41a9-b653-bc424c0e05dc",
   "metadata": {},
   "source": [
    "- Karar ağaçları, ağaç yapısı şeklindeki bir dizi karar kuralıyla veri kümesini bölerek hedef değişkenin tahmin edilmesini sağlar. \n",
    "\n",
    "![Resim Açıklaması](images/karar_agaci.png)\n",
    "\n",
    "- Karar ağacı, hem sınıflandırma hemde regresyon görevleri için kullanılan parametrik olmayan bir denetimli öğrenme algoritmasıdır.\n",
    "- Bu algoritma, kök düğüm, dallar, iç düğümler ve yaprak düğümlerinden oluşan hiyerarşik bir ağaç yapısına sahiptir.\n",
    "\n",
    "![Resim Açıklaması](images/k_agac_ornek.png)\n",
    "\n",
    "Bu örnekte, düğümler(nodes) deki değerler, \n",
    "\n",
    "- Age (yaş)\n",
    "- Weight (kilo)\n",
    "- Smoker (sigara içip içmeme durumu)  bilgiler var.\n",
    "\n",
    "Yapraklarda da \n",
    "\n",
    "- low risk (düşük risk)\n",
    "- high risk (yüksek risk)\n",
    "\n",
    "değerleri vardır.  Bu durum kalp krizini önlemek için riskleri anlamak ile ilgili oluşturulmuş bir karar ağacıdır. \n",
    "\n",
    "Örnek: \n",
    "- Age = 17 ise  sol daldan devam edilecek. \n",
    "- kilo = 30 ise < 60 olduğundan sol daldan devam edecek ve **\"low risk\"** yaprağına ulaşırız.\n"
   ]
  },
  {
   "cell_type": "markdown",
   "id": "3f23cf27-a536-4c37-a17e-07b864956dda",
   "metadata": {},
   "source": [
    "Düğümlerin(node) içerisinde yazılan bilgiler feature'larımızdır.  Peki veritabanından bu öznitelikler nasıl seçiliyor? "
   ]
  },
  {
   "cell_type": "markdown",
   "id": "8431f4e1-60a7-4fef-a46f-06683d593704",
   "metadata": {},
   "source": [
    "Örnek: \n",
    "\n",
    "![Resim Açıklaması](images/k_agac_o2.png)"
   ]
  },
  {
   "cell_type": "markdown",
   "id": "a796da91-0d22-4d73-b80f-c89d7a780016",
   "metadata": {},
   "source": [
    "### Karar Ağacı Türleri "
   ]
  },
  {
   "cell_type": "markdown",
   "id": "9d7161d5-242c-4bba-9b37-f548369cea0d",
   "metadata": {},
   "source": [
    "* ID3 (Iterative Dichotomiser 3)\n",
    "  - Bu algoritma, aday bölünmeleri değerlendirmek için **entropi** ve **bilgi kazancını** kullanır.\n",
    "* C4.5\n",
    "  - ID3'ün daha sonraki bir versiyonu olarak kabul edilir.\n",
    "  - Karar ağaçlarında bölme noktalarını değerlendirmek için bilgi kazancı veya kazanç oranlarını kullanabilir.\n",
    "* CART (sınıflandırma ve regresyon ağaçları)\n",
    "  - Bu algoritma genellikle ideal bölünme özelliğini belirlemek için **Gini** (indeksi) karşılığını kullanır.\n",
    "  - Gini karşılığı, rastgele seçilen bir özelliğin ne sıklıkla yanlış sınıflandırıldığını ölçer.\n",
    "  - Gini karışıklığını kullanarak değerlendirirken, daha düşük bir değer daha idealdir. "
   ]
  },
  {
   "cell_type": "markdown",
   "id": "0118b38a-c5c1-4535-a724-edb58f203b57",
   "metadata": {},
   "source": [
    "**Karar ağacı türlerinin karşılaştırılması**\n",
    "\n",
    "| | ID3 | C4.5 | CART |\n",
    "|-|-----|------|------|\n",
    "|**Veri Tipi** | Kategorik | Sürekli ve Kategorik | Sürekli ve Kategorik |\n",
    "|**Veri Boyutu** | Orta ve küçük veri setleri  | Orta ve büyük veri setleri | Büyük veri setleri |\n",
    "|**Hız** | Kategorik | Sürekli ve Kategorik | Sürekli ve Kategorik |\n",
    "|**Boosting** | Yok | Yok | Var (Rastgele ormanlar, Gradient Boosting) |\n",
    "|**Kayıp veri** | Hassas | Orta düzeyde hassas | Yüksek (kayıp verinin üstesinden gelebilir.) |\n",
    "|**Algoritma** | Entropi ve Bilgi kazancı | Bölme bilgisi ve kazanç oranı | Gini impurity |"
   ]
  },
  {
   "cell_type": "markdown",
   "id": "53d40690-3e95-485d-8def-241ab559a3ff",
   "metadata": {},
   "source": [
    "#### ID3"
   ]
  },
  {
   "cell_type": "markdown",
   "id": "5d3d2af3-1b34-41db-a485-2f682c04111e",
   "metadata": {},
   "source": [
    "1. Her özniteliğin bilgi kazancını hesapla. (Information Gani)\n",
    "2. Karar ağacı düğümünü seçilen özniteliğin değerleriyle genişlet\n",
    "3. Başka sınıflandırılmamış örnek kaldı mı? (Evet ise 4. adıma git yoksa bitir)\n",
    "4. Kalan öznitelikler ile devam et? (1. adıma git) "
   ]
  },
  {
   "cell_type": "markdown",
   "id": "8c0391b6-75dc-4b7f-bc05-e9360cf6f994",
   "metadata": {},
   "source": [
    "**Bilgi kazancı (Information Gain)**\n",
    "\n",
    "- Bir özelliğin bölünme noktasının ne kadar iyi olduğunu belirlemek için kullanılır.\n",
    "- Özü, bir özelliğin seçilmesinin, veri kümesinin ne kadar iyi sınıflandırılacağına dair belirsizliği azaltıp azaltmadığını ölçmektir.\n",
    "- Yani, bir özellik seçildiğinde, yeni oluşan alt kümelerin daha homojen olup olmadığını değerlendirir.\n",
    "- Bilgi kazancı ne kadar yüksekse, bir özellik o kadar iyi bir bölünme kriteri olarak kabul edilir.\n",
    "\n",
    "\n",
    "$Gain(S, A) = Entropy(S) - \\sum_{v \\in Values(A)} \\frac{|S_v|}{|S|} Entropy(S_v)$"
   ]
  },
  {
   "cell_type": "markdown",
   "id": "af939c66-c526-49d1-8c72-978346ec1bf6",
   "metadata": {
    "jp-MarkdownHeadingCollapsed": true
   },
   "source": [
    "Bu formül, bilgi kazancını (Gain) hesaplamak için kullanılır. \n",
    "- S : tüm veri setini\n",
    "- A : tüm veri seti içerisineki bakılacaklar\n",
    "- Entropy(S), S kümesinin entropisini temsil eder ve\n",
    "- Entropy(S_v), A özelliğinin v değeri için S kümesinin alt kümesi S_v'nin entropisini ifade eder.\n",
    "\n",
    "Bilgi kazancını hesaplayabilmek için, tüm verisetinin entropisini hesaplayabilmemiz ve her bir feature'ın entropisini hesaplayıp toplayıp tüm veri setinden çıkartmamız gerekiyor. \n",
    "\n",
    "\n",
    "\n"
   ]
  },
  {
   "cell_type": "markdown",
   "id": "7c67e066-808f-4aba-afe9-5ced9d7be63c",
   "metadata": {},
   "source": [
    "**Entropi (karışıklık, karmaşıklık)** \n",
    "\n",
    "- Karar ağaçları (decision trees) içinde entropi, belirli bir düğümdeki veri noktalarının sınıflarının ne kadar karışık olduğunu ölçen bir metriktir. \n",
    "- Daha düşük bir entropi değeri, bir düğümün daha homojen sınıflara sahip olduğunu, yani veri noktalarının çoğunluğunun aynı sınıfa ait olduğunu gösterir.\n",
    "- Daha yüksek bir entropi değeri ise, bir düğümün daha karışık sınıflara sahip olduğunu, yani veri noktalarının farklı sınıflara daha eşit olarak dağıldığını gösterir.\n",
    "\n",
    "![Resim Açıklaması](images/entropi.png)\n",
    "\n",
    "1. E(S) : Tüm veri setinin entropisine bak.\n",
    "2. $P_i$ : i'nin olasılığı\n",
    "3. $log_2P_i$ : 2 tabanında olasılık i\n",
    "4. (2. adım ile 3. adımı çarp) Bunları $i=1$ den $c$ ye kadar topla.\n",
    "5. $P_1$ : YES ifade edecek\n",
    "6. $P_2$ : NO ifade edecek\n",
    "\n",
    "YES olma ihtimali nedir? \n",
    "\n",
    "$9 + 5 = 14$ adet verimiz var. \n",
    "\n",
    "- P1 = $9/4$\n",
    "- P2 = $5/14$\n",
    "\n",
    "$[max_{entropi}=1, min_{entropi}=0]$ dır. Bu yüzden entropi $[0,1]$ arasında değişiklik gösterir. \n",
    "\n",
    "Özetle, entropinin düşük olması istenir. Entropi karmaşıklıktır. Entropi düşük olursa information gain' de yüksek çıkacaktır. Entropi yüksek çıkarsa, bilgi kazancı düşük çıkacaktır. Bizim istemediğimiz(feature) durumudur. "
   ]
  },
  {
   "cell_type": "markdown",
   "id": "fd78f38b-b494-47bd-833a-f76ad8d1d840",
   "metadata": {},
   "source": [
    "**ID3 Durum Çalışması**\n",
    "\n",
    "![Resim Açıklaması](images/k_agac_o2.png)\n",
    "\n",
    "Burdaki veri setini kullanarak bir ID3 inşaa edelim. \n",
    "\n",
    "1. Veri setinin entropisini hesapla $Entropy(S)$ (etiketin entropisi)\n",
    "2. Veri setinden Outlook, Temperature, Humidity ve Wind bu dört feature(sütun) kullanılarak futbol oynayıp oynamayacağını karar verilen bir veri setidir.  4 adet feature ve 1 adet etiket'ten oluşmaktadır. Burdaki etiket alanı (Played sütunu).\n",
    "\n",
    "- Etiket alanı (Played) ta kaçtane Yes kaçtane No var onları tespit ediyoruz.\n",
    "- YES = 9 (P+ = 9/14)\n",
    "- NO  = 5 (P- = 5/14)\n",
    "- TOPLAM ETİKET SAYISI = 14\n",
    "\n",
    "$ S = [ 9, 5   ] $ <br>\n",
    "$ E(S) = -P + log_2*(P+) - P - log_2*(P-)$ <br>\n",
    "$ E(S) = -9/14 * log_2 * 9/14  -5/14 log_2 * 5/14 $ <br>\n",
    "$ E(S) = 0.94 $ <br>\n",
    "\n",
    "Entropi $[0,1]$ arasında olmaktadır ve veri setimizin etiket sütunun entropisi $0.94$ olduğundan ve 1' e yakın olduğundan veri setinin entropisi karmaşık bir veri setidir. Homojen değildir ve istediğimiz bir durum değildir. \n",
    "\n",
    "Bilgi kazancını hesaplayabilmek için her bir feature'ın yanin sütunların entropisini hesaplamalıyız. \n",
    "\n",
    "\n"
   ]
  },
  {
   "cell_type": "markdown",
   "id": "2150b2f5-337a-4ebd-bc6a-9099668d3894",
   "metadata": {},
   "source": [
    "**Outlook** feature (sütununun) entropisini hesaplayalım. \n",
    "\n",
    "- $S_v$= Sunny    = 5  \n",
    "- $S_v$= Overcast = 4 \n",
    "- $S_v$= Rain     = 5 \n",
    "\n",
    "$S_v = S_{sunny}$'nin entropisi için Etiket sütunundaki kaçtane Yes kaçtane No var onları sayıyoruz. \n",
    "\n",
    "- $S_{sunny}$ = Yes = 2 (P+ = 2/5)\n",
    "- $S_{sunny}$ = No  = 3 (P- = 3/5)\n",
    "- $E(S_{sunny}) = -2/5 * log_2 * 2/5 - 3/5 * log_2 * 3/5$\n",
    "- $E(S_{sunny}) = 0.971$  gibi yüksek entropi değeri çıkıyor. \n",
    " \n",
    "$S_v = S_{overcast}$'nin entropisi için Etiket sütunundaki kaçtane Yes kaçtane No var onları sayıyoruz. \n",
    "\n",
    "- $S_{overcast}$ = Yes = 4 (P+ = 4/4)\n",
    "- $S_{overcast}$ = No  = 0 (P- = 0/4)\n",
    "- $E(S_{overcast}) = 0$ çünkü homojen bir dağılım söz konusu karmaşıklık yok. \n",
    "\n",
    "$S_v = S_{rain}$'nin entropisi için Etiket sütunundaki kaçtane Yes kaçtane No var onları sayıyoruz. \n",
    "\n",
    "- $S_{rain}$ = Yes = 3 (P+ = 3/5)\n",
    "- $S_{rain}$ = No  = 2 (P- = 2/5)\n",
    "- $E(S_{rain}) = -3/5 * log_2 * 3/5 - 2/5 * log_2 * 2/5$\n",
    "- $E(S_{rain}) = 0.971 $ çünkü homojen bir dağılım söz konusu karmaşıklık yok. \n",
    "\n"
   ]
  },
  {
   "cell_type": "markdown",
   "id": "40c81186-a5c3-4d12-82db-2850a518a366",
   "metadata": {},
   "source": [
    "- $Gain(S, outlook) = 0.94 - [5/14 * 0.971 + 4/14 * 0 + 5/14 * 0.971] $\n",
    "- $Gain(S, outlook) = 0.2464$\n",
    "\n",
    "Sonuç olarak Outlook(sütunun=feature)'un Information Gain'nin bulmuş oluyoruz. "
   ]
  },
  {
   "cell_type": "markdown",
   "id": "8d7817a9-daa7-40c8-87bc-3f2abb4217b0",
   "metadata": {},
   "source": [
    "Aynı yöntemlerle, \n",
    "- Gain(S, Outlook) = 0.2464\n",
    "- Gain(S, Temperature) = 0.0289\n",
    "- Gain(S, Humidity) = 0.15\n",
    "- Gain(S, Wind) = 0.04\n",
    "\n",
    "olarak bulunur. \n",
    "\n",
    "Burda amacımız en büyük bilgi kazancını bulmaktı. (Gain) baktığımızda en büyük bilgi kazancı Gain(S, Outlook) = 0.2464 ile tespit edilir.  Bu, root node(düğüm)  \"outlook\" olarak tespit edilir.  Bu root node (outlook) kaça ayrılacağını kaç alt entropi hesapladıysak ona göre alt düğümlere ayrılacaktır. (Sunny, Overcast, Rain) olarak 3'e ayrıldığı görülmektedir.   Bunların (leaf) mi yoksa (node) mu olduğunu tespit etmek için, \n",
    "\n",
    "- Sunny = 2 pozitif, 3 negatif var.\n",
    "- Overcast = 4 pozitif (yes) yani \"leaf\" olarak atanır.\n",
    "- Rain = 3 pozitif, 2 negatif var.\n",
    "\n",
    "Bu duruma bakıyoruz ve Overcast 4 pozitif olduğundan alt dallanma olmamaktadır. Ancak  Sunny ve Rain alt dallanma yapmaktadır.  İlk önce veri setinden Sunny kısmına odaklanıyoruz. \n",
    "-  Outlook'un Sunny olan kısımlarının tamamını seçiyoruz ve Ve yukarıda yapılan $Gain(S, outlook)$ için yapılan kısmı bu sefer $Gain(S, sunny)$ için yapıyoruz. sırasıyla temperature, humidity ve wind kısımlarını yapıp alt dal kısımlarını yapıyoruz. Bu işlemler alt dallanmalar düğümler varsa devam edecek eğer leaf varsa sonlanacak. Ardından Bu işlemler,\n",
    "-  $Gain(S, rain)$ içinde devam edecektir.\n",
    "\n",
    "\n",
    "\n",
    "\n"
   ]
  },
  {
   "cell_type": "markdown",
   "id": "5f92ee32-c9ca-4eb2-8f67-24e80b5f3c52",
   "metadata": {},
   "source": [
    "#### CART (Sınıflandırma ve Regresyon Ağaçları)"
   ]
  },
  {
   "cell_type": "markdown",
   "id": "6759bbf9-3851-45fe-9980-2387a8f86378",
   "metadata": {},
   "source": [
    "**Algoritma Akışı** \n",
    "1. Her özniteliğin, **Gini impuritiy (gini belirsizliği)** değerini en düşük Gini impurity değerine sahip özniteliği seç\n",
    "2. Karar ağacı düğümünü seçilen özniteliğin değerleriyle genişlet.\n",
    "3. Koşul: Başka sınıflandırılmamış örnek kaldı mı?\n",
    "4. Koşul Evet ise 1. adıma git: Kalan öznitelikler ile devam et. \n",
    "\n",
    "**Gini Impurity**\n",
    "\n",
    "- Gini belirsizliği, bir başka karar ağacı algoritması olan CART(Sınıflandırma ve Regresyon Ağaçları) tarafından kullanılan bir ölçümdür.\n",
    "- Bir düğümdeki veri noktalarının farklı sınıflara dağılımının ne kadar karışık olduğunu ölçer.\n",
    "  - Burada Gini = karışıklık ise karar ağaçlarında karışıklığın(gini) az(düşük) olmasını isteriz.\n",
    "- Gini karışıklığı, $[0, 0.5]$ arasında bir değer alır. O en saf durumu (yani tüm veri noktalarının aynı sınıfa ait olduğu durumu), 0.5 ise en karışık durumu ifade eder.\n",
    "   - 2 etiket alırsa -> $[0, 0.5]$ arasında\n",
    "   - N etiket alırsa -> $[0, 1]$ arasında gini değeri değişiklik gösterecektir.\n",
    "- Bir düğümün **Gini karışıklığı ne kadar düşükse, o kadar homojen sınıflara sahip olur** ve böylece daha iyi bir bölünme kriteri olarak kabul edilir.\n",
    "    - 0 : homojen\n",
    "    - 1 : heterojen (karmaşık)\n",
    "\n",
    "![Resim Açıklaması](images/gini_impurity.png)\n",
    "\n",
    "\n",
    "**Gini Impurity Örneği** \n",
    "\n",
    "Yes ve No etiketine sahip 144 veriden oluşan Heart Disease (Kalp Hastalığı) ile ilgili bir durum. Kalp hastalarının görülme durumu, \n",
    "- Yes : 105\n",
    "- No  :  39\n",
    "\n",
    "Böyle bir verimiz varsa, Bunun Gini değerini hesaplayalım. Burda Yes ve No olarak 2 etiket olduğu için $0, 0.5$ arasında gini değerini alabilir. 2'li sınıflandırma problemi. Burda etiket sayısı Yes ve No olduğu için  $i={0,1}$ değerlerini alır. \n",
    "- $P-0 = Yes$\n",
    "\n",
    "- $P-1 = No$\n",
    "- $1- [(P_0)^2 + (P_1)^2)$\n",
    "- $1- [(105/144)^2 + (39/144)^2) = 0.4$\n",
    "\n",
    "Sonuç $0.4$ çıkması karışıklığın yüksek olduğu anlamına gelir. \n",
    "\n"
   ]
  },
  {
   "cell_type": "markdown",
   "id": "5834c492-4f25-4697-be36-8801a92e36d8",
   "metadata": {},
   "source": [
    "Örnek;  $100$ adet veri setinden   A etiketinden 100 adet, B etiketinden 0 tane olsun. Bunun Gini değerini hesaplayalım. \n",
    "\n",
    "- $P-0 = A$\n",
    "- $P-1 = B$\n",
    "- $1- [(P_0)^2 + (P_1)^2)$\n",
    "- $1- [(100/100)^2 + (0/100)^2) = 0$\n",
    "\n",
    "Sonuç $0$ çıktığından gini belirsizliğinin olmadığı anlamına gelir. "
   ]
  },
  {
   "cell_type": "markdown",
   "id": "dd219faf-b111-4e94-a6f4-16027e0352a5",
   "metadata": {},
   "source": [
    "**Cart Durum Çalışması**\n",
    "\n",
    "| Weekend | Weather | Parents | Money | Decision |\n",
    "|---------|---------|---------|-------|----------|\n",
    "| w1      | Sunny   | Yes     | Rich  | Cinema   |\n",
    "| w2      | Sunny   | No      | Rich  | Tennis   |\n",
    "| w3      | Windy   | Yes     | Rich  | Cinema   |\n",
    "| w4      | Rainy   | Yes     | Poor  | Cinema   |\n",
    "| w5      | Rainy   | No      | Rich  | Stay In  |\n",
    "| w6      | Rainy   | Yes     | Poor  | Cinema   |\n",
    "| w7      | Windy   | No      | Poor  | Cinema   |\n",
    "| w8      | Windy   | No      | Rich  | Shopping |\n",
    "| w9      | Windy   | Yes     | Rich  | Cinema   |\n",
    "| w10     | Sunny   | No      | Rich  | Tennis   |\n"
   ]
  },
  {
   "cell_type": "markdown",
   "id": "895793dd-689f-4c50-900a-2874a5fcfe34",
   "metadata": {},
   "source": [
    "Örnek sayısı 10,  feature öz niteliklerimiz {Weather, Parents, Money}, Etiketimiz ise **Decision** dır.  Biz decision'ı tahmin etmeye çalışacağız. 4 tür etiket olduğundan 4'lü sınıflandırma problemidir. Burda da **{Cinema, Tennis, Stay In, Shopping}** olmak üzere 4 farklı etiket söz konusudur. "
   ]
  },
  {
   "cell_type": "markdown",
   "id": "b0a2f10f-8d50-4ee9-a7c6-dce8f034a984",
   "metadata": {},
   "source": [
    "Amacımız; hava durumuna, ailemizin yanımızda olup olmamasına, ve para durumumuza göre yapacağımız aktiviteye karar vermemizdir. Bunun için, Gini indeksini kullanacağız, her bir feature ait gini değerini hesaplayacağız sonrasında ginilerin ağırlıklı ortalamasını hesaplayacağız ve karar verilecek. "
   ]
  },
  {
   "attachments": {},
   "cell_type": "markdown",
   "id": "6cad5921-5208-4605-820a-720004400631",
   "metadata": {},
   "source": [
    "1. **Adım Money**\n",
    "\n",
    "Money \t{Rich, Poor) <br>\n",
    "- Money_rich\t7 adet \n",
    "- Money_poor\t3 adet\n",
    "\n",
    "|          | Cinema | Tennis | Shopping | Stay In |\n",
    "|----------|--------|--------|----------|---------|\n",
    "| **Money (Poor)** | 3      | 0      | 0        | 0       |\n",
    "\n",
    "<br>\n",
    "\n",
    "\n",
    "- $Gini(Money_{poor}) = 1 - [(3/3)^2 + (0/3)^2 + (0/3)^2 + (0/3)^2]$\n",
    "- $Gini(Money_{poor}) = 0$\n",
    "\n",
    "|          | Cinema | Tennis | Shopping | Stay In |\n",
    "|----------|--------|--------|----------|---------|\n",
    "| **Money (Rich)** | 3      | 2      | 1        | 1       |\n",
    "\n",
    "<br>\n",
    "\n",
    "- $Gini(Money_{rich}) = 1 - [(3/7)^2 + (2/7)^2 + (1/7)^2 + (1/7)^2]  $\n",
    "- $Gini(Money_{rich}) = 0.69$\n",
    "\n",
    "<br><br>\n",
    "- **Ağırlıklı Ortalama**  \n",
    "- $Gini(Money) = 0 * 3/10 + 0.69 * 7/10  $\n",
    "- $Gini(Money) = 0.48$"
   ]
  },
  {
   "attachments": {},
   "cell_type": "markdown",
   "id": "96f91708-2c7b-41b7-973e-86f43dd4b1f9",
   "metadata": {},
   "source": [
    "2. **Adım Parents**\n",
    "\n",
    "- Parents\t{Yes, No) \n",
    "- Parents_yes\t5 adet\n",
    "- Parents_no\t5_adet\n",
    "\n",
    "|          | Cinema | Tennis | Shopping | Stay In |\n",
    "|----------|--------|--------|----------|---------|\n",
    "| **Parents (Yes)** | 5      | 0      | 0        | 0       |\n",
    "\n",
    "<br>\n",
    "\n",
    "\n",
    "- $Gini(Parents_{yes}) = 1- [(5/5)^2 + (0/5)^2 + (0/5)^2 + (0/5)^2 ]$\n",
    "- $Gini(Parents_{yes}) = 0$\n",
    "\n",
    "|          | Cinema | Tennis | Shopping | Stay In |\n",
    "|----------|--------|--------|----------|---------|\n",
    "| **Parents (No)** | 1      | 2      | 1        | 1       |\n",
    "\n",
    "<br>\n",
    "\n",
    "- $Gini(Parents_{no}) = 1- [(1/5)^2 + (2/5)^2 + (1/5)^2 + (1/5)^2 ]  $\n",
    "- $Gini(Parents_{no}) = 0.72$\n",
    "\n",
    "<br><br>\n",
    "- **Ağırlıklı Ortalama**  \n",
    "- $Gini(Parents) = 0 * 5/10 + 0.72 * 5/10 $\n",
    "- $Gini(Parents) = 0.36$"
   ]
  },
  {
   "attachments": {},
   "cell_type": "markdown",
   "id": "9de26df5-1aa4-4c36-91a0-6f91a875a234",
   "metadata": {},
   "source": [
    "3. **Adım Weather**\n",
    "\n",
    "- Weather\t{Yes, No)\n",
    "- $Weather_{sunny} = 3$  adet\n",
    "- $Weather_{windy} = 4$  adet\n",
    "- $Weather_{rainy} = 3$  adet\n",
    "\n",
    "\n",
    "|          | Cinema | Tennis | Shopping | Stay In |\n",
    "|----------|--------|--------|----------|---------|\n",
    "| **Weather(sunny)** | 1      | 2      | 0        | 0       |\n",
    "\n",
    "<br>\n",
    "\n",
    "\n",
    "- $Gini(Weather_{sunny}) = 1- [(1/3)^2 + (2/3)^2 + (0/3)^2 + (0/3)^2 ]$\n",
    "- $Gini(Weather_{sunny}) = 0.44$\n",
    "\n",
    "\n",
    "|          | Cinema | Tennis | Shopping | Stay In |\n",
    "|----------|--------|--------|----------|---------|\n",
    "| **Weather_{windy}** | 3      | 0      | 1        | 0       |\n",
    "\n",
    "<br>\n",
    "\n",
    "- $Gini(Weather_{windy}) = 1- [(3/4)^2 + (0/4)^2 + (1/4)^2 + (0/4)^2 ] $\n",
    "- $Gini(Weather_{windy}) = 0.375$\n",
    "\n",
    "\n",
    "|          | Cinema | Tennis | Shopping | Stay In |\n",
    "|----------|--------|--------|----------|---------|\n",
    "| **Weather_{rainy}** | 2      | 0      | 0        | 1       |\n",
    "\n",
    "<br>\n",
    "\n",
    "- $Gini(Weather_{rainy}) = 1- [(2/3)^2 + (0/3)^2 + (0/3)^2 + (1/3)^2 ] $\n",
    "- $Gini(Weather_{rainy}) = 0.44$\n",
    "\n",
    "\n",
    "<br><br>\n",
    "- **Ağırlıklı Ortalama**  \n",
    "- $Gini(Weather) = 0.44*3/10 + 0.375 * 4/10 + 0.44*3/10 $\n",
    "- $Gini(Weather) = 0.41$"
   ]
  },
  {
   "attachments": {},
   "cell_type": "markdown",
   "id": "4786794a-9e23-4f68-86a2-d0d191a425dd",
   "metadata": {},
   "source": [
    "**Ağaç yapısının oluşturulması**\n",
    "\n",
    "- Gini(Money)\t0.48\n",
    "- Gini(Parents)\t0.36\n",
    "- Gini(Weather)\t0.41\n",
    "\n",
    "Feature'ların  ağırlıklı ortalamalarından **en küçük** olanı yarışı kazanır ve kök düğüm olarak seçilir. Burda  $ Gini(Parents)\t0.36 $  değeri ile aday kök düğüm **Parents** seçilir. \n",
    "\n",
    "![Resim Açıklaması](images/card.png)\n",
    "\n",
    "Çıkan durumda Parents yes olma durumunda Cinema yaprağına ulaşılır, ancak No çıkması durumunda oluşabilecek durumlar farklı olduğundan **Parents(No)** durumu için tüm işlemler 1. adımdan başlar ve bu şekilde son yaprağa ulaşılana kadar devam edilir. "
   ]
  },
  {
   "cell_type": "markdown",
   "id": "8c7b423f-7a09-436c-8161-fc99d9b65d40",
   "metadata": {},
   "source": [
    "Bu işlemler Parents(No) için Ginisi hesaplandığında aşağıdaki sonucu ulaşılacaktır. \n",
    "\n",
    "![Resim Açıklaması](images/cart_tree2.png)"
   ]
  },
  {
   "cell_type": "markdown",
   "id": "fc2e8226-ca84-4f96-8114-778051b7db77",
   "metadata": {},
   "source": [
    "#### Karar Ağaçları Hiperparametreleri"
   ]
  },
  {
   "cell_type": "markdown",
   "id": "10acbdb6-d0b1-46f2-b353-de738ecbd885",
   "metadata": {},
   "source": [
    "- **Maksimum Derinlik (max_depth) :**\n",
    "\n",
    "Karar ağaçlarında derinliği belirler. Bu parametre ağacın kaç düğüme kadar dallanacağını belirler. Derin bir ağaç aşırı uyum sağlayabilir yani overfitting ezberlemeyi sağlayabilir. Bu nedenle bizim algoritmamızın(modelimizin) jenerikliğini genelleme yeteneğini azaltabilir. Bu nedenle derinliği belirlememiz gerekebilir. Çok derinlikte olması istenmez orta derinlikte olması tercih edilir. \n",
    "\n",
    "- **Minimum Bölme Boyutu (min_samples_split) :**\n",
    "\n",
    "Bir düğümün bölünmesi için gereken minimum veri noktası sayısını belirler. Bu parametre ağacın bölünme yapmadan önce ne kadar veri toplaması gerektiğini kontrol eder. Düşükse bölünme yapması istenmez çünkü overfittingi arttırır. \n",
    "\n",
    "- **Minimum Yaprak Boyutu (min_samples_leaf) :**\n",
    "\n",
    "Bir düğümde bulunması gereken minimum veri noktası sayısını belirler. Bu parametre ağacın daha fazla dallanmasını önler ve aşırı uyumu (overfittingi) engeller. \n",
    " \n",
    "- **Maksimum Özellikler (max_features) :**\n",
    "\n",
    "Bir düğümde değerlendirilecek maksimum özellik sayısını belirler. Bu parametre her düğümde hangi özelliklerin göz önünde bulundurulacağını kontrol eder. Daha küçük bir değer modelin daha az karmaşık olmasını sağlar ve aşırı uyumu azaltabilir. \n",
    "\n",
    "- **Bölünme Kriteri (criterion) :**\n",
    "Bölünme kritlerlerinden en çok kullanılanı Gini ve Entropi \n",
    "\n",
    "- Bu hiperparametrelerin ayarlanması için kapsamlı arama ve çapraz doğrulama gibi yöntemler kullanılmaktadır. "
   ]
  },
  {
   "cell_type": "markdown",
   "id": "dcc03c4f-7e21-4142-b97d-513022ad7856",
   "metadata": {},
   "source": [
    "#### Karar Ağaçlarının Uygulama Alanları"
   ]
  },
  {
   "cell_type": "markdown",
   "id": "908c50d4-dd14-4903-a980-b4bfa4332535",
   "metadata": {},
   "source": [
    "- Sınıflandırma problemleri\n",
    "- Regresyon Problemleri\n",
    "- Pazarlama ve Satış Analizi\n",
    "- Risk Değerlendirmesi\n",
    "- Sağlık ve Tıp\n",
    "- Endüstriyel Üretim ve Kalite Kontrol\n",
    "<br> <br>\n",
    "\n",
    "| Avantajları | Dezavantajlar|\n",
    "|------------|-----------------|\n",
    "| Anlaşılabilirlik | Aşırı uyum (overfitting) |\n",
    "| Değişken önemi | Duyarlılık |\n",
    "| Çoklu Çıkışlı Modellere Uygunluk |Dengesiz veri kümeleri |\n",
    "| Veri ön işleme ihtiyacının azalması | |"
   ]
  },
  {
   "cell_type": "markdown",
   "id": "26f966c7-be9d-4491-b00b-2935e67570b5",
   "metadata": {
    "jp-MarkdownHeadingCollapsed": true
   },
   "source": [
    "### Rasgele Orman (Random Forest) "
   ]
  },
  {
   "cell_type": "markdown",
   "id": "b818c645-e261-438d-bc22-91bd1231dc07",
   "metadata": {},
   "source": [
    "- **Rasgele ormanlar,** birden çok **karar ağacının** bir araya gelerek bir orman oluşturduğu bir **topluluk öğrenme** yöntemidir.  Makine öğrenmesinde rasgele orman kavramına enseble learning(topluluk öğrenmesi) denir.\n",
    "- Her karar ağacı, farklı bir **alt örneklem** (boostrap sample) ve/veya **alt özellikler** (random subset of features) kullanılarak eğitilir.\n",
    "\n",
    "![Resim Açıklaması](images/r_forest.png)\n",
    "\n",
    "\n",
    "Burda Instance(veri)'lardan  100 adet olduğunu düşünelim. Biz burdan N adet Instance seçersek bu işleme **alt örnek** (boostrap sample) denir. Bir diğeri de bizim verimizin içerisinde feature'larımız var ve biz bu alt özelliklerde  bu featurelardan rastgele sayıda kullanıp (gini yada entropi) hesaplayıp bölünme işlemlerini yaparsak bu işleme **alt özellik** oluyor. \n",
    "\n"
   ]
  },
  {
   "cell_type": "markdown",
   "id": "578866ae-4833-4367-b798-ec23ef6984fe",
   "metadata": {},
   "source": [
    "#### Rasgele Orman Türleri"
   ]
  },
  {
   "cell_type": "markdown",
   "id": "2fdca1fe-3c59-43ec-9aab-ab6d0f328173",
   "metadata": {},
   "source": [
    "- Sınıflandırma için Rasgele Ormanlar\n",
    "- Regresyon için Rasgele Ormanlar\n",
    "\n",
    "Rasgele ormanların çıkma sebebi, overfittingin önüne geçmek ve daha büyük veri setleri ile daha karmaşık problemleri çözmek. 1 adet karar ağaçı erine N adet karar ağacının gücünden faydalanmak amacıdır. \n",
    "\n",
    "![Resim Açıklaması](images/r_forest_alg.png)\n",
    "\n",
    "- Training dataset : 5 satır(sample), 5 sütun (feature) ve Y isimli tahmin (target) verilerimiz var. Burda target verileri 0,1 değeri olduğu için 2'li sınıflandırma problemidir.\n",
    "- Boostrap : Bu kısım veri setini rastgele seçme işlemini gerçekleştiriyor.  Her veri setinde sample ve featureları rastgele olarak seçiliyor.\n",
    "- Ensemble of threes : Rastegele seçilen veri setlerinde karar ağaçları oluşturuluyor.\n",
    "- Bu karar ağaçları 0,1 arasında sınıflandırma kararı verecektir.\n",
    "- Bu kararlardan en çok sayıya sahip olan hangisi ise etiket o kararı acaktır. "
   ]
  },
  {
   "cell_type": "markdown",
   "id": "2c7adf04-1a7c-4722-aeba-0b6232f0eeff",
   "metadata": {},
   "source": [
    "#### Rasgele Orman Hiperparametreleri"
   ]
  },
  {
   "cell_type": "markdown",
   "id": "324b028a-c3fa-417a-9c16-1042334724c4",
   "metadata": {},
   "source": [
    "- Ağaç sayısı (n_estimators)\n",
    "- Özelliklerin sayısı (max_features)\n",
    "- Ağaç derinliği (max_depth)\n",
    "- Örnekleme Oranı (bootsrap) "
   ]
  },
  {
   "cell_type": "markdown",
   "id": "0c71c684-40f4-4d9e-b5d2-9c44e627d060",
   "metadata": {},
   "source": [
    "#### Rasgle Orman Uygulama Alanları"
   ]
  },
  {
   "cell_type": "markdown",
   "id": "39f75251-b07e-49ec-9720-a8201108d241",
   "metadata": {},
   "source": [
    "- Sınıflandırma\n",
    "- Regresyon\n",
    "\n",
    "| Zayıf Yönleri | Güçlü Yönler| \n",
    "|---------------|-------------|\n",
    "| Eğitim süreci daha yavaş olabilir. | Overfitting'e karşı dirençlidir |\n",
    "|                                    | genelleme yeteneği yüksektir.   |\n",
    "| Yüksek ve düşük boyutlu veri setlerinde | Değişkenlerin önem derecesini belirleme |\n",
    "| performansı sağlamaz.                   | yeteneğine sahiptir. \n"
   ]
  },
  {
   "cell_type": "markdown",
   "id": "c63a059b-8b67-41f3-9dab-35ba2d05e86d",
   "metadata": {
    "jp-MarkdownHeadingCollapsed": true
   },
   "source": [
    "### Lojistik Regresyon"
   ]
  },
  {
   "cell_type": "markdown",
   "id": "a471d96c-f68b-43ab-bb8a-339d9a66dd7d",
   "metadata": {},
   "source": [
    "- Lojistic regresyon, istatistik ve makine öğrenmesi alanlarında sınıflandırma problemlerini çözmek için kullanılan bir yöntemdir.\n",
    "- Genellikle bağımlı değişkenin kategorik olduğu durumlarda kullanılır.\n",
    "- Örneğin, bir müşterinin **bir ürünü satın alıp almama olasılığını** tahmin etmek gibi durumlarda kullanılabilir. "
   ]
  },
  {
   "cell_type": "markdown",
   "id": "9bc4de71-7975-44a6-ab45-b07553c7d603",
   "metadata": {},
   "source": [
    "Lojistic regresyon algoritmasının diğer algoritmalardan ayıran temel özellik, \n",
    "- Satın alma = 1\n",
    "- Satın almama = 0\n",
    "\n",
    "değerlerini verirken  lojistik regresyon bunların 1 yada 0 olma olasığını bize verir. Yani \n",
    "- O olma olasılığı  = 0,90\n",
    "- 1 olma olasılığı  = 0,10"
   ]
  },
  {
   "cell_type": "markdown",
   "id": "1a4d0db6-5182-47c7-9d5c-0831dc17475f",
   "metadata": {},
   "source": [
    "![Resim Açıklaması](images/loj_reg.png)\n",
    "\n",
    "Lojistik regresyon, derin öğrenme algoritmanın temel mantığıyla aynıdır.  "
   ]
  },
  {
   "cell_type": "markdown",
   "id": "b67ebaed-8a61-4310-93c1-3f1440294fb5",
   "metadata": {},
   "source": [
    "#### Lojistik Regresyon Tahmini"
   ]
  },
  {
   "cell_type": "markdown",
   "id": "f3e04252-4aaa-4337-8b85-b82af4dbde6d",
   "metadata": {},
   "source": [
    "* **İleri Yayılım (Forward Propagation)**\n",
    "\n",
    "Lojistik regresyonun tahmini, ileri yayılım ile gerçekleştirilmektedir. \n",
    "\n",
    "![Resim Açıklaması](images/loj_reg_forward.png)\n"
   ]
  },
  {
   "cell_type": "markdown",
   "id": "8d686bed-b57a-4f4f-97fd-93c15173956c",
   "metadata": {},
   "source": [
    "Örnekte 1 adet kedi fotoğrafı vardır. Bu fotoğraf renkli olduğu için bilinenler,\n",
    "- En\n",
    "- Boy\n",
    "- Renk\n",
    "\n",
    "değerleri var. Yani 3 boyutlu bir matris. Bu matris piksellerden oluşmaktadır.  Piksellerde $[0,255]$ arasında farklı değer alabilir. \n",
    "\n",
    "- **Amaç**\n",
    "- Classification (sınıflandırma) : Trained edilmiş Lojistic Regresion algoritması ile. (LR). tahmin etmeye çalışmak. \n",
    "- Kedi resmini alıyoruz ve bunu N adet feature olduğu bir matris formuna dönüştürüyoruz.\n",
    "- -> ile gösterilenler normalizasyon işlemleri.\n",
    "- $x_0^{(i)} .. x_N^{(i)}$ : Kedinin id=1 olsun.  Bu durumda $x_0^{(1)}$   dir.\n",
    "   - 1. resmin 0. feature'ı\n",
    "     2. **0 .. N** : feature'lardır.\n",
    "     3. **i** : resmin id'sini tutar.\n",
    "     4. **x** : input = kedi (pixel) -> feature\n",
    "     5. **$w_0 .. w_{12287}$** : w = weight olarak adlandırıyoruz. b = bias,  Bunlar logistic regresyondaki parametrelerdir.  Bu parametreler öğrenme işleminin gerçekleştirileceği ayarlanacak olan parametrelerdir. Yani weight ve bias parametrelerini belirledikten sonra logistic regres işleminde öğrenme işlemini gerçekleştirmiştir.\n",
    "     6. **sigmoid fonksiyonu** : $w^T * x^{(i)} + b = z$,  bu işlemi yaparak $z$  değerini elde ederiz. Lojistik Regresyon algoritmamız olasılıksal bir değer çıkarır. Olasılıksal değerlerde $[0,1]$ arasında değişirler. Çıkan $z$ değeri $[0,1]$ arasında değer olmadığı için bu değeri lojistik fonksiyonuna sokacağız. Yani **sigmoid** fonksiyonuna sokacağız.  Lojistik fonksiyon, **sigmoid aktivasyon fonksiyonu** olarak adlandırılır.\n",
    "     - İnputumuzun kedi olma olasılığı (P(Kedi)) = 0.73  kedi olarak tahmin etmiştir.\n",
    "     - Bu işleme ileri yayılım (Forward Propagation) denir.\n",
    "\n",
    "weight'ler ile X'i çarpıp, bias değeri ile toplanır ve çıkan sonucu **sigmoid fonksiyonuna** sokulup bir değer çıkar. Bu forward propagation'dır. Burdaki lojistik regresyon öğrenme dediğimiz kavram, weightlerin ve bias'ın belirlenmesi işlemidir. "
   ]
  },
  {
   "cell_type": "markdown",
   "id": "06d548fe-86bb-44cc-93ea-8d90e568ced1",
   "metadata": {},
   "source": [
    "#### Lojistik Regresyon Eğitimi"
   ]
  },
  {
   "cell_type": "markdown",
   "id": "cfdde085-7646-478e-ae56-d9013196991a",
   "metadata": {},
   "source": [
    "Lojistik regresyon' da öğrenme = weight (w) ve bias (b) parametrelerinin belirlenmesi anlamına gelir.\n",
    "\n",
    "* **Ağırlık:(w) ve Bias:(b)'ların başlatılması**\n",
    "* **İleri Yayılım (Forward) Propagation**\n",
    "  - İleri yayılımın başlatılabilmesi için ilk önce w, b değerlerine atamalar yapabilmeliyiz ki matematiksel işlemler yapılabilsin. Bu işlem nasıl yapılıyor?\n",
    "    | w | b |\n",
    "    |---|---|\n",
    "    | 0 | 0 |\n",
    "    |[-1|,1]|\n",
    "\n",
    "    arasında bir değer atanabilir. \n",
    "\n",
    "    ![Resim Açıklaması](images/loj_los.png)\n",
    "\n",
    "    - $x_1, x_2$ : input'lar\n",
    "    - $w_1, w_2$ : ağırlıklar\n",
    "    - $b$        : bias değeri.\n",
    "\n",
    "    - $z = x_1 * w_1 + x_2 * w_2 + b$\n",
    "    - $ y' = \\hat{y} = \\sigma(z)$\n",
    "    - $ y'  $ : tüm makine öğrenme uygulamalarında **predicted value** yani **tahmin edilen** değerdir.\n",
    "    - Buraya kadar yapılan işlemlerde **tahmin** söz konusuydu. Ancak eğitim aşamasında bizim bir de **Loss($\\hat{y}, y$)** fonksiyonumuzun tanımlanması var.\n",
    "\n",
    "* **Loss Fonksiyonun Hesaplanması**\n",
    "\n",
    "Loss, maliyet yada kayıp olarak düşünülebilinir. Loss() fonksiyonun iki tane input değeri var. Bunlar\n",
    "\n",
    "- $\\hat{y}$ : tahmin edilen (predicted value) değerimiz. \n",
    "- y : Gerçek etiketimiz (real label)\n",
    "\n",
    "| İşlem | Loss değeri |\n",
    "|-|-|\n",
    "|$L=(\\hat{y}, y)$ | |\n",
    "|$L=(Kedi, Kedi)$ | 0 |\n",
    "|$L=(Köpek, Kedi)$ | ? |\n",
    "\n",
    "? : Burda yanlış tahmin ettiği için bu tahmini düzeltmek gerekiyor. Bu düzeltme işlemi için de bir matematiksel loss() fonksiyonu tanımlanmış. \n",
    "\n",
    "$Loss(Y', Y)  = -(y * log(y') + (1 - y) * log(1 - y'))$\n",
    "\n",
    "Açıklama:\n",
    "- Loss(Y', Y): Kayıp (loss) fonksiyonu.\n",
    "- y  : Gerçek etiket (ground truth).\n",
    "- y' : Tahmin edilen değer (prediction).\n",
    "- log: Doğal logaritma (ln) fonksiyonu.\n",
    "\n",
    "Lojistik regresyon (logistic regression) için kullanılan Binary Cross-Entropy Loss fonksiyonudur. Lojistik regresyon, ikili sınıflandırma (binary classification) problemlerinde kullanılır ve bu loss fonksiyonu, modelin tahminlerinin gerçek değerlerden ne kadar uzak olduğunu ölçer.\n",
    "\n",
    "\n",
    "* **Geri Yayılım (Backward Propagation)**\n",
    "\n",
    "Geri yayılım,  Loss() fonksiyonundan - input verilerine kadar geriye gitmek ve weight ile bias parametrelerini güncellemek demektir. Geri yayılımda **türev** hesaplama söz konusudur. Loss'u weight ve bias' a göre bulabilirsek weight ve bias'ı da ona göre güncelleyebiliriz. \n",
    "\n",
    "* **Ağırlıkların Güncellenmesi**\n",
    "\n",
    "Ağırlıkların güncellenmesi için **gradient descent** algoritması kullanılır. \n",
    "\n",
    "1. $w*x + b = z$\n",
    "2. $\\hat{y} = \\sigma(z)$\n",
    "3. $L(\\hat{y}, y)$ <br>\n",
    "4. $\\frac{dL}{dw_1}, \\frac{dL}{dw_2}, \\frac{dL}{db} $ <br>\n",
    "5. $\\frac{dL}{dw_1} = \\frac{dL}{d\\hat{y}}, \\frac{d\\hat{y}}{dz}, \\frac{dz}{dw_1} $\n",
    "6. $\\frac{dL}{dw_2} = \\frac{dL}{d\\hat{y}}, \\frac{d\\hat{y}}{dz}, \\frac{dz}{dw_2} $\n",
    "7. $\\frac{dL}{db} = \\frac{dL}{d\\hat{y}}, \\frac{d\\hat{y}}{dz}, \\frac{dz}{db} $\n",
    "\n",
    "\n",
    "\n"
   ]
  },
  {
   "cell_type": "markdown",
   "id": "ae65bfde-601f-4e7b-bb40-858515de6209",
   "metadata": {},
   "source": [
    "- $\\frac{dlog_x}{dx} = \\frac{1}{x}$  matematiksel işlem <br> <br>\n",
    "- $Loss(Y', Y)  = -(y * log(y') + (1 - y) * log(1 - y'))$  işleminin türevi, \n",
    "- $\\frac{dLoss}{d\\hat{y}} = \\frac{-y}{\\hat{y}} + \\frac{(1 - y)}{1 - \\hat{y}}$\n",
    "\n",
    "- $\\frac{d\\hat{y}}{dz} = $  işlemini çözmek için öncelikle\n",
    "- $\\sigma(z) = \\frac{1}{1 + e^{-z}} = $  sigmoid işleminin türevini alırız.\n",
    "- $\\frac{d\\hat{y}}{dz} = \\hat{y}^2*e^{-z}$  ile sonucuna ulaşırız. <br> <br>\n",
    "\n",
    "- $\\frac{dz}{dw_1} = x_1$ <br>\n",
    "\n",
    "- $\\frac{dLoss}{d\\hat{y}} * \\frac{d\\hat{y}}{dz} * \\frac{dz}{dw_1} = \\frac{dLoss}{dw_1} $ <br><br>\n",
    "\n",
    "Loss değerimizin weight ve bias değerine göre türevleri (değişimi) aşağıdaki gibidir.  Böylece geri yayılım (backward propagation) işlemini gerçekleştirmiş oluruz. \n",
    "\n",
    "- $\\frac{dLoss}{dw_1} =  (\\hat{y} - y)*x_1 $\n",
    "- $\\frac{dLoss}{dw_2} =  (\\hat{y} - y)*x_2 $\n",
    "- $\\frac{dLoss}{db} =  (\\hat{y} - y) $\n",
    "\n",
    "Şimdi ağırlıkların güncellenmesi işlemini gerçekleştirelim. \n"
   ]
  },
  {
   "cell_type": "markdown",
   "id": "17e3da8d-1491-466b-9f8f-2e2d0a976a65",
   "metadata": {},
   "source": [
    "Gradient Descent Algoritması \n",
    "\n",
    "- $w_1 = w_1 - \\alpha * \\frac{dL}{dw_1}$\n",
    "- $w_1 = w_1 - \\alpha * (\\hat{y} - y)*x_1$\n",
    "- $w_2 = w_2 - \\alpha * (\\hat{y} - y)*x_2$\n",
    "- $bias = b - \\alpha * (\\hat{y} - y)$\n",
    "\n",
    "Learning rate (Öğrenme oranı) (Lr $\\alpha$, $\\eta$)  kavramı algoritmanın öğrenme hızıdır. Bir hiperparametredir(hyperparameter). Bunu bizim tarafımızdan seçmemiz gerekiyor. Derin öğrenme uygulamalarında genellikle  $10^{-3}$ kullanılır. Ne kadar düşükse o kadar yavaş öğreniriz, ne kadar yüksekse hiç bir zaman global minimuma ulaşamayabiliriz. \n",
    " "
   ]
  },
  {
   "cell_type": "markdown",
   "id": "179df539-23fb-4a65-ad11-ba6eb5b3891f",
   "metadata": {},
   "source": [
    "- $w_1 = w_1 - \\alpha * (\\hat{y} - y)*x_1$\n",
    "- işlemini örnek olarak güncelleyelim.\n",
    "- $w_1 = 0$  için,\n",
    "- $\\alpha = 10^{-3}$ olarak belirlemiştik\n",
    "- $\\hat{y}$, tahmin (prediction) edilen değerdi\n",
    "- $y$, değeri gerçek değer\n",
    "- $x_1$, de giriş değerimiz. Bu bilenler yerine konulduğunda güncellenmeiş $w_1$ değerini elde ederiz.  Bu şekilde $w_2$ ve $bias$ değerlerini de güncelleyebiliriz. "
   ]
  },
  {
   "cell_type": "markdown",
   "id": "eabc6791-b423-45ad-9e45-1051b8c2aab1",
   "metadata": {},
   "source": [
    "**Durum Çalışması**\n",
    "\n",
    "Bir hücremizin kanserli mi?, değil mi? bunun sınıflandırma çalışmasını yapalım. \n",
    "\n",
    "Bu **binary classification** bir sınıflandırma türüdür. \n",
    "- 2 adet çıktı verecektir bunlar bizim gerçek değerlerimiz. Yani ( $y$ ) değerimiz. \n",
    "  - P : pozitif  (kanserli olabilir)\n",
    "  - N : negatif  (kanserli değil)\n",
    "- $x_1 = $ Hücrenin yoğunluk feature'u olsun.\n",
    "- $x_2 = $ hücrenin boyut feature'u olsun.\n",
    "- aşağıdaki gibi bir veri setimiz olsun. \n",
    "\n",
    "|$x_1$ | $x_2$ | $y$ |\n",
    "|------|-------|-----|\n",
    "| 1    |   1   |  N = 0 |\n",
    "| 4    |   4   |  P = 1 |\n",
    "\n",
    "1. $w_1, w_2 ve b$ değerlerinin initialize edilmesi gerekiyor.\n",
    "|$w_1$ | $w_2$ | $b$ |\n",
    "|------|-------|-----|\n",
    "| -0.1    |   -0.1   |   0 |\n",
    "\n",
    "değerlerini verelim. \n",
    "\n",
    "2. $z$ değerimizi hesaplayalım.\n",
    "\n",
    "$ z = x_1*w_1 + x_2*w_2 + b $\n",
    "$ z = 4 * (-0.1) + 4 * (-0.1) + 0$\n",
    "$ z = -0.8$\n",
    "\n",
    "3. $\\hat{y} = \\sigma(z)$  işlemini gerçekleştirelim.\n",
    "\n",
    "yaklaşık olarak, $\\hat{y} = 0,31$  değerini elde ederiz. \n",
    "\n",
    "4. Loss değerimizi hesaplayalım.\n",
    "   $L(\\hat{y}, y)$ den  $1 - 0.31 = 0.69$ sonucu ile  0.69 büyük olduğundan yanlış tahmin etmiştir.\n",
    "5. Geri yayılım yöntemi ile tekrar deneyelim. (lr = 1) olsun.\n",
    "   \n",
    "- $w_1 = w_1 - \\alpha * (\\hat{y} - y)*x_1$\n",
    "  $w_1 = -0.1 - 1*(0.31 - 1)*4$\n",
    "  $w_1 = -2,86$\n",
    "  \n",
    "- $w_2 = w_2 - \\alpha * (\\hat{y} - y)*x_2$\n",
    "  $w_2 = -0.1 - 1*(0.31 - 1)*4$\n",
    "  $w_2 = -2,86$\n",
    " \n",
    "- $bias = b - \\alpha * (\\hat{y} - y)$\n",
    "  $bias = 0 - 1 * (0.31 - 1)$\n",
    "  $bias = 0.69$\n",
    "  \n",
    "6. Bu adımda weightler ve bias güncellendikten sonra tekrardan ileri yayılım adımları gerçekleştirilir.\n",
    "    \n",
    "$z$ değerimizi hesaplayalım.\n",
    "\n",
    "$ z = x_1*w_1 + x_2*w_2 + b $\n",
    "$ z = 4 * (-2.86) + 4 * (-2.86) + 0.69$\n",
    "$ z = -22.19$\n",
    "\n",
    "$\\hat{y} = \\sigma(z)$  işlemini gerçekleştirelim.\n",
    "\n",
    "yaklaşık olarak, $\\hat{y} = 0$  değerini elde ederiz. \n",
    "\n",
    "Bu çalışma işleyiş olarak bu şekilde ilerlemektedir ve \n",
    "7. "
   ]
  },
  {
   "cell_type": "markdown",
   "id": "8906ba18-3a08-459e-b8dc-93b8536d65a0",
   "metadata": {},
   "source": [
    "**Lojistik Regresyon Hiperparametreleri**\n",
    "- Penalty (Cezalandırma) : \n",
    "- C (Cezalandırma Katsayısı) :\n",
    "- Solver (çözücü) : modelin optimize edilmesinde kullanılan algoritmayı belirler.\n",
    "- Max iterations (Maksimum iterasyon) : Optimizasyon algoritmasının maksimum iterasyonunu belirler. Model maksimum iterasyon sayısına ulaşmadan önce yakınsarsa eğitim işi sonlandırılır.\n",
    "- Class Weight ( Sınıf Ağırlığı ) : Dengesiz sınıflara sahip veri setlerinde **class weight** parametresi kullanılarak farklı sınıflara farklı ağırlıklar verebilir. Bu da nadir sınıfların önemsenmesini sağlar. Dengesiz veri seti dengeli gibi kullanılabilir. \n"
   ]
  },
  {
   "cell_type": "markdown",
   "id": "3104825e-cbf6-4734-a897-2cee81f72be6",
   "metadata": {},
   "source": [
    "**Lojistik Regresyon Uygulama Alanları**\n",
    "\n",
    "+ Tıp ve sağlık\n",
    "+ Finans\n",
    "+ İnsan kaynakları\n",
    "\n",
    "|Özellikler|Zayıf Yönler|Güçlü Yönler|\n",
    "|-|-|-|\n",
    "|Yapı| Lineer modeldir, karmaşık ilişkileri modelleyemez. | Basit ve yüksek yorumlanabilirlik sağlar. |\n",
    "|Overfitting Riski| Büyük özellik setleriyle ve yüksek boyutlu veri setleriyle eğitildiğinde aşırı uydurmaya eğilimlidir. | Regülarizasyon ile kontrol edilebilir. |\n",
    "|Çıktılar| Sınıflandırma problemlerine odaklanır, regresyon problemleri için uygun değildir. | Sınıf olasılıklarını ve sınıf tahminlerini sağlar. |\n",
    "\n"
   ]
  },
  {
   "cell_type": "markdown",
   "id": "569fec34-e709-4498-aeae-9a93e09cc8c4",
   "metadata": {
    "jp-MarkdownHeadingCollapsed": true
   },
   "source": [
    "### Destek Vektör Makinesi (SVM - Support Vector Machine) "
   ]
  },
  {
   "cell_type": "markdown",
   "id": "797c7218-3b86-4f48-9cfe-828a30cc300a",
   "metadata": {},
   "source": [
    "- Destek vektör makinesi (SVM), sınıflandırma ve regresyon problemlerini çözmek için kullanılan güçlü bir makine öğrenimi algoritmasıdır. \n",
    "- SVM, veri kümesini sınıflar arasında en iyi şekilde ayıran bir **hiper düzlemi** bulmaya çalışır.\n",
    "- SVM, özellikle doğrusal olmayan veri kümeleri için etkilidir, çünkü kernel yöntemi kullanarak veriyi daha yüksek boyutlu uzaylara dönüştürerek doğrusal olarak ayrılabilir bir yapı elde edebilir.\n",
    "\n",
    "![Resim Açıklaması](images/svm.png)\n",
    "\n",
    "Yukarıdaki görselde gösterildiği gibi iki farklı renk görülmektedir. Mavi ve Yeşil olmak üzere 2 sınıf görülmektedir. SVM, bu iki farklı sınıf arasında bir **hiperdüzlem** bulmaya çalışacaktır. \n",
    "- ilk önce iki farklı sınıf arasındaki destek noktalarını buluyor.\n",
    "- Bulunan bu iki nokta arasındaki mesafeyi maksimize etmeye çalışmak amaçtır.\n",
    "- Bu iki vektör arasındaki optimal hyperplane çizerek iki sınıf arasındaki ayrımı sağlamış oluyoruz. Peki bu çizgi nasıl bulunacak?\n",
    "  - SVM de bu çizgiyi bulmaya learning(eğitim) deniyor. Bir durum çalışması ile bu hyperplane'i bulmaya çalışalım.\n",
    " \n",
    "**SVM Durum Çalışması**\n",
    "\n",
    "![Resim Açıklaması](images/svm_.png)\n",
    "\n",
    "- Burda 8 noktamız var. Bu noktalardan,\n",
    "- X olanları N (yani negatif) ve $-1$ olarak etiketleyelim.\n",
    "- O olanları P (yani pozitif) ve $+1$ olarak etiketleyelim.\n",
    "- Burdaki noktalara bakıldığında farklı gruplardan bir birine en yakın S1, S2, ve S3 noktaları olduğu görülmektedir. Yani 3 tane support vektör vardır. Bunlar,\n",
    "  - $S1 = (1,0) $\n",
    "  - $S2 = (3,1) $\n",
    "  - $S3 = (3,-1) $\n",
    "- üç tane noktamız olduğu için vektörleri biraz çoğaltmamız gerekiyor. Bunu çoğaltmak için 1 ile 1 bias'ı ile çoğaltabiliriz. Yani sonuna 1 ekliyoruz. (s1 üzeri tilda = ST1)\n",
    "  - $ST1 = (1,0, 1) $\n",
    "  - $ST2 = (3,1, 1) $\n",
    "  - $ST3 = (3,-1, 1) $\n",
    "- Burda bizim 3 tane önemli parametremiz var. Bu parametreler\n",
    "  - $[\\alpha1, \\alpha2, \\alpha3]$  olacaktır.  Bunun içinde 3 tane parametre ve 3 tane lineer denkleme ihtiyacımız var.\n",
    "\n",
    "- $(\\alpha1*st1*st1) + (\\alpha2*st1*st2) + (\\alpha3*st1*st3) = -1 $\n",
    "- $(\\alpha1*st2*st1) + (\\alpha2*st2*st2) + (\\alpha3*st2*st3) = +1 $\n",
    "- $(\\alpha1*st3*st1) + (\\alpha2*st3*st2) + (\\alpha3*st3*st3) = +1 $\n",
    "\n",
    "<br> <br>\n",
    "\n",
    "- $(\\alpha1*st1*st1) + (\\alpha2*st1*st2) + (\\alpha3*st1*st3) = -1$\n",
    "- $(\\alpha1* \n",
    "    \\begin{pmatrix} 1 \\\\ 0 \\\\ 1 \\end{pmatrix} * \n",
    "    \\begin{pmatrix} 1 \\\\ 0 \\\\ 1 \\end{pmatrix}) + \n",
    "    (\\alpha2*\n",
    "    \\begin{pmatrix} 1 \\\\ 0 \\\\ 1 \\end{pmatrix} *\n",
    "    \\begin{pmatrix} 3 \\\\ 1 \\\\ 1 \\end{pmatrix}) + \n",
    "    (\\alpha3*\n",
    "    \\begin{pmatrix} 1 \\\\ 0 \\\\ 1 \\end{pmatrix}*\n",
    "    \\begin{pmatrix} 3 \\\\ -1 \\\\ 1 \\end{pmatrix}) = -1$\n",
    "- $2 * \\alpha1 + 4 * \\alpha2 + 4 * \\alpha3 = -1$\n",
    "\n",
    "Bu şekilde diğer işlemleri de gerçekleştirdiğimizda bu 3 denklemin sonuçları aşağıda ki gibi olacaktır. \n",
    "\n",
    "- $2 * \\alpha1 + 4 * \\alpha2 + 4 * \\alpha3 = -1$\n",
    "- $4 * \\alpha1 + 11 * \\alpha2 + 9 * \\alpha3 = +1$\n",
    "- $4 * \\alpha1 + 9 * \\alpha2 + 11 * \\alpha3 = +1$\n",
    "\n",
    "Bu denklemler çözüldüğünde, \n",
    "- $\\alpha1 = -3.5$\n",
    "- $\\alpha2 = 0.75$\n",
    "- $\\alpha3 = 0.75$\n",
    "\n",
    "  <br>\n",
    "\n",
    "$$ w =  \n",
    "    \\sum_{i=1}^{3} \\alpha_i \\cdot st_i  = \n",
    "    3.5 * \\begin{pmatrix} 1 \\\\ 0 \\\\ 1 \\end{pmatrix} +\n",
    "    0.75 * \\begin{pmatrix} 3 \\\\ 1 \\\\ 1 \\end{pmatrix}) + \n",
    "    0.75 * \\begin{pmatrix} 3 \\\\ -1 \\\\ 1 \\end{pmatrix}) = \\begin{pmatrix} 1 \\\\ 0 \\\\ -2 \\end{pmatrix}\n",
    "$$\n",
    "\n",
    "- $y = wx + b$ olarak düşünürsek, $\\begin{pmatrix} 1 \\\\ 0 \\\\ -2 \\end{pmatrix}$ deki değerlerden $(1,0)$ weight' karşılık gelir,  $-2$ ise bias'a karşılık gelir.\n",
    "- Burda $y = 0$ olursa bias $-2$ brim olduğundan bias'ı y'yi x eksininde sağa doğru $2$ birim kaydırmamız gerekiyor. Eğer bu x eksinden y' ye paralel bir doğru çizersek bu bize hyperplane'i verecektir. Yani diğer bir ifade ile Negatif ve Pozitifleri birbirinden ayıran **hyper plane**'i elde etmiş oluyor.\n",
    "\n",
    "![Resim Açıklaması](images/svm_hyperplane.png)\n",
    "\n",
    "SVM'lerde eğitim, hayper plane'nin bulunması ve o da farklı lineer denklemlerin çözülmesi ile elde ediliyor. \n",
    "\n",
    "<br> <br> <br>\n",
    "\n",
    "**SVM'lerin Hiper Parametreleri** \n",
    "\n",
    "- C : Doğruluk ve aşırı uydurma arasındaki dengeyi kontrol eder.  Doğruluk (accuracy), aşırı uydurma (overfitting)\n",
    "- Kernel Tipi : lineer olmayan problemlerde kernel tipini, non-lineer, polinom olarak değiştirerek çözüme gidebiliyoruz.\n",
    "\n",
    "\n",
    "**SVM Uygulama Alanları**\n",
    "\n",
    "- Tıp\n",
    "- finans\n",
    "- Görüntü işleme\n",
    "- Biyoinformatik\n",
    "- Metin ve Dil İşleme\n",
    "\n",
    "| Zayıf Yönler |  Güçlü Yönler |\n",
    "|-|-|\n",
    "| Veri seti çok büyükse aşırı uydurmaya eğilimli olabilir. | Doğrusal ve doğrusal olmayan sınıflandırma problemlerinde etkilidir. |"
   ]
  },
  {
   "cell_type": "markdown",
   "id": "b365ff08-6ba0-4f13-a5a2-2198c4861b3e",
   "metadata": {},
   "source": [
    "### Naive Bayes\n"
   ]
  },
  {
   "cell_type": "markdown",
   "id": "ac1e8612-9f00-47d5-8166-28435ec224f4",
   "metadata": {},
   "source": [
    "- Naive Bayes, makine öğreniminde sınıflandırma ve olasılıklı tahminler yapmak için kullanılan olasılıksal bir yöntemdir.\n",
    "- Temel olarak Bayes teoremi prensibine dayanır ve \"Naive\" (saf) adını, sınıf etiketlerinin birbirinden bağımsız olduğunu varsayan basit bir varsayıma dayanır.\n",
    "\n",
    "![Resim Açıklaması](images/naive_bayes.png)\n",
    "\n",
    "\n",
    "Burdaki denklemde bulunması istenen kavram $P(A\\B)$ dir. Yani B verildiğinde A' nın olma olasılığı. \n",
    "\n",
    "**Naive Bayes Akış Şeması** \n",
    "\n",
    "![Resim Açıklaması](images/naive_bayes_akis.png)\n",
    "\n",
    "- **Train Data** : Eğitim veri setidir. Eğitim veri setindeki iki önemli parametre var,\n",
    "  - $x -> B$  : \n",
    "  - $c_k -> A$ :\n",
    "- **prior** : Bu kavram ön bilgi, öncül bilginin hesaplanması isteniyor. $P(c_k)$, yani $c_k$ nın olma olasığı. Burdaki $c_k$ bayes teoremindeki $A$ ya karşılık gelmektedir. (prior = $P(A)$),  $P(B)$ de $x$ e karşılık gelmektedir.\n",
    "- **posterior** : $P(A\\B)$ veya $P(c_k\\x)$ dir.\n",
    "- $P(B\\A)$ aslında bu likehood(olabilirlik). Bu da algoritma da $P(x\\c_k)$  \n",
    "\n",
    "**Dataset**\n",
    "\n",
    "- parents : ailenin yanında olup olmaması,\n",
    "- money : paranın olup olmama durumu\n",
    "- y : hedef değişkeni, hafta sonu aktivite yapıp yapmacağımızın durumu\n",
    "\n",
    "|parents|money|y|\n",
    "|-|-|-|\n",
    "|yes|rich|yes|\n",
    "|yes|poor| ? |\n",
    "\n"
   ]
  },
  {
   "cell_type": "markdown",
   "id": "c4ccad67-dbad-416b-836f-9eb343084572",
   "metadata": {},
   "source": [
    "- y : (yes/no)\n",
    "- $P(c_k) = P(yes)$\n",
    "- $P(c_k) = P(no)$\n",
    "- $P(c_k)$ - hypothesis\n",
    "\n",
    "- x : feature (new instance)\n",
    "  - x : parents, yes\n",
    "  - x : money, no\n",
    "- Bu problemi bayes teoremi ile çözmeye çalışalım.\n",
    "$P(yes | p=yes, m= poor) =  P(p=yes, m=poor | yes) $"
   ]
  },
  {
   "attachments": {},
   "cell_type": "markdown",
   "id": "45210bba-ef85-4df8-bdf9-d46c0c3afbfa",
   "metadata": {},
   "source": [
    "**Durum Çalışması**\n",
    "\n",
    "| Day  | Outlook   | Temp | Humidity | Wind   | PlayTennis |\n",
    "|------|-----------|------|----------|--------|------------|\n",
    "| d1   | Sunny     | Hot  | High     | Weak   | No         |\n",
    "| d2   | Sunny     | Hot  | High     | Strong | No         |\n",
    "| d3   | Overcast  | Hot  | High     | Weak   | Yes        |\n",
    "| d4   | Rain      | Mild | High     | Weak   | Yes        |\n",
    "| d5   | Rain      | Cool | Normal   | Weak   | Yes        |\n",
    "| d6   | Rain      | Cool | Normal   | Strong | No         |\n",
    "| d7   | Overcast  | Cool | Normal   | Strong | Yes        |\n",
    "| d8   | Sunny     | Mild | High     | Weak   | No         |\n",
    "| d9   | Sunny     | Cool | Normal   | Weak   | Yes        |\n",
    "| d10  | Rain      | Mild | Normal   | Weak   | Yes        |\n",
    "| d11  | Sunny     | Mild | Normal   | Strong | Yes        |\n",
    "| d12  | Overcast  | Mild | High     | Strong | Yes        |\n",
    "| d13  | Overcast  | Hot  | Normal   | Weak   | Yes        |\n",
    "| d14  | Rain      | Mild | High     | Strong | No         |\n",
    "\n",
    "\n",
    "\n"
   ]
  },
  {
   "attachments": {},
   "cell_type": "markdown",
   "id": "8cf5b3fc-0d47-421f-832a-8b9379212ccf",
   "metadata": {},
   "source": [
    "$\n",
    "P(c_k\\x) = P(x\\c_k) * P(c_k)\n",
    "$\n",
    "\n",
    "- $P(c_k\\x)$ : posterior\n",
    "- $P(x\\c_k$  : likehood\n",
    "- $P(c_k)$   : prior\n",
    "\n",
    "\n",
    "**Dataset** teki  $P(yes)$ ve $P(no)$   olma olasılık değerleri. \n",
    "- $P(yes) = 9/14$\n",
    "- $P(no) = 5/14$\n",
    "\n",
    "| Outlook | Temp | Humidity | Wind   | PlayTennis |\n",
    "|---------|------|----------|--------|------------|\n",
    "| Sunny   | Cool | High     | Strong |     ?           |\n",
    "\n",
    "\n",
    "Bu durumlarda tenis oynayıp oynayamama durumu nedir? \n",
    "\n",
    "- $P(x\\c_k)$\n",
    "- $c_k$ = yes\n",
    "- $x = sunny, cool, high, strong$\n",
    "\n",
    "Bu durumda **\"sunny, cool, high, strong\"** hava durumlarına göre **\"yes\" ve \"no\"** olma olasıklar tablosunu çıkartalım. \n",
    "\n",
    "| Outlook   | Yes  | No   |\n",
    "|-----------|------|------|\n",
    "| Sunny     | 2/9  | 3/5  |\n",
    "| Overcast  | 4/9  | 0/5  |\n",
    "| Rainy     | 3/9  | 2/5  |\n",
    "\n",
    "\n",
    "| Temp | Yes  | No   |\n",
    "|------|------|------|\n",
    "| Hot  | 2/9  | 2/5  |\n",
    "| Mild | 4/9  | 2/5  |\n",
    "| Cool | 3/9  | 1/5  |\n",
    "\n",
    "\n",
    "\n",
    "| Humidity | Yes  | No   |\n",
    "|----------|------|------|\n",
    "| High     | 3/9  | 4/5  |\n",
    "| Normal   | 6/9  | 1/5  |\n",
    "\n",
    "\n",
    "| Wind   | Yes  | No   |\n",
    "|--------|------|------|\n",
    "| Strong | 3/9  | 3/5  |\n",
    "| Weak   | 6/9  | 2/5  |\n",
    "\n",
    "\n"
   ]
  },
  {
   "cell_type": "markdown",
   "id": "12144c89-c03e-434f-bccc-7bc4d4bd4172",
   "metadata": {},
   "source": [
    "- **P(yes\\x)** = P(x\\yes) * P(yes)\n",
    "- **P(yes\\x)** = P(sunny\\yes) * P(Cool\\yes) * P(high\\yes) * P(Strong\\yes) * P(yes)\n",
    "- **P(yes\\x)** = (2/9) * (3/9) * (3/9) * (3/9) * (9/14)\n",
    "- **P(yes\\x)** ≈ 0.0053\n"
   ]
  },
  {
   "cell_type": "markdown",
   "id": "731e3592-1ad1-4ad1-8a15-5765a915d380",
   "metadata": {},
   "source": [
    "- **P(no|x)** = P(x\\no) * P(no)\n",
    "- **P(no|x)** = P(sunny\\no) * P(cool\\no) * P(high\\no) * P(strong\\no) * P(no)\n",
    "- **P(no\\x)** = (3/5) * (1/5) * (4/5) * (3/5) * (5/14)\n",
    "- **P(no\\x)** ≈ 0.0206\n"
   ]
  },
  {
   "cell_type": "markdown",
   "id": "9409b07e-bc98-4117-8253-b49a4ac77354",
   "metadata": {},
   "source": [
    "Bu çıkan sonuçları **normalize edelim. $[0,1]$ arasında sıkıştıralım. Çünkü çıkan sonuçlar bir olasılıksal değerdir. Tam olarak ne olduğu anlaşılmıyor. Bunun normalize işlemini yapalım. \n",
    "\n",
    "- **P(yes\\x)** = P(yes\\x) / (P(yes\\x) + P(no\\x))\n",
    "- **P(yes\\x)** = 0.0053 / (0.0053 * 0.0206)\n",
    "- **P(yes\\x)** ≈ 0.20%\n",
    "- **P(no\\x)** = 0.80%\n",
    "\n",
    "Çıkan sonuca göre belirtilen hava koşullarına göre %$ 80 $ oynanmayacağı tespit edilmiştir. "
   ]
  },
  {
   "cell_type": "markdown",
   "id": "4c0cf0c1-4055-4dbf-8a6e-6765e6e7dffd",
   "metadata": {},
   "source": [
    "**Naive Bayes Uygulama Alanları**\n",
    "\n",
    "- Metin sınıflandırma\n",
    "- Duygu analizi\n",
    "- Tıbbi teşhis\n",
    "- Pazarlama\n",
    "- Biyoinformatik\n",
    "\n",
    "|Özellikler|Zayıf Yönler|Güçlü Yönler|\n",
    "|-|-|-|\n",
    "|Hiperparametreler| Daha az hiperparametreye sahip olması, bu nedenle daha az esneklik sağlar. | Basit, hızlı ve düşük veri gereksinimiyle yüksek performans sağlar. |\n",
    "|Öznitelik Bağımsızlığı|Öznitelikler arasındaki bağımsızlık varsayımı gerçek dünyada her zaman geçerli değildir. | Metin sınıflandırma ve spam filitreleme gibi bir çok uygulama alanında başarılıdır. |\n",
    "|Hassasiyet|Genellikle çok karmaşık yapıları yakalayamaz, bu nedenle yükse hassasiyet gerektiren problemlerde performansı düşük olabilir. |Veri seti dengesizliğine ve gürültülü veriye karşı dayanıklıdır. |\n"
   ]
  },
  {
   "cell_type": "markdown",
   "id": "dffdb126-d187-48ad-9573-5a9f66f4fb40",
   "metadata": {
    "jp-MarkdownHeadingCollapsed": true
   },
   "source": [
    "### Lineer Regresyon"
   ]
  },
  {
   "cell_type": "markdown",
   "id": "9345217c-dc97-46f1-9712-37415635264a",
   "metadata": {},
   "source": [
    "- Lineer regresyon, iki veya daha fazla değişken arasındaki ilişkiyi modellemek için kullanılan istatistiksel bir yöntemdir.\n",
    "- özellikle, bağımsız değişkenlerin (genellikle $x$ olarak adlandırılır, bağımlı değişkenlere (genellikle $y$ olarak adlandırılır.) olan etkisini tahmin etmek için kullanılır.\n",
    "\n",
    "Örnek: \n",
    "- ev fiyatı = $a_0 + OdaSayisi*a_1 + BahçeDurumu*a_2$\n",
    "- ev fiyatı = y  (bağımlı değişken)\n",
    "- Oda sayısı, bahçe durumu = x' lerdir. (bağımsız değişkenler.\n",
    "\n",
    "![Resim Açıklaması](images/lineer_reg.png)"
   ]
  },
  {
   "cell_type": "markdown",
   "id": "32148535-a568-401e-ac31-600b3fb54564",
   "metadata": {},
   "source": [
    "- $\\theta_{1} $ = intercept(bias)\n",
    "- $\\theta_{2} $ = slope(eğimi) ifade eder.\n",
    "- Observed value = gözlemlenen değer.\n",
    "- Predicted value = tahmin edilen değer.\n",
    "- Regresyonda ($y - \\hat{y}$) loss değil hata deniyor.\n",
    "- Denklem $Y = \\theta_{1} + \\theta_{2}*X$ dir.\n",
    "- Lineer denklemde öğrenme dediğimiz (learning)  kavram $\\theta_{1} ve \\theta_{2}$ nin belirlenmesidir."
   ]
  },
  {
   "attachments": {},
   "cell_type": "markdown",
   "id": "5e8e8af0-db81-4f08-9e5f-92696ce31b6f",
   "metadata": {},
   "source": [
    "**Lineer Regresyon Türleri**\n",
    "\n",
    "- Basit lineer regresyon. (bir tane bağımsız değişken vardır. $y = ax + b$ )\n",
    "- Çoklu lineer regresyon  (birden fazla bağımsız değişken vardır. $y = ax_1 + bx_2 + cx_3 + b$)\n",
    "- **Polinom regresyon**  lineer olmayan yapıya sahip regresyon türleridir. $y = b + ax_1 + cx_x^2$\n",
    "- **Ridge ve Lasso Regresyon** :  Bu regresyon türleri aşırı uydurma türlerini yani overfitting'i azaltmak için kullanılır. Ridge regresyonu, katsayılarının karelerinin toplamını sıfırlayarak modelin karmaşıklığını azaltır. Lasso regresyonu ise katsayıların mutlak değerlerinin toplamını sıfırlayarak aynı işlevi görür.\n",
    "\n",
    "**Lineer Regresyon Durum Çalışması** \n",
    "\n",
    "| Oda Sayısı (x) | Ev Fiyatı (y) |\n",
    "|-----------------|---------------|\n",
    "| 1               | 1.2           |\n",
    "| 2               | 1.8           |\n",
    "| 3               | 2.6           |\n",
    "| 4               | 3.2           |\n",
    "| 5               | 3.8           |\n",
    "\n",
    "Verilen bilgilere göre lineer grafik durumu aşağıdaki gibidir. \n",
    "\n",
    "![Resim Açıklaması](images/lineer_reg_ornek.png)\n",
    "\n",
    "- Verilen bilgilere göre $x = 6$ değeri için $y$ değeri kaçtır?\n",
    "- Denklemimiz : $y = 6*a + b$ lineer denklemine göre çözelim.\n",
    "- a,b nasıl hesaplanır?\n",
    "\n",
    "\n",
    "|||\n",
    "|-|-|\n",
    "|a=|$\\frac{\\overline{xy} - (\\overline{x})(\\overline{y})}{\\overline{x^2} - \\overline{x}^2}$|\n",
    "|b=|$\\overline{y} - a*\\overline{x} $|\n",
    "\n",
    "formüllerinden yararlanılır. \n",
    "\n",
    "|| Oda Sayısı (x) | Ev Fiyatı (y) | X * Y | X²  |\n",
    "|-|-----------------|---------------|-------|-----|\n",
    "|| 1               | 1.2           | 1.2   | 1   |\n",
    "|| 2               | 1.8           | 3.6   | 4   |\n",
    "|| 3               | 2.6           | 7.8   | 9   |\n",
    "|| 4               | 3.2           | 12.8  | 16  |\n",
    "|| 5               | 3.8           | 19    | 25  |\n",
    "|ortalama| 3|2.52|8.88|11|\n",
    "\n",
    "- $\\overline{x}$ : x'lerin ortalaması\n",
    "- $\\overline{y}$ : y'lerin ortalaması\n",
    "\n",
    "- $ a = \\frac{8.88 - (3)*(2.52)}{11 - 9} $\n",
    "- $ a = 0.66$\n",
    "- $ b = 2.52 - 0.66* 3$\n",
    "- $ b = 0.54 $\n",
    "\n",
    "- $ y = ax + b$\n",
    "- $ y = 0.66*x + 0.54$   den x = 6 oda için y' yi tahmin edelim.\n",
    "- $ y = 0.66*6 + 0.54$\n",
    "- $ y = 4.5$ olarak bulunur. "
   ]
  },
  {
   "cell_type": "markdown",
   "id": "5fbd67fc-c619-46e5-86e2-8f43fb55dc12",
   "metadata": {},
   "source": [
    "**Uygulama Alanları**\n",
    "\n",
    "- Ekonomi ve Finans\n",
    "- Pazarlama\n",
    "- Sağlık bilimleri\n",
    "\n",
    "|Zayıf Yönler|Güçlü Yönler|\n",
    "|-|-|\n",
    "|Doğrusal olmayan ilişkileri yakalamakta zorlanabilir. | Basit ve anlaşılır modelleme yüksek yorumlanabilirlik|\n",
    "|Outlier hassasiyeti| Kısa eğitim süresi|\n"
   ]
  },
  {
   "cell_type": "markdown",
   "id": "1566189f-f87b-497e-9f46-17580164efe1",
   "metadata": {
    "jp-MarkdownHeadingCollapsed": true
   },
   "source": [
    "### Çoklu Lineer Regresyon"
   ]
  },
  {
   "cell_type": "markdown",
   "id": "12b4d3c4-fc39-4d29-98d1-cd3bc794919c",
   "metadata": {},
   "source": [
    "- Çoklu lineer regresyon, birden fazla bağımsız değişkenin kullanıldığı bir regresyon türüdür.\n",
    "\n",
    "![](images/c_lineer_reg.png)\n",
    "\n",
    "- MPG : Bir aracın ağırlığı ve beygir gücü 1lt de kat edebileceği maksimum mesafeyi değiştirecektir.\n",
    "- $MPG = \\beta_0 + \\beta_1*w + \\beta_2*HP$"
   ]
  },
  {
   "cell_type": "markdown",
   "id": "84a5cf0f-e3fe-4713-9927-02f054af3300",
   "metadata": {},
   "source": [
    "- Örnek olarak, bir evin satış fiyatını tahmin etmek için çoklu lineer regresyon kullanalım.\n",
    "- Bağımlı değişkenimiz ev fiyatı olsun.\n",
    "- Bağımsız değişkenlerimiz ise aşağıdaki gibi faktörler olsun.\n",
    "  - Ev alanı\n",
    "  - Oda sayısı\n",
    "  - Banyo sayısı\n",
    "  - Mahalle güvenlik puanı\n",
    "\n",
    "$Ev_Fiyatı = \\beta_0 + \\beta_1 * Ev_Alanı + \\beta_2 * Oda_Sayısı + \\beta_3 *  Banyo_Sayısı + \\beta_4 * Mahalle_Güvenlik_Puanı + \\epsilon$"
   ]
  },
  {
   "cell_type": "markdown",
   "id": "6929c44c-b575-47db-8756-ce5438d78c10",
   "metadata": {},
   "source": [
    "**Çoklu Regresyon Örnek Çalışma**\n",
    "\n",
    "| x1 | x2 | y  |\n",
    "|----|----|----|\n",
    "| 1  | 4  | 1  |\n",
    "| 2  | 5  | 6  |\n",
    "| 3  | 8  | 8  |\n",
    "| 4  | 2  | 12 |\n",
    "\n",
    "- $ y = ax + b$  tekli lineer regresyon\n",
    "- $ y = f(x_1, x_2) $\n",
    "- $ a = [(x^Tx)^{-1}x^T]*y$  şeklinde a'yı bulabiliriz. \n",
    "- $ y = a_0 + a_1x_1 + a_2x_2$\n",
    "- $ a = \\begin{bmatrix}\n",
    "a_0 \\\\\n",
    "a_1 \\\\\n",
    "a_2\n",
    "\\end{bmatrix} $\n",
    "- $ x = \\begin{bmatrix}\n",
    "1 & 1 & 4 \\\\\n",
    "1 & 2 & 5 \\\\\n",
    "1 & 3 & 8 \\\\\n",
    "1 & 4 & 2 \\\\\n",
    "\\end{bmatrix} $\n",
    "- $ y = \\begin{bmatrix}\n",
    "1 \\\\\n",
    "6 \\\\\n",
    "8 \\\\\n",
    "12\n",
    "\\end{bmatrix} $"
   ]
  },
  {
   "cell_type": "markdown",
   "id": "057b1ba7-9d21-4fdb-9705-5c28d029f1f2",
   "metadata": {},
   "source": [
    "1. adım : $X^T * X$  öncelikle $X$ matrisinin transpozunu alıp ($X^T$) alıp $X$ ile çarparız.\n",
    "\n",
    "$X^T ⋅ X =  \\begin{bmatrix}\n",
    "4 & 10 & 19 \\\\  \n",
    "10 & 30 & 51 \\\\  \n",
    "19 & 51 & 105  \n",
    "\\end{bmatrix} $\n",
    "\n",
    "2. adım : ($(X^T * X)^{-1}$), 1 adım da çıkan matrisin tersi alınır.\n",
    "\n",
    "$$\n",
    "(X^T \\cdot X)^{-1} =\n",
    "\\begin{pmatrix}\n",
    "4.03125 & -0.625 & -0.15625 \\\\\n",
    "-0.625 & 0.625 & -0.125 \\\\\n",
    "-0.15625 & -0.125 & 0.09375\n",
    "\\end{pmatrix}\n",
    "$$\n",
    "\n",
    "3. adım : $X^T * y$\n",
    "\n",
    "$$\n",
    "X^T \\cdot y =\n",
    "\\begin{pmatrix}\n",
    "27 \\\\\n",
    "73 \\\\\n",
    "148\n",
    "\\end{pmatrix}\n",
    "$$\n",
    "\n",
    "4. adım : $a = ((X^T * X)^{-1}) * X^T * y $\n",
    "\n",
    "$$\n",
    "a =\n",
    "\\begin{pmatrix}\n",
    "-1.699 \\\\\n",
    "3.484 \\\\\n",
    "-0.055\n",
    "\\end{pmatrix}\n",
    "$$\n",
    "\n"
   ]
  },
  {
   "cell_type": "markdown",
   "id": "6cb7a62a-ee13-4802-8b82-6e1acf14f175",
   "metadata": {},
   "source": [
    "Bu, modelin regresyon katsayılarıdır:\n",
    "- $a_0 = -1.699$\n",
    "- $a_1 = 3.484$\n",
    "- $a_2 = -0.055$\n"
   ]
  },
  {
   "cell_type": "markdown",
   "id": "a0c7623d-ec57-48c6-b5de-9b1dbc451f42",
   "metadata": {},
   "source": [
    "$y = -1.69 + 3.48*x_1 - 0.05x_2$"
   ]
  },
  {
   "cell_type": "markdown",
   "id": "e653b644-6615-4bd8-a32c-d3180cd95b48",
   "metadata": {},
   "source": [
    "sonucuna ulaşırız. Burda $x_2$ katsayısının bir değeri yoktur negatif değer üretir, $x1$ katsayısı pozitif aldığı için y değerinin yükselmesini sağlar. "
   ]
  },
  {
   "cell_type": "markdown",
   "id": "a5f69b03-a509-4bff-a63b-fcf9af2d9ec3",
   "metadata": {},
   "source": [
    "**Uygulama Alanları**\n",
    "\n",
    "- Pazarlama\n",
    "- Finans\n",
    "- Sağlık Bilimleri\n",
    "- Eğitim\n",
    "\n"
   ]
  },
  {
   "cell_type": "markdown",
   "id": "b5a30ee6-2339-48d9-ae04-e98b065b2521",
   "metadata": {
    "jp-MarkdownHeadingCollapsed": true
   },
   "source": [
    "### Polinom Regresyon"
   ]
  },
  {
   "cell_type": "markdown",
   "id": "9dabd6be-93e0-40e3-962e-f8f71935ea23",
   "metadata": {},
   "source": [
    "- Lineer regresyonun genişletilmiş bir versiyonudur ve doğrusal olmayan ilişkileri modellemek için kullanılır. \n",
    "- Polinom regresyonda bağımsız değişkenlerin doğrusal birleşimleri yerine polinom terimleri kullanılır. \n",
    "\n",
    "![](images/polinom_reg.png)\n",
    "\n",
    "\n"
   ]
  },
  {
   "cell_type": "markdown",
   "id": "22a456ae-bcc2-4b63-bc2c-9e0a21040356",
   "metadata": {},
   "source": [
    "Örnek: \n",
    "\n",
    "| x  | y  |\n",
    "|----|----|\n",
    "| 1  | 1  |\n",
    "| 2  | 4  |\n",
    "| 3  | 9  |\n",
    "| 4  | 15 |\n"
   ]
  },
  {
   "cell_type": "markdown",
   "id": "6a3bd661-9205-4c6f-b0f3-208358ba78ee",
   "metadata": {},
   "source": [
    "![](images/pol_reg_ornek.png)"
   ]
  },
  {
   "cell_type": "markdown",
   "id": "367db91f-7318-4f13-8c71-ef57d02a4a30",
   "metadata": {},
   "source": [
    "- hyper parametre : $(n=2)$\n",
    "\n",
    "- $Y = a_0 + a_1x + a_2x^2$\n",
    "- $a = X^{-1}B$\n",
    "\n",
    "- $$ X = \\begin{pmatrix}\n",
    "n & \\sum x_i & \\sum x_i^2 \\\\\n",
    "\\sum x_i & \\sum x_i^2 & \\sum x_i^3 \\\\\n",
    "\\sum x_i^2 & \\sum x_i^3 & \\sum x_i^4 \\\\\n",
    "\\end{pmatrix}\n",
    "$$\n",
    "\n",
    "- $$ B = \\begin{pmatrix}\n",
    "\\sum y_i \\\\\n",
    "\\sum (x,y)\\\\\n",
    "\\sum (x_i^2, y_i)\\\\\n",
    "\\end{pmatrix}\n",
    "$$\n"
   ]
  },
  {
   "cell_type": "markdown",
   "id": "a44d714f-33ac-42e2-a8c7-e4684e9b0e75",
   "metadata": {},
   "source": [
    "1. Adım: Veri Kümesi\n",
    "- $ x = [1, 2, 3, 4] $ \n",
    "- $ y = [1, 4, 9, 15] $\n",
    "\n",
    "2. Adım: Hesaplamalar\n",
    "- $ (n = 4 ) $ (Veri sayısı)\n",
    "- $ \\sum x_i = 1 + 2 + 3 + 4 = 10 $\n",
    "- $ \\sum x_i^2 = 1^2 + 2^2 + 3^2 + 4^2 = 1 + 4 + 9 + 16 = 30 $\n",
    "- $ \\sum x_i^3 = 1^3 + 2^3 + 3^3 + 4^3 = 1 + 8 + 27 + 64 = 100 $\n",
    "- $ \\sum x_i^4 = 1^4 + 2^4 + 3^4 + 4^4 = 1 + 16 + 81 + 256 = 354 $\n",
    "- $ \\sum y_i = 1 + 4 + 9 + 15 = 29 $\n",
    "- $ \\sum x_i y_i = (1 \\times 1) + (2 \\times 4) + (3 \\times 9) + (4 \\times 15) = 1 + 8 + 27 + 60 = 96 $\n",
    "- $ \\sum x_i^2 y_i = (1^2 \\times 1) + (2^2 \\times 4) + (3^2 \\times 9) + (4^2 \\times 15) = 1 + 16 + 81 + 240 = 338 $\n",
    "\n",
    "3. Adım: X ve B Matrislerini Oluşturma\n",
    "- $ X $ matrisi:\n",
    "  $$\n",
    "  X = \\begin{pmatrix}\n",
    "  4 & 10 & 30 \\\\\n",
    "  10 & 30 & 100 \\\\\n",
    "  30 & 100 & 354 \\\\\n",
    "  \\end{pmatrix}\n",
    "  $$\n",
    "- $ B $ matrisi:\n",
    "  $$\n",
    "  B = \\begin{pmatrix}\n",
    "  29 \\\\\n",
    "  96 \\\\\n",
    "  338 \\\\\n",
    "  \\end{pmatrix}\n",
    "  $$\n",
    "\n",
    "4. Adım: Normal Denklemle \\( a \\)'yı Hesaplama\n",
    "- $ a = X^{-1}B $\n",
    "\n",
    "5. Adım: Sonuç\n",
    "Hesaplamalar sonucunda katsayılar şu şekilde bulunmuştur:\n",
    "$\n",
    "a_0 = -0.75, \\quad a_1 = 0.95, \\quad a_2 = 0.75\n",
    "$\n",
    "\n",
    "Modelin formu:\n",
    "$\n",
    "Y = -0.75 + 0.95x + 0.75x^2\n",
    "$\n"
   ]
  },
  {
   "cell_type": "markdown",
   "id": "e24b6185-8c63-4300-81e4-c25beb6bb2c4",
   "metadata": {},
   "source": [
    "**Polinom Regresyon Hiperparametreleri**\n",
    "\n",
    "- Polinom regresyonunun hiperparametreleri, genellikle polinomun derecesini belirlemek için seçilir.\n",
    "- Polinom regresyonunda hiperparametre seçimini etkileyen bazı faktörler şunlardır:\n",
    "  - Modelin performansı\n",
    "  - Aşırı uyum ve aşırı basitlik\n",
    "  - Bilgi kaybı\n",
    "\n",
    "![](images/pol_reg_hyper.png)\n",
    "\n",
    "**Uygulama Alanları**\n",
    "\n",
    "- Fizik ve Mühendislik\n",
    "- Finans ve Ekonomi\n",
    "- İklim bilimi\n",
    "- Tıp ve sağlık bilimleri\n",
    "- Eğitim ve öğrenme analizi\n",
    "\n",
    "|Zayıf Yönler|Güçlü Yönler|\n",
    "|-|-|\n",
    "|Yüksek dereceli polinomlar aşırı uyuma (overfitting) yol açabilir.| esneklik | "
   ]
  },
  {
   "cell_type": "markdown",
   "id": "d934f309-a496-429b-93a0-39f02fea7ff7",
   "metadata": {},
   "source": [
    "# GÖZETİMSİZ ÖĞRENME"
   ]
  },
  {
   "cell_type": "markdown",
   "id": "df818058-fea3-47e3-b865-34cc38894f09",
   "metadata": {},
   "source": [
    "- Gözetimsiz öğrenme, etiketlenmemiş veri kümesi üzerinde yapılan bir makine öğrenmesi yaklaşımıdır.\n",
    "- Bu yöntemde, veri kümesindeki yapıyı anlamak, gizli desenleri keşfetmek ve veri noktaları arasındaki ilişkileri belirlemek amaçlanır.\n",
    "- Gözetimsiz öğrenme genellikle veri keşfi  ve veri ön işleme aşamalarında kullanılır.\n",
    "- Kümeleme, veri noktalarını içsel özelliklerine dayanarak benzer gruplara ayırmayı içeren bir işlemdir.\n",
    "  - K-Means Kümeleme\n",
    "  - Hiyerarşik Kümeleme\n",
    "  - DBSCAN (Gürültülü uygulamalar için yoğunluk tabanlı uzaysal kümeleme)\n",
    "\n",
    "![](images/gozetimsiz.png)"
   ]
  },
  {
   "cell_type": "markdown",
   "id": "6894c609-1b2f-46dc-9899-ec0ec7cf1883",
   "metadata": {},
   "source": [
    "**Gözetimsiz Öğrenme Kullanım Alanları**\n",
    "\n",
    "- Kümeleme (Clustering)\n",
    "- Boyut Azaltma (Dimensionality Reduction)\n",
    "- Değişken keşfi (Feature Discovery)\n",
    "- Yoğunluk Tahmini (Density Estimation)\n",
    "- Anomalilerin Tespiti (anomaly Detection) "
   ]
  },
  {
   "cell_type": "markdown",
   "id": "383102a9-b6a6-4528-9778-6062c1419a12",
   "metadata": {},
   "source": [
    "## K-Mean Kümeleme "
   ]
  },
  {
   "cell_type": "markdown",
   "id": "502cc7e5-7e13-4638-b71f-ae07969aa008",
   "metadata": {},
   "source": [
    "- K-ortalamalar (K-Means) kümeleme, bir gözetimsiz öğrenme algoritmasıdır ve veri setindeki benzer örnekleri **belirli sayıda kümelere** (K) gruplamak için kullanılır.\n",
    "\n",
    "![](images/k-mean.png)\n",
    "\n",
    "- K = 2 için, 2 adet küme oluşturulmuştur. "
   ]
  },
  {
   "cell_type": "markdown",
   "id": "ea26d0aa-405b-4b94-ace5-77714b641b90",
   "metadata": {},
   "source": [
    "**K-Mean Algoritması**\n",
    "\n",
    "- Küme merkezini başlatma : belirlenen K sayısı kadar veri seti içerisinden rastgele noktaların seçilmesi anlamına gelir. \n",
    "- Veri noktalarını kümelere atama : mesafeye göre atanır. (KNN) deki gibi.\n",
    "- Küme merkezlerini yeniden hesaplama.\n",
    "- Yeniden atama ve güncelleme\n",
    "\n",
    "![](images/k-mean-alg.png)"
   ]
  },
  {
   "cell_type": "markdown",
   "id": "eaf715d9-9516-4e20-9b3d-d3d82dfe603d",
   "metadata": {},
   "source": [
    "- k = 2 seçiyoruz. \n",
    "- veri seti üzerinde rastegele 2 nokta seçiliyor.\n",
    "- veri setindeki diğer noktaların bu noktalara olan uzaklıklarını hesaplayıp ilgili kümelere atılıyor.\n",
    "- sonradan kümenin yeni merkezini hesaplayıp, yeniden atama ve güncelleme işlemleri gerçekleştirilir. "
   ]
  },
  {
   "cell_type": "markdown",
   "id": "dcf2a47e-73d8-412a-98c5-7fdb0383b81d",
   "metadata": {},
   "source": [
    "**Örnek Çalışma**   yapılacak. "
   ]
  },
  {
   "cell_type": "markdown",
   "id": "421eb2d1-2262-4aee-8a17-946b50427370",
   "metadata": {},
   "source": []
  },
  {
   "cell_type": "markdown",
   "id": "a7a243f3-e792-47ce-83c0-463d2c62505b",
   "metadata": {},
   "source": [
    "## Hiyerarşik Kümeleme"
   ]
  },
  {
   "cell_type": "markdown",
   "id": "d38ac967-e2da-4bf8-a74a-ee245d7b7f44",
   "metadata": {},
   "source": [
    "- Hiyerarşik kümeleme, veri setindeki örnekleri bir hiyerarşik yapı içerisinde gruplamak için kullanılan bir gözetimsiz öğrenme yöntemidir.\n",
    "- Bu yöntemde, her veri noktası bir küme olarak başlar ve ardından benzerlikleri veya uzaklıkları temel alarak bu kümeler birleştirilir veya bölünür.\n",
    "- Bu işlem, bir ağaç benzeri bir hiyerarşi oluşturur. Hiyerarşik kümeleme, iki ana türde gerçekleştirilebilir:\n",
    "  - Algomeratif (Birleştirici) hiyerarşik kümeleme\n",
    "  - Bölücü hiyerarşik kümeleme\n",
    "  ![](images/hiyerarsik.png)"
   ]
  },
  {
   "cell_type": "markdown",
   "id": "4834a615-f635-4723-905a-dce055d7e3f3",
   "metadata": {},
   "source": [
    "**Aglomeratif (Birleştirici) Hiyerarşik Kümeleme Örneği**\n",
    "\n",
    "**Bölücü Hiyerarşik Kümeleme Örneği**\n"
   ]
  },
  {
   "cell_type": "markdown",
   "id": "7fa4f691-4ce1-4bdb-96aa-dcbb848c3db0",
   "metadata": {},
   "source": [
    "## Gürültülü Uygulamaların Yoğunluğa Dayalı Mekansal Kümelenmesi (DBSCAN) "
   ]
  },
  {
   "cell_type": "markdown",
   "id": "fe53991e-325d-46b5-8689-a8dc32931041",
   "metadata": {},
   "source": [
    "**DBSCAN**,\n",
    "\n",
    "- Gürültülü uygulamaların yoğunluğa dayalı mekansal kümelenmesi, gözetimsiz bir kümeleme algoritmasıdır ve özellikle belirsiz şekilli küme yapılarına sahip veri setlerini işlemek için kullanılır.\n",
    "- DBSCAN, veri noktalarının yoğunluğuna ve birbirlerine olan mesafelerine dayanarak kümeleme yapar.\n",
    "\n",
    "![](images/dbscan.png)\n",
    "\n"
   ]
  },
  {
   "cell_type": "markdown",
   "id": "5cc64b59-ccbe-46b0-a601-162229102f60",
   "metadata": {},
   "source": [
    "# PEKİŞTİRMELİ ÖĞRENME"
   ]
  },
  {
   "cell_type": "markdown",
   "id": "d0a3cbc4-e075-4ff5-8004-229edc795464",
   "metadata": {},
   "source": [
    "- Pekiştirmeli öğrenme, bir yapay zeka (AI) modelinin, bir ortamla etkileşime geçerek belirli bir görevi gerçekleştirmeyi öğrenmesini sağlayan bir öğrenme türüdür.\n",
    "\n",
    "![](images/p_ogrenme.png)\n",
    " "
   ]
  },
  {
   "cell_type": "markdown",
   "id": "f7601545-14f4-4c77-8b1a-28611d32ee2d",
   "metadata": {},
   "source": [
    "**Pekiştirmeli Öğrenme Türleri**\n",
    "\n",
    "- Model tabanlı pekiştirme öğrenme,\n",
    "\n",
    "Bu türde ajan çevresini ve olayları modellemek için bir iç model kullanır. Bu model ajanın mevcut durumunu ve gelecekteki durumunu tahmin etmek için kullanır. Model tabanlı yaklaşımlar çevrenin doğru bir şekilde modellenmesi ve modelin güncellenmesi için iyi bir tahmin yapılmasını gerektirmektedir. \n",
    "\n",
    "- Model tabanli olmayan pekiştirmeli öğrenme\n",
    "\n",
    "Ajan, çevresini ve olayları modellere dayanmadan doğrudan gözlemleyerek öğrenir. Ajanın etkili bir şekilde öğrenmesi zorlaşabilir. \n",
    "\n",
    "- Değer tabanlı pekiştirmeli öğrenme\n",
    "\n",
    "Ajanın her durum için bir değer belirleyen bir değer fonksiyonu tahmin etmesi gerekir. Bu değer ajanın durumunda ne kadar iyi olduğunu belirtir. Ajan burdaki değeri maksimize etmeye çalışacaktır.  \n",
    "\n",
    "- Politika tabanlı pekiştirme öğrenme\n",
    "\n",
    "Ajan bir eylem gerçekleştirmek için bir politika seçiyor. Burdaki politika mevcut durumdan en iyi sonuç elde etmek için hangi eylemlerin seçileceğini belirliyor.  Ajan en iyi optimizesini seçerek en iyi eylem stratejisini bulmaya çalışır. \n",
    "\n",
    "**Pekiştirmeli Öğrenme Terimleri**\n",
    "\n",
    "- **Agent (Ajan)** : Bir ajan çevreyi algılayabilen, keşfedebilen ve üzerinde hareket edebilen bir varlıktır.\n",
    "- **Environment** : Bir çevredeki varlığın içinde bulunduğu durumdur.\n",
    "- **Action** : Bir ajanın ortam içerisindeki aldığı hamlelerdir, eylemlerdir.\n",
    "- **State (durum)** : Ajan tarafından alınan her bir eylemden sonra ortam tarafından döndürülen bir durumdur.\n",
    "- **Reward (ödül)** : Bu kavram, pozitif olmak zorunda değildir, negatifte olabilir. Ödül nedir? ajanın eylemini değerlendirmek için ortamdan ajanın alacağı geri bildirimlerdir.\n",
    "- **Policy (politika)** : Ajanın mevcut durumuna dayanarak bir sonraki eylemi için uygulanacak stratejidir.\n",
    "- **Value** : ödülün tersidir.\n",
    "- **Q-value** : Mevcut bir eyleme ek parametre olarak kullanılır. q (quality) kalite anlamına gelmektedir. \n",
    "![](images/pekistirme.png)"
   ]
  },
  {
   "cell_type": "markdown",
   "id": "b3dae856-d450-456d-9ce8-0dc99d0ec60c",
   "metadata": {},
   "source": [
    "**Pekiştirmeli Öğrenme Algoritmaları**\n",
    "\n",
    "- Q-Learning : bir ajanın bir ortamda en iyi eylemi öğrenmek için deneme yanılma yöntemini kullanması ile ortaya çıkmış bir algoritmadır.\n",
    "- Deep Q-Learning : derin pekiştirmeli öğrenme, sinir ağları söz konusudur. Hangi eylemi gerçekleştireceğimizi sinir ağları karar veriyor.\n",
    "\n",
    "![](images/q-learning.png)"
   ]
  },
  {
   "cell_type": "markdown",
   "id": "abc02831-4785-4b5e-960d-a43384c0398e",
   "metadata": {},
   "source": [
    "**Pekiştirmeli Öğrenme Uygulamaları**\n",
    "\n",
    "- Robotik\n",
    "- Kontrol\n",
    "- Oyun oynama\n",
    "- İşletme\n",
    "- Üretim\n",
    "- Finans sektörü"
   ]
  },
  {
   "cell_type": "markdown",
   "id": "6c6b15c6-0ae0-4987-9951-2abf58e9c827",
   "metadata": {},
   "source": [
    "## Q-Learning (Q-öğrenme)"
   ]
  },
  {
   "cell_type": "markdown",
   "id": "db4717e7-2324-4f0d-ac6e-0ef08c07c2e2",
   "metadata": {},
   "source": [
    "- Pekiştirmeli öğrenme alanında kullanılan bir öğrenme tekniğidir.\n",
    "- Bir ajanın belirli bir ortamda öğrenmesini ve optimize etmesini sağlar.\n",
    "- Temelde, bir ajan bir ortamda belirli eylemler gerçekleştirir ve bu eylemlerin sonuçlarını gözlemleyerek en uygun eylemleri öğrenir.\n",
    "\n",
    "![](images/q-learning-.png)\n",
    "\n",
    "Q-learning, model tabanlı olmayan bir yaklaşımdır. Ortam hakkında önceden bilgiye ihtiyaç duyulmaz. Ajan ortama yerleştirilir, ajan belirlenen eylemler doğrultusunda environment(ortamı) keşfeder ödüller alır ve böylece ortamı öğrenmeyi sağlamış olur. Ajan ortamda deneyim kazandıkça, her durum ve eylem için bir q-tablosu, q değerlerini tutan bir tablo oluşturulur. Bu q-tablosu, ajanın hangi eylemleri hangi durumlarda daha iyi sonuçlar verdiğini öğrenmesini sağladığı bir tablodur. \n",
    "\n",
    "![](images/q-learning-alg.png)"
   ]
  },
  {
   "cell_type": "markdown",
   "id": "035b33d3-71bb-445b-9d0d-f8c4891407ab",
   "metadata": {},
   "source": [
    "-initialize Q-table : rastgele değerler ile doldurulur. Örneğin, tüm değerler 0 yapılabilir. Yada -1 ile 1 arasında çok küçük değerler atanabilir. \n",
    "- Artık matematiksel işlemler yapılabilecek bir matris vardır.\n",
    "- Choose an Action : 2 durum söz konusudur. Ajan mevcut durumu gözlemledikten sonra q-tablosundan rastgele bir değer seçer. Eğer q-tablosu doluysa en büyük değeri seçer.  En yüksek q değeri demek, nihayi hedefine ulaşabileceği yolu gösteren q değerleridir.  Eylem uygulanır. "
   ]
  },
  {
   "cell_type": "markdown",
   "id": "7fede3a1-9d3c-4933-961d-680fa52b7c1a",
   "metadata": {},
   "source": [
    "**Durum Çalışması**\n",
    "\n",
    "![](images/q-learning-durum-calismasi.png)"
   ]
  },
  {
   "cell_type": "markdown",
   "id": "b1f5c34d-7484-470b-a662-0f0a55ac4c16",
   "metadata": {},
   "source": [
    "Problem : Şekilde gösterildiği gibi bir kat planı var. Kat planı içerisinde 0, 1,2,3,4 olmak üzere toplam 5 oda var. Amaç ajanı odalardan birisine yerleştirmek ve 5 numaralı bölüme gitmesini hedeflemek"
   ]
  },
  {
   "cell_type": "markdown",
   "id": "10fe2fcf-10d4-41be-a6ce-006854890238",
   "metadata": {},
   "source": [
    "- Durumlar :\n",
    "\n",
    "- $S = {0, 1, 2, 3, 4, 5}$\n",
    "\n",
    "- Actions : action'lar odalar arasındaki geçişler olacaktır. \n",
    "\n",
    "- $A = {0, 1, 2, 3, 4, 5}$\n",
    "\n",
    "- Revward Table : satırlar = satate, sütunlar = action olacaktır.\n",
    "\n",
    "| | 0| 1| 2| 3| 4| 5|\n",
    "|-|-|-|-|-|-|-|\n",
    "|0|-1|-1|-1|-1| 0|-1|\n",
    "|1|-1|-1|-1| 0|-1|100|\n",
    "|2|-1|-1|-1|0|-1|-1|\n",
    "|3|-1|0|0|-1|-0|-1|\n",
    "|4|0|-1|-1|0|-1|100|\n",
    "|5|-1|0|-1|-1|0|100|\n",
    "- \n",
    "\n",
    "ödüller q-lerningte \n",
    "- -1 : negatif ödül ve bu action seçilemez, uygulanamaz anlamına gelir.\n",
    "- -1 : duvar var arada\n",
    "-  0 : kapıdan geçiş yapabilir ama 5' e ulaşamaz.\n",
    "-  100 : asıl yapmasını istediğimiz sonuç \n",
    "\n",
    "- "
   ]
  },
  {
   "cell_type": "markdown",
   "id": "8dc2ddfb-72e5-4a25-9e15-d43db92d5ddc",
   "metadata": {},
   "source": [
    "- Ajanımız rastegele 1 nolu odadan başlasın.\n",
    "\n",
    "- Update formülü : $R(s,a) + 0.8 * max(Q(s', as')$\n",
    "\n",
    "- Q-Table oluşturulması aşamasındayız. Q-table ilk atamada hepsine 0 veriyoruz.  \n",
    "\n",
    "| | 0| 1| 2| 3| 4| 5|\n",
    "|-|-|-|-|-|-|-|\n",
    "|0|0|0|0|0|0|0|\n",
    "|1|0|0|0|0|0|0|\n",
    "|2|0|0|0|0|0|0|\n",
    "|3|0|0|0|0|0|0|\n",
    "|4|0|0|0|0|0|0|\n",
    "|5|0|0|0|0|0|0|\n",
    "\n",
    "Q-table yeni durumlara göre güncellenmesi \n",
    "\n",
    "| | 0| 1| 2| 3| 4| 5|\n",
    "|-|-|-|-|-|-|-|\n",
    "|0|0|0|0|0|80|100|\n",
    "|1|0|0|0|64|0|0|\n",
    "|2|0|0|0|64|0|0|\n",
    "|3|0|0|80|51|80|0|\n",
    "|4|64|0|0|64|0|100|\n",
    "|5|0|80|0|0|80|100|\n",
    "\n",
    "- ajanımız 1 nolu odada olduğu için  (1 den 5 e) nasıl gidilecek. \n",
    "- 0.8 öğrenme oranı (lr)\n",
    "$$\n",
    "Q(1, 5)  = R(1, 5) + 0.8 * max(\\begin{bmatrix}\n",
    "Q(5,1) \\\\\n",
    "Q(5,4) \\\\\n",
    "Q(5,5) \\\\\n",
    "\\end{bmatrix}) \n",
    "$$\n",
    "\n",
    "- $$Q(1, 5)  = 100  + 0.8 * 0$$\n",
    "- $$Q(1, 5)  = 100$$"
   ]
  },
  {
   "cell_type": "markdown",
   "id": "bf9b4c44-86b9-4458-b79d-64a85dcc21a0",
   "metadata": {},
   "source": [
    "Bu şekilde tüm durumlar q-table update ediliyor. Yani eğitim işlemi gerçekleştirilmiş oluyor. Şimdi test işlemini yapalım. \n",
    "\n",
    "- Agent : 0 nolu odada olma durumuna göre\n",
    "- q-table de state : 0 için,  action daki en yüksek puanın 80 olduğunu ve 4 nolu oda olduğunu buluyor ve agent oraya geçiyor.\n",
    "- state : 4 için baktığında en yüksek puanın 5 numaralı alan olduğunu görüyor ve ona doğru hareket ediyor. "
   ]
  },
  {
   "cell_type": "markdown",
   "id": "d9204ee2-bc45-41fd-84c0-5f780b4511a2",
   "metadata": {},
   "source": [
    "|avantajları | dezavantajları |\n",
    "|-|-|\n",
    "|Model bağımsız|Keşif ve exploitation arasındaki dengenin bulunması zor olabilir|\n",
    "|Politika bağımsızı|Boyutlanabilirlik problemi ile karşılaşabilir. |\n",
    "|Esneklik | Bazı durumlarda aşırı derecede optimist olabilir |\n",
    "|Çevrimdışı eğitim | Performansın optimize edilmesi uzun sürebilir. |"
   ]
  },
  {
   "cell_type": "markdown",
   "id": "c0a7a677-f2a2-4626-9470-589cd83b0a79",
   "metadata": {},
   "source": [
    "![](images/deep-q-learning.png)"
   ]
  },
  {
   "cell_type": "markdown",
   "id": "23e3896b-3790-40e4-a7bf-20726541bab8",
   "metadata": {},
   "source": [
    "## Pekiştirmeli Öğrenme Yöntemleri "
   ]
  },
  {
   "cell_type": "markdown",
   "id": "796136f9-e0fd-4ca8-94b3-8ae7c71af21e",
   "metadata": {},
   "source": [
    "- Monte Carlo Methods\n",
    "- SARSA (State-Action-Reward-State-Action)\n",
    "- Policy Gradient Methods\n",
    "- Actor-Critic Methods\n",
    "- Temporal Difference Learning (TD-Learning)\n",
    "- Thompson Sampling\n",
    "- Upper COnfidence Bound(UCB)"
   ]
  },
  {
   "cell_type": "markdown",
   "id": "f147d89c-3b2b-4fe1-89cb-bca93428b9ad",
   "metadata": {},
   "source": [
    "# BOYUT İNDİRGEME"
   ]
  },
  {
   "cell_type": "markdown",
   "id": "c7b4e003-43d0-4c08-97a8-c20e41e39713",
   "metadata": {},
   "source": []
  },
  {
   "cell_type": "markdown",
   "id": "6e81df66-e213-4b84-ae31-eeaeef392deb",
   "metadata": {},
   "source": [
    "- Makine öğrenmesinde boyut indirgeme, veri setindeki değişken sayısını azaltarak modelin performansını arttırmayı veya hesaplama süresini azaltmayı amaçlayan bir tekniktir.\n",
    "\n",
    "![](images/pca.png)\n",
    "\n",
    "Boyut indirgeme,\n",
    "- öznitelik seçimi (Feature selection)\n",
    "- öznitelik çıkarma (Feature Extraction)\n",
    "- \n",
    "![](images/pca-ornek.png)\n",
    "\n",
    "sol tarafta verilen renklerden 4 renge azaltılmış, sağ tarafta ize 4 renk seçimi yapılmıştır. "
   ]
  },
  {
   "cell_type": "markdown",
   "id": "0ef1f7da-9ecc-40aa-9318-4fa8457c62de",
   "metadata": {},
   "source": [
    "## Temel Bileşen Analizi (PCA)"
   ]
  },
  {
   "cell_type": "markdown",
   "id": "f75776ed-351b-48f1-aa07-0fc97f2f288c",
   "metadata": {},
   "source": [
    "- Temel bileşen analizi (PCA - Principal Component Analysis), çok boyutlu veri setlerinde ki değişkenliği azaltmak için kullanılan bir boyut indirgeme tekniğidir.\n",
    "- PCA, veri setindeki orjinal değişkenler arasındaki kolerasyonu dikkate alarak, bu değişkenlerin birbirleriyle olan ilişkisini açıklamak için yeni bir değişken seti oluşturur.\n",
    "\n",
    " ![](images/pca-ornek2.png)"
   ]
  },
  {
   "cell_type": "markdown",
   "id": "12db22eb-a681-4fc1-aa80-642be8d4a60c",
   "metadata": {},
   "source": [
    "PCA 1. en önemlisi ve 2. en önemlisi gösterilmektedir. \n",
    "\n",
    "**PCA Analizi** \n",
    "\n",
    "- veri normalizasyonu\n",
    "- kovaryans matrisinin hesaplanması\n",
    "- kovaryans matrisinin özdeğer ve özvektörlerinin hesaplanması\n",
    "- Özdeğerlerin sıralanması\n",
    "- Temel bileşenlerin seçimi\n",
    "- Yeni veri setinin oluşturulması\n",
    "\n",
    "**Durum Çalışması** \n",
    "\n",
    "|$X_1$|$X_2$|\n",
    "|-|-|\n",
    "|4|11|\n",
    "|8|4|\n",
    "|13|5|\n",
    "|7|14|\n",
    "\n",
    "\n",
    "Bu  PCA uygulamadasında 2 boyuttan 1 boyuta indirgeyeceğzi.  (N boyuttan M boyuta) \n",
    "\n",
    "- $x_1' in ortalaması = 8 $\n",
    "- $x_2' in ortalaması = 8,5 $\n",
    "\n",
    "- Kovaryans matrisinin hesaplanması\n",
    "$$ S = \n",
    "\\begin{bmatrix}\n",
    "Cov(x_1, x_1) & Cov(x_1, x_2) \\\\\n",
    "Cov(x_2, x_1) & Cov(x_2, x_2) \\\\\n",
    "\\end{bmatrix}\n",
    "$$\n",
    "\n",
    "$$\n",
    "Cov(x_1, x_2) = \\frac{1}{N -1} * \\sum_{k = 1}^N ( x_\n",
    "$$\n",
    "\n",
    "\n",
    "\n",
    "\n"
   ]
  },
  {
   "cell_type": "markdown",
   "id": "b0124100-da29-4d3d-9fce-681129ce890b",
   "metadata": {},
   "source": [
    "\n",
    "\n",
    "\n",
    "\n",
    "3"
   ]
  },
  {
   "cell_type": "markdown",
   "id": "4e234a12-273e-4d3d-9fcc-fd52b7c33a69",
   "metadata": {},
   "source": [
    "## Doğrusal Diskriminant Analizi (LDA) "
   ]
  },
  {
   "cell_type": "markdown",
   "id": "4cd960ec-04e0-401c-9b2b-3942c8ef738c",
   "metadata": {},
   "source": [
    " Doğrusal diskriminant analizi (LDA), sınıflandırma problemleri için kullanılan bir boyut indirgeme tekniğidir. \n",
    "\n",
    " ![](images/lda.png)"
   ]
  },
  {
   "cell_type": "markdown",
   "id": "b552259d-e408-49f5-8bd3-7e48ca81ad71",
   "metadata": {},
   "source": [
    "- Sınıflar arasındaki ortalama vektörlerin hesaplanması\n",
    "- Sınıflar arasındaki dağılımın hesaplanması\n",
    "- Sınıflar arasındaki ayrımın maksimize edilmesi\n",
    "- Veri setinin dönüştürülmesi\n",
    "\n",
    "![](images/lda-ornek.png)"
   ]
  },
  {
   "cell_type": "markdown",
   "id": "a3fbca4e-2c89-4176-a970-15e953872382",
   "metadata": {},
   "source": [
    "**Durum Çalışması** \n",
    "\n",
    "\n"
   ]
  },
  {
   "cell_type": "markdown",
   "id": "ef3f15c4-c8df-41bb-816e-b190d6ce7906",
   "metadata": {},
   "source": []
  },
  {
   "cell_type": "markdown",
   "id": "5772d765-346d-404f-bc81-1159aa3113f9",
   "metadata": {},
   "source": [
    "## PCA vs LDA arasındaki farklar"
   ]
  },
  {
   "cell_type": "markdown",
   "id": "91b3a7b3-92a2-436e-8adc-0244112cb703",
   "metadata": {},
   "source": [
    "|Özellik|PCA (Temel Bileşen Analizi) |LDA (Doğrusal diskriminat analizi) |\n",
    "|-|-|-|\n",
    "|Amaç| Değişkenliği azaltmak ve veri setini daha az boyutta ifade etmek.| Sınıflar arasındaki ayrımı maksimize etmek. |\n",
    "|Denetimli/Denetimsiz| Denetimsiz | Denetimli |\n",
    "|Kullanım Alanları|Veri görselleştirmesi, veri sıkıştırma, gürültü azaltma|Sınıflandırma problemleri, sınıf ayrımını iyileştirme|\n",
    "|Hesaplama|Veri setinin kovaryans matrisinin özdeğer ve özvektörleri|Sınıf ortalamaları ve kovaryans matrislerinin hesaplanması|\n",
    "|Sonuçlar|Değişkenler arasındaki ilişkileri yakalar. |Sınıflar arasındaki farkı en iyi şekilde yaklar.|"
   ]
  },
  {
   "cell_type": "markdown",
   "id": "21201b9a-cc75-451c-94fe-e9fb0525598a",
   "metadata": {},
   "source": [
    "![](images/pca-lda.png)"
   ]
  },
  {
   "cell_type": "markdown",
   "id": "00e8a8c9-b30c-4d6b-b981-90f84ba79ec8",
   "metadata": {},
   "source": [
    "## T-Dağıtılmış Stokastik Komşu Yerleştirme (t-SNE)"
   ]
  },
  {
   "cell_type": "markdown",
   "id": "a43dc73a-892c-4799-b1f1-e144a3e89fc8",
   "metadata": {},
   "source": [
    "T-dağıtılmış stokastik komşu yerleştirme (t-SNE), çok boyutlu veri setlerini görselleştirmek için kullanılan bir boyut indirgeme tekniğidir. \n",
    "\n",
    "![](images/t-sne.png)\n",
    "\n",
    "- Yüksek boyutlu veri setindeki noktalar arasındaki benzerliklerin ölçülmesi.\n",
    "- Düşük boyutlu bir uzaya dönüştürme."
   ]
  },
  {
   "cell_type": "markdown",
   "id": "52b2f430-dcf7-45e9-b5a8-3076af343e6e",
   "metadata": {},
   "source": []
  },
  {
   "cell_type": "markdown",
   "id": "f6a4db58-068d-404e-a474-281eb4c56035",
   "metadata": {},
   "source": [
    "![](images/t-sne.png)"
   ]
  },
  {
   "cell_type": "markdown",
   "id": "282e08bb-c5f3-4adf-9a1c-2f5e72591a83",
   "metadata": {},
   "source": [
    "# DEĞERLENDİRME METRİKLERİ"
   ]
  },
  {
   "cell_type": "markdown",
   "id": "0368fe26-bcc1-46f0-8698-2842b605ae0a",
   "metadata": {},
   "source": [
    "## Sınıflandırma İçin Değerlendirme Metrikleri"
   ]
  },
  {
   "cell_type": "markdown",
   "id": "481d01fe-27cb-4512-9378-b0ddda794081",
   "metadata": {},
   "source": [
    "- Machine learning modellerinin performansını değerlendirmek için çeşitli metrikler kullanılır.\n",
    "- Hem sınıflandırma (classification) hem de regresyon (regression) problemleri için farklı değerlendirme metrikleri vardır.\n",
    "\n",
    "Bir modelin, \n",
    "- performansını ölçmek için,\n",
    "- iyi mi, kötü mü olduğunu öğrenmek için\n",
    "yapılan testlerdir.\n",
    "\n"
   ]
  },
  {
   "cell_type": "markdown",
   "id": "26b066cf-d9fc-4bef-8601-0415901fcc03",
   "metadata": {},
   "source": [
    "* Sınıflandırma için değerlendirme metrikleri\n",
    "  - Doğruluk (Accuracy) \n",
    "  - Kesinlik (Precision)\n",
    "  - Duyarlılık\n",
    "  - F1-Score\n",
    "  - ROC Score\n",
    "  - Karmaşıklık Matrisi (Confusion Matrix) "
   ]
  },
  {
   "cell_type": "markdown",
   "id": "cd6547c7-24ae-4407-b66e-f9de0f0946fc",
   "metadata": {},
   "source": [
    "### Doğruluk (Accuracy) "
   ]
  },
  {
   "cell_type": "markdown",
   "id": "277debc5-adaf-4fc6-b04e-73466ad0b6cf",
   "metadata": {},
   "source": [
    "- Doğru tahminlerin oranını ifade eder.\n",
    "\n",
    "![](images/accuracy.png)  \n",
    "- "
   ]
  },
  {
   "cell_type": "markdown",
   "id": "65061223-83c7-4132-8933-4e94d8017731",
   "metadata": {},
   "source": [
    "Bu grafikteki bilgiler, \n",
    "- **PREDICTED** : Modelin yaptığı tahminler\n",
    "- **ACTUAL** : Test verisinin içersindeki sample'ların gerçekte ne olduğu,\n",
    "- **Negative, Positive** : Burda 2 li bir sınıflandırma yapıldığı görülmektedir.\n",
    "- **5, 10, 15, 70** : Bu değerler TEST veri setinde toplam,  $(5+10+15+70)=100$  adet test verisi olduğu anlamına gelir.\n",
    "\n",
    "- **(TP - True Possitive)** : Burda modelimiz, pozitif tahmin etmiş ve gerçekte de Pozitif miş yani modelin doğru tahmin etmiş onun için **TP** yazıyoruz. \n",
    "  - **True**     : kısmı gerçekte ne olduğunu \n",
    "  - **Positive** : Modelimizin tahmin ettiği, Pozitif kısmını göstiyor.\n"
   ]
  },
  {
   "cell_type": "markdown",
   "id": "e959716f-c85f-42ea-b97f-821b970646e6",
   "metadata": {},
   "source": [
    "* **TN - True Negative)** : Model netatif tahmin etmiş, gerçekte de negatif olduğu için doğru tahmin yapıldığından **TN** yazıyoruz. Yani negatif olduğunu model doğru tahmin etmiştir.  "
   ]
  },
  {
   "cell_type": "markdown",
   "id": "1ae0e470-2b71-468f-8c40-74dc12518b2a",
   "metadata": {},
   "source": [
    "* **(FP - False Positive)** : Model, pozitif olarak tahmin etmiş ama gerçekte yani yanlış tahmin olduğu için **FP** dir.  "
   ]
  },
  {
   "cell_type": "markdown",
   "id": "3ad73727-2bdb-4840-82a3-645c43d35af2",
   "metadata": {},
   "source": [
    "* (FN - False Negative)** : Model negatif olarak tahmin etmiş ama gerçekte yanlış tahmin etmiş olduğu için **FN** yazıyoruz. "
   ]
  },
  {
   "cell_type": "markdown",
   "id": "44ed7fce-34b8-4441-972e-3d2e84ef87ba",
   "metadata": {},
   "source": [
    "Örneğin bu 100 test verisini A ve B olarak sınıflandırırsak, (Pozitif : A kategorisi olsun, Negatif : B kategorisi olsun. ) \n",
    "- $ TP = 5 $ : 5' tane A kategorisinden varmış ve modelin tahmini de A kategorisini tahmin etmiş,\n",
    "- $ TN = 70 $ : B kategorisinden olanları B kategorisi olarak 70 tane doğru tahmin etmiş.\n",
    "- $ FP = 10 $ : Burda B kategorisi olanların 10 tanesini B kategorisi olarak değilde A kategorisi olarak(pozitif olarak) model tahmin etmiş. **(yanlış tahmin)**\n",
    "- $ FN = 15 $ : Burda A kategorisi olanların 15 tanesini B kategorisi olarak (netagif)  olarak tahmin etmiş. **(yanlış tahmin)**\n",
    "\n",
    "$\\frac{5 + 70}{5 + 10 + 15 +70 } = \\frac{75}{100} = 0.75$"
   ]
  },
  {
   "cell_type": "markdown",
   "id": "d8eaaa1e-a4db-4664-8fae-15da3ccb655d",
   "metadata": {},
   "source": [
    "### Kesinlik (Precision) "
   ]
  },
  {
   "cell_type": "markdown",
   "id": "04e2af8f-d8be-4e69-8924-d4ceb7827aee",
   "metadata": {},
   "source": [
    "- Pozitif olarak tahmin edilen örneklerin ne kadarının gerçekten pozitif olduğunu gösterir.\n",
    "  \n",
    "$\\frac{TP}{TP + FP} = \\frac{5}{5 + 15} = 0.33$"
   ]
  },
  {
   "cell_type": "markdown",
   "id": "11a2dd4b-c676-4ad6-83c5-523ed4c2953b",
   "metadata": {},
   "source": [
    "### Duyarlılık (Recall) "
   ]
  },
  {
   "cell_type": "markdown",
   "id": "f1615240-4c3e-4b36-aa76-edd3419c0c4b",
   "metadata": {},
   "source": [
    "- Gerçek pozitiflerin ne kadarının doğru bir şekilde tanındığını gösterir.\n",
    "\n",
    "$\\frac{TP}{TP + FN}= \\frac{5}{5+15} = \\frac{5}{20} = 0.25$"
   ]
  },
  {
   "cell_type": "markdown",
   "id": "73073142-53f5-4187-8e73-cb40038d9ed3",
   "metadata": {},
   "source": [
    "### F1-Score"
   ]
  },
  {
   "cell_type": "markdown",
   "id": "0bce3812-a751-4cf7-a3fd-db1423670922",
   "metadata": {},
   "source": [
    "- Precision ve Recall 'ın harmonik ortalamasıdır.\n",
    "\n",
    "$\\frac{2 * Precision * Recall}{Precision + Recall} = \\frac{2 * 0.33 * 0.25}{0.33 + 0.25} = 0.28$"
   ]
  },
  {
   "cell_type": "markdown",
   "id": "4dd9a83e-6846-4f72-b88d-4ee0da03531d",
   "metadata": {},
   "source": [
    "F1-Score'u  1' e ne kadar yakınsa model o kadar iyidir anlamına gelir. "
   ]
  },
  {
   "cell_type": "markdown",
   "id": "f2af6d28-0864-4722-9cf3-815db862dfbb",
   "metadata": {},
   "source": [
    "### ROC Score"
   ]
  },
  {
   "cell_type": "markdown",
   "id": "8faddd78-a3fe-41c8-9ded-31bc505186a4",
   "metadata": {},
   "source": [
    "- Receiver Operating Characteristic (ROC) eğrisi altındaki alanı ifade eder.\n",
    "- Sınıflandırma modelinin performansını değerlendirmek için kullanılır.\n",
    "\n",
    "![](images/roc.png)"
   ]
  },
  {
   "cell_type": "markdown",
   "id": "c9ccb83c-67ce-4caf-a757-ed9e2a8924ef",
   "metadata": {},
   "source": [
    "TP ve FP kullanılarak çizilen eğrilerdir(Roc Curve).  \n",
    "- AUC : ROC eğrisinin altında kalan alanı ifade eder. Bu değer AUC değerini belirler. AUC sınıflandırma modelinin tüm treshold'lar altında ne kadar iyi performans gösterdiğini ölçen bir ölçüttür. AUC genellikle 0 ile 1 arasında değişir. 1' e ne kadar yakınsa modelin performansı o kadar iyidir. "
   ]
  },
  {
   "cell_type": "markdown",
   "id": "cffe8b54-7bdc-402a-8ee8-60698ecaed47",
   "metadata": {},
   "source": [
    "### Karmaşıklık Matrisi (Confusion Matrix) \n",
    "\n",
    "- Gerçek ve tahmin edilen sınıfları karşılaştıran bir tablodur.\n",
    "\n",
    "![](images/confusion.png)\n",
    "\n",
    "- 2 li sınıflandırmada\n",
    "\n",
    "Burdaki örnekte doktoru model olarak seçelim ve hastayı da (actual yani test veri seti) olarak kabul edelim. \n",
    "\n",
    "- TP : Doktor, hamile olarak tahmin ediyor. (doğru tahmin) \n",
    "- TN : Doktor, hamile değilsiniz tahmin ediyor. (doğru tahmin)\n",
    "- FN : Doktor, hamile olarak tahmin ediyor. (yanlış tahmin)\n",
    "- TN : Doktor, hamile olarak tahmin ediyor. (yanlış tahmin)\n",
    "\n",
    "- Bir den fazla sınıflandırmada karmaşıklık matrisi\n",
    "\n",
    "![](images/confusion-n.png)\n",
    "\n",
    "\n",
    "\n",
    "\n",
    "\n",
    "\n",
    "\n"
   ]
  },
  {
   "cell_type": "markdown",
   "id": "6ca28432-517b-42fe-a709-e2e8ef95ad97",
   "metadata": {},
   "source": [
    "## Regresyon için Değerlendirme Metrikleri "
   ]
  },
  {
   "cell_type": "markdown",
   "id": "44b4fb45-a900-4371-a40b-fc7f95ba3b56",
   "metadata": {},
   "source": [
    "- Ortalama Mutlak Hata\n",
    "- Ortalama Kare Hata\n",
    "- Kök Ortalama Kare Hata\n",
    "- R-Kare"
   ]
  },
  {
   "cell_type": "markdown",
   "id": "17dea8f4-f861-4a8c-b9f2-c3bba131dcb8",
   "metadata": {},
   "source": [
    "### Ortalama Mutlak Hata (Mean Absuolute Error) \n",
    "\n",
    "- Gerçek ve tahmin edilen değerler arasındaki ortalama mutlak farkı ifade eder.\n",
    "\n",
    "![](images/mea.png)\n",
    "\n",
    "### Ortalama Kare Hata (Mean Squared Error) \n",
    "\n",
    "- Gerçek ve tahmin edilen değerler arasındaki ortalama karesel farkı ifade eder. \n",
    "\n",
    "![](images/mse.png)\n",
    "\n",
    "\n",
    "### Kök Ortalama Kare Hata (Root Mean Squared Error) \n",
    "\n",
    "- MSE' nin kareköküdür.\n",
    "- Gerçek ve tahmin edilen değerler arasındaki ortalama karesel farkın kareköküdür. \n",
    "\n",
    "![](images/rmse.png)\n",
    "\n",
    "\n",
    "### R-Kare (R-Squared) \n",
    "\n",
    "- Bağımsız değişken tarafından açıklanan varyansın toplam varyansa oranını ifade eder.\n",
    "- Modelin ne kadar iyi uyum sağladığını gösterir. \n"
   ]
  },
  {
   "cell_type": "markdown",
   "id": "ff5986c9-2a23-48f4-a257-47bbf4ddf528",
   "metadata": {},
   "source": [
    "# MODEL SEÇİMİ "
   ]
  },
  {
   "cell_type": "markdown",
   "id": "23821041-5cdd-4e8c-bf4f-b989af195874",
   "metadata": {},
   "source": [
    "- Makine öğrenmesinde model seçimi, bir problem için en uygun modeli belirleme sürecidir.\n",
    "- Bu süreç, veri setinin özelliklerine, problemin doğasına ve hedeflenen sonuçlara bağlı olarak yapılır.\n",
    "\n",
    "**Model Seçiminin Önemi** \n",
    "\n",
    "- Makine öğrenmesinde model seçimi önemlidir.\n",
    "  - Performansı etkiler.\n",
    "  - Genelleme Yeteneğini Etkiler.\n",
    "  - Hesaplama kaynaklarını etkiler.\n",
    "  - Yorumlanabilirlik ve Açıklanabilirlik.\n",
    "  - Uygulanabilirlik\n",
    "\n",
    "**Model Seçme Kriterleri** \n",
    "\n",
    "- En uygun modeli seçmek, çeşitli yöntemlerin ve alan uzmanlığının bir karışımını gerektirir.\n",
    "- Basit veya karmaşık bir model, geleneksel veya derin öğrenme modeli, doğrusal veya doğrusal olmayan bir model arasındaki seçim, bir kaç faktöre bağlıdır.\n",
    "  - Problem Türü\n",
    "  - Veri erişilebirliği ve kalitesi\n",
    "  - Bilgisayar Kaynakları\n",
    "  - Açıklanabilirlik\n",
    "  - Ölçeklenebilirlik\n",
    "  - Çoklu girişleri işleme yeteneği\n",
    "  - Zaman kısıtları\n",
    "  - Alan Bilgisi\n",
    "\n",
    "**Model Seçme Yöntemleri**\n",
    "\n",
    "- Makine öğrenmesinde model seçimi, bir problem için en uygun modeli belirleme sürecidir.\n",
    "- Bu süreç, veri setinin özelliklerine, problemin doğasına ve hedeflenen sonuçlara bağlı olarak yapılır.\n",
    "\n",
    "![](images/model_secme.png)"
   ]
  },
  {
   "cell_type": "markdown",
   "id": "c3276ba9-b5b3-4908-bc22-0887b2f15fbe",
   "metadata": {},
   "source": [
    "## Olasılıksal "
   ]
  },
  {
   "cell_type": "markdown",
   "id": "8852edeb-d13a-4768-9d10-12a82751a8dc",
   "metadata": {},
   "source": [
    "- Bilgi kriteri, istatistiksel procedürlerin etkinliğini değerlendirmek için kullanılan bir tür olasılıksal ölçümdür.\n",
    "- Yöntemleri, en büyük olabilirlik tahmini'nin (MLE) log-olailirlik çerçevesini kullanarak en etkili aday modelleri seçen bir puanlama sistemini içerir.\n",
    "- Örnekleme sadece model performansına odaklanırken, olasılıksal modelleme hem model performansına hem de karmaşıklığına odaklanır.\n",
    "- Karmaşıklık derecesini ve belirli bir modelin veri kümesine ne kadar iyi uyduğunu hesaplamak için üç istatistiksel yöntem vardır.\n",
    "  - Akaike bilgi kriteri ( akaike information criterion - AIC)\n",
    "  - Minimum açıklama uznluğunu (minimum description length - MDL)\n",
    "  - Bayesian bilgi kriteri (bayesian information criterion - BIC)\n",
    "\n",
    "### Akaike Bilgi Kriteri \n",
    "\n",
    "- Amaç, bir modelin ne kadar iyi bir şekilde verileri açıkladığını ve ne kadar karmaşık olduğunu dengelemektir.\n",
    "\n",
    "![](images/aic.png)\n",
    "\n",
    "- $ln(L)$ : log likelihood,  ln -> log,  L -> olabilirlik.\n",
    "- $k$ : modelin serbestlik derecesini temsil eder.\n",
    "- AIC değeri ne kadar düşükse model o kadar iyidir.\n",
    "\n",
    "\n",
    "### Minimum Açıklama Uzunluğu \n",
    "\n",
    "- Karmaşıklık ve uyum arasındaki dengeyi sağlar.\n",
    "- MDL, veri setinin kodlanması ve modelin karmaşıklığı arasındaki toplam bit sayısını en aza indirmeyi amaçlar.\n",
    "\n",
    "\n",
    "### Bayesian Bilgi Kriteri\n",
    "\n",
    "- AIC gibi, model karmaşıklığı ve uyum arasındaki dengeyi sağlamak için kullanılır.\n",
    "\n",
    "![](images/bic.png)\n",
    "\n",
    "- $ln(n)$ : n-> veri seti içerisindeki sample sayısnı verir.  AIC den farklı olarak daha büyük veri setleri için daha karmaşık modelleri cezalandırmaktadır.\n",
    "\n",
    "### Rastgele Bölünme \n",
    "\n",
    "- Bölme işlemi rastgele veya zamana dayalı olabilir.\n",
    "- Rastgele bölme yöntemi, eğitim verisini eğitim, test ve doğrulama kümelerine rastgele böler.\n",
    "- Bu işlem, modelin performansını çeşitli test kümelerinde kontrol etmek ve güvenilirliğini gözlemlemek için tekrarlanır.\n",
    "\n",
    "![](images/rastgele_bolme.png)\n",
    "\n",
    "- Zaman tabanlı bölme genellikle zaman bileşeni içeren veriler için yapılır, örneğin hava durumu veya borsa verileri gibi. \n",
    "\n",
    "\n",
    "![](images/rastgele_bolme-2.png)\n",
    "\n",
    "\n",
    "### Örnekleme Yöntemleri \n",
    "\n",
    "- Örnekleme yöntemleri, modelin eğitim almadığı veri örnekleri üzerinde performansını görmek için veri örneklerini yeniden düzenlemenin basit yöntemleridir.\n",
    "- Başka bir deyişle, örnekleme, modelin genelleme yeteneğini belirlememizi sağlar.\n",
    "- Örnekleme yöntemleri,\n",
    "  - Boostrap\n",
    "  - Çapraz Doğrulama\n",
    "    - K-Fold çapraz doğrulama\n",
    "    - Leave-one-out (LOO)  çapraz doğrulama\n",
    "\n",
    "**Boostrap**\n",
    "- Bu teknik, bir veri setinden rastgele örneklemler çekmek suretiyle tekrarlanan örnekleme yaparak, popülasyon üzerinde istatistiksel sonuçların tahmin edilmesini sağlar.\n",
    "- Boostrap yöntemi, genellikle küçük veri setleri veya sınırlı veriye sahip durumlarda parametrik olmayan istatistikleirn güven aralıklarını ve standart hatalarını hesaplamak için kullanılır.\n",
    "  - Veri setinden rastgele örneklemler çekilir.\n",
    "  - Örneklemler üzerinde istatistikler hesaplanır.\n",
    "  - Bu adımlar birçok kez tekrarlanır.\n",
    "  - Elde edilen istatistiklerin dağılımı incelenir. \n",
    "\n",
    "![](images/boostrap.png)\n",
    "\n",
    "\n",
    "**K-Fold Çapraz Doğrulama**\n",
    "- Veri setini k eşit parçaya bölünür. (katman)\n",
    "- Ardından, her bir katman sırasyıla test seti olarak kullanılırken, diğer katmanlar birleştirilerek eğitim seti oluşturulur.\n",
    "- Bu işlem x kere tekrarlanır ve her bir katmanın test seti üzerindeki performansı değerlendirilir.\n",
    "- Sonuçlar genellikle ortalamalar alınarak rapor edilir.\n",
    "\n",
    "![](images/k-fold.png)\n",
    "\n",
    "yukarıdaki işlemde k=5 için, veri seti 5' e bölünmüştür. \n",
    "\n",
    "**Leave-One-Out(LOO) Çapraz Doğrulama\n",
    "- Her bir veri noktası sırasıyla test seti olarak ayrılırken, geri kalan veri noktaları eğitim seti olarak kullanılır.\n",
    "- Bu işlem veri noktalarının tamamı için tekrarlanır ve her bir veri noktasının test seti üzerindeki performansı değerlendirilir.\n",
    "\n",
    "![](images/loo.png)"
   ]
  },
  {
   "cell_type": "markdown",
   "id": "53a94a30-96d2-44ea-9739-e49efca2f66d",
   "metadata": {},
   "source": [
    "# REGÜLARİZASYON "
   ]
  },
  {
   "attachments": {},
   "cell_type": "markdown",
   "id": "185fe838-3b65-4de3-aebc-8e24bda9dddc",
   "metadata": {},
   "source": [
    "- Makine öğrenmesinde regularizasyon, bir modelin aşırı uyuma (overfitting) eğilimini azaltmak veya önlemek için kullanılan bir tekniktir.\n",
    "\n",
    "![](images/regu.png)\n",
    "\n",
    "## L1 Regularizasyon (Lasso Regularization) \n",
    "\n",
    "- L1 regularizasyonu, modelin katsayılarını (parametreleri) sıfıra yaklaştırmak için L1 normunu kullanır.\n",
    "- Bu, bazı katsayıların tamamen sıfıra düşmesine neden olabilir, böylece model daha basitleşir ve daha iyi genelleme yapabilir.\n",
    "  \n",
    "![](images/l1.png)\n"
   ]
  },
  {
   "cell_type": "markdown",
   "id": "f9e9cad7-c298-4e9c-8519-6f48394cdd48",
   "metadata": {},
   "source": [
    "## L2 Regularizasyon (Ridge Regularization) \n",
    "\n",
    "- L2 regularizasyonu, katsayıları sıfıra yaklaştırmak için karelerin toplamını (L2 normu) kullanır. Bu yöntem, büyük katsayıları azaltır ancak tamamen sıfıra düşmezler.\n",
    "- Model karmaşıklığını azaltır ve aşırı uyumu önler.\n",
    "\n",
    "![](images/l2.png)"
   ]
  },
  {
   "cell_type": "markdown",
   "id": "9fe570bf-78c4-4bf8-927e-5a6b502e62fc",
   "metadata": {},
   "source": [
    "**L1 ve L2 arasındaki farklar** \n",
    "\n",
    "- Öznitelik seçimi\n",
    "- Robustlık\n",
    "- Çözüm hızı\n",
    "\n",
    "\n",
    "## ElasticNet Regularizasyon\n",
    "\n",
    "- ElasticNet, L1 ve L2 regularizasyonlarını birleştirir.\n",
    "- Bu hem L1 ve hemde L2 cezalarını birleştirerek her iki yaklaşımın avantajlarından faydalanır.\n",
    "  \n",
    "![](images/elastic.png)"
   ]
  },
  {
   "cell_type": "markdown",
   "id": "9a7284fb-a688-4a5b-8b42-e89718192daa",
   "metadata": {},
   "source": [
    "## Hiperparametre Nedir? \n",
    "\n",
    "- Hiperparametreler, makine öğrenimi algoritmalarında kullanılan ve modelin davranışını ve performansını kontrol eden parametrelerdir.\n",
    "\n",
    "**Hiperparametre ayarlamanın önemi** \n",
    "- Aşırı uyumun önlenmesi\n",
    "- Performansın iyileştirilmesi\n",
    "- Modelin stabilitesi\n",
    "- Zamandan ve kaynaklardan tasarruf\n",
    "\n",
    "**Hiperparametre ayarlama yöntemleri**\n",
    "- Önce literatür taraması\n",
    "- Manuel arama\n",
    "- Kafes arama (grid search)\n",
    "- Rastgele arama\n"
   ]
  },
  {
   "cell_type": "markdown",
   "id": "e0b9b726-f421-46e2-8f9a-a4c72c9de754",
   "metadata": {},
   "source": [
    "![](images/mlearning.png)"
   ]
  }
 ],
 "metadata": {
  "kernelspec": {
   "display_name": "Python 3 (ipykernel)",
   "language": "python",
   "name": "python3"
  },
  "language_info": {
   "codemirror_mode": {
    "name": "ipython",
    "version": 3
   },
   "file_extension": ".py",
   "mimetype": "text/x-python",
   "name": "python",
   "nbconvert_exporter": "python",
   "pygments_lexer": "ipython3",
   "version": "3.12.7"
  }
 },
 "nbformat": 4,
 "nbformat_minor": 5
}
