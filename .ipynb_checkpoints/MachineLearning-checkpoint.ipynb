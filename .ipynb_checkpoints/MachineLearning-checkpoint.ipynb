{
 "cells": [
  {
   "cell_type": "markdown",
   "id": "5c8069c1-40f4-48b9-8e7c-a11c5b8c9407",
   "metadata": {},
   "source": [
    "# Makine Öğrenmesi Temelleri"
   ]
  },
  {
   "cell_type": "markdown",
   "id": "168e68bf-389a-4d9a-a356-b1b09684e980",
   "metadata": {},
   "source": [
    "## Makineler Nasıl Öğrenir"
   ]
  },
  {
   "cell_type": "markdown",
   "id": "922c11bc-c244-48af-b200-2627ad95fc2e",
   "metadata": {},
   "source": [
    "- Yapay zeka algoritmaları, büyük miktarda veriye dahaylı olarak desenleri tanımlar, kararlar alır ve sonuçları tahmin ederler.\n",
    "- İnsanların öğrenme sürecine benzer şekilde, yapay zeka modelleri de hatalarından öğrenir ve deneyimleriyle daha iyi hale gelir. "
   ]
  },
  {
   "cell_type": "markdown",
   "id": "275c2c05-1c46-4c03-aec9-3780de453d86",
   "metadata": {},
   "source": [
    "## Makinelerde Öğrenme Kavramı Nedir?"
   ]
  },
  {
   "cell_type": "markdown",
   "id": "b91c62af-e40b-4694-b165-97704380de37",
   "metadata": {},
   "source": [
    "- Makine öğrenmesi,\n",
    "  * bilgisayar sistemlerinin verilerden öğrenerek,\n",
    "  * deneyimlerden yararlanarak\n",
    "  * algoritmaları kullanarak\n",
    "- belirli görevleri gerçekleştirmesini sağlayan yapay zeka alanının bir alt dalıdır.\n"
   ]
  },
  {
   "cell_type": "markdown",
   "id": "bb0a2fe6-b4a3-4106-8a3c-17a0c6cb1af4",
   "metadata": {},
   "source": [
    "## Makine Öğrenmesi ve Geleneksel Programlama "
   ]
  },
  {
   "cell_type": "markdown",
   "id": "acbd30be-ceed-4cc8-bdd4-b5bd23ee696e",
   "metadata": {},
   "source": [
    "- Programlama yaklaşımı \n",
    "- Kural tabanlı bilgi\n",
    "- Esneklik ve Genelleme\n",
    "- Değişkenlik ve adaptasyon"
   ]
  },
  {
   "cell_type": "markdown",
   "id": "5100129c-2509-4562-aacb-85bcd7eea3b3",
   "metadata": {},
   "source": [
    "# Makine Öğrenmesi Yöntemleri"
   ]
  },
  {
   "cell_type": "markdown",
   "id": "779a2e3c-04e1-48b7-9983-6c51ddfaa4e1",
   "metadata": {},
   "source": [
    "- **Veri kümesi (dataset)**\n",
    "- **öznitelik (features) :** veri noktalarını tanımlayan özniteliklerdir. Öznitelikler makine öğrenmesi algoritmalarının modellenmesi ve tahmin yapması için kullanılan değişkenlerdir.\n",
    "- **Etiketler (labels)** : gözetimli öğrenme problemlerinde hedef değişkenler olarak adlandırılır. Bir veri örneğinin etiketi özelliklere karşılık gelen gerçek çıktı veya sınıfı temsil etmektedir.\n",
    "- **Model** : girdi verilerini alıp belirli bir çıktıyı verir.\n",
    "- **Eğitim(Training)** : Bir makine öğrenimi modelinin veri kümesi üzerindeki örneklerle eğitilmesi sürecidir. Eğitim süreci, makine öğrenmesi modeli içerisindeki parametre ayarlarının optimize edilmesidir.\n",
    "- **Doğrulama(validation)** : Eğitim sürecinde modelin performansını değerlendirir ve hiper parametrelerin ayarlanmasına yardımcı olmak için ayrılan bir veri kümesidir.\n",
    "- **Test(test)** :  Modelin gerçek veri kümeleri ile test edilmesi için ayrılan veri kümesidir.\n"
   ]
  },
  {
   "cell_type": "markdown",
   "id": "8a5993fe-8c54-4d54-abb6-3fd20017307e",
   "metadata": {},
   "source": [
    "![Resim Açıklaması](images/ML_algoritma.png)"
   ]
  },
  {
   "cell_type": "markdown",
   "id": "8e6a1b86-4912-4ba2-9cde-1ff33857452b",
   "metadata": {},
   "source": [
    "- **Sınıflandırma (Classification)** : Bir veri noktasını bir veya daha fazla sınıfa atayan bir tahmin problemidir.\n",
    "- **Regresyon (Regression)** : Bir çıktı değişkeninin sürekli bir değeri tahmin etmeye çalışan bir tahmin problemidir. Regresyon problemlerinde çıktılar sayısal değerlerdir. Örn, bir evin fiyatını tahmin etmek yada borsanın fiyat tahmini\n",
    "- **Öğrenme Algoritmaları (Learning Algorithms)** : Veri üzerinden örüntüleri keşfetmek ve modellemek için kullanılan matematiksel ve istatistiksel tekniklerdir.\n",
    "- **Öznitelik Mühendisliği(Feature Engineering)** :\n",
    "- **Hiper parametreler (Hyperparameters)** : Modelin yapılandırılması ve eğitilmesi sürecini kontrol eden parametrelerdir. Örneğin, bir sinir ağı modelindeki katman sayısı veya öğrenme hızı gibi parametreler hiper parametrelerdir.\n",
    "- **Overfitting ve Underfitting** : Modelin eğitim verilerine aşırı uyum sağlaması durumuna overfitting (ezberleme) diyoruz. Test veri seti ile test ettiğimizde undefitting olma  durumu (öğrenememe).\n",
    "- **Cross-Validation (Çapraz Doğrulama)** : Modelin performansını değerlendirmek için kullanılan bir tekniktir. Veri kümesi birden fazla alt kümeye bölünür ve her bir alt küme sırasıyla eğitim ve doğrulama için kullanılır. Bu sayede modelin genelleme yeteneği daha güvenilir bir şekilde değerlendirilir.\n",
    "- **Derin Öğrenme (Deep Learning)** : "
   ]
  },
  {
   "cell_type": "markdown",
   "id": "e5577078-1ccb-4278-82ed-813c70f87968",
   "metadata": {},
   "source": [
    "Örn, birtane kanser hücresi ile ilgili bir **label** yazmak isteyelim.  Kanser hücreli yada kanser hücresiz olarak bunlara **pozitif** ve **negatif** label'lar yazmak istersek, \n",
    "\n",
    "**label**  <br>\n",
    "- **p** : kanserli hücre <br>\n",
    "- **n** : kansersiz hücre <br>\n",
    "\n",
    "**features** <br>\n",
    "- **hucreY** : hücre yarıçapı <br>\n",
    "- **hucreA** : hücre alanı <br>\n",
    "- **boyut**  : hücre boyutu <br>\n",
    "\n",
    "\n"
   ]
  },
  {
   "cell_type": "markdown",
   "id": "b39ef3c7-a02f-4415-92a5-6ba346771583",
   "metadata": {},
   "source": [
    "![Resim Açıklaması](images/ML_yontemler.png)"
   ]
  },
  {
   "cell_type": "markdown",
   "id": "922efc56-9ae4-46ca-80be-61919fbe060a",
   "metadata": {},
   "source": [
    "![Resim Açıklaması](images/ML_sureci.png)"
   ]
  },
  {
   "cell_type": "markdown",
   "id": "95a13f96-c5c0-4ddf-b516-77b37f01ccaa",
   "metadata": {},
   "source": [
    "**Makine öğrenmesi uygulamaları;**\n",
    "- Tıp ve Sağlık\n",
    "- Finans\n",
    "- Perakende ve Pazarlama\n",
    "- Ulaşım ve lojistik\n",
    "- Güvenlik ve Siber Güvenlik\n",
    "- Robotik\n",
    "- Enerji Planlaması ve Verimlilik\n",
    "\n",
    "**Makine öğrenmesi araçları:**\n",
    "- Tensorflow\n",
    "- PyTorch\n",
    "- Keras\n",
    "- NumPy\n",
    "- Scikit-learn\n",
    "- Pandas\n",
    "- Matplotlib\n",
    "- Theano"
   ]
  },
  {
   "cell_type": "markdown",
   "id": "c10d8092-d179-4c48-8d10-1db2a4daf89f",
   "metadata": {},
   "source": [
    "# Veri Ön İşleme"
   ]
  },
  {
   "cell_type": "markdown",
   "id": "3c2cdd58-7468-4271-9764-d7132a7b3220",
   "metadata": {},
   "source": [
    "**Veri Nedir?**\n",
    "\n",
    "Veri, bilgi taşıyan ve anlam ifade eden öğelerin toplamıdır. \n",
    "Genellikle sayılar, metin, görseller veya diğer formatlardaki bilgileri içerir. <br> \n",
    "\n",
    "- **Veri Tipleri**\n",
    "    - **Kategorik Veriler**\n",
    "      - Nominal\n",
    "      - Ordinal\n",
    "    - **Sayısal Veriler**\n",
    "      - Interval\n",
    "      - Ratio   "
   ]
  },
  {
   "cell_type": "markdown",
   "id": "5fa8f4be-8144-4fcb-bd45-cc774bcac53e",
   "metadata": {},
   "source": [
    "**Veri Ön İşleme**\n",
    "\n",
    "Veri setini hazırlama sürecidir. Veri ön işleme aşamaları genellikle şunları içerir.  \n",
    "\n",
    "    - Veri temizleme\n",
    "    - Veri standardizasyonu \n",
    "    - Öznitelik seçimi\n",
    "    - Veri dönüşümü\n",
    "    - Aykırı değerlerin işlenmesi"
   ]
  },
  {
   "cell_type": "markdown",
   "id": "78316fea-2ba3-4527-b301-c2b3635fd608",
   "metadata": {},
   "source": [
    "- **Veri Temizleme**\n",
    "\n",
    "Veri temizleme, veri setindeki hatalı, eksik veya tutarsız verileri tanımlama, düzeltme veya çıkarma işlemidir. Bu işlem, verinin doğruluğunu artırarak analiz veya modelleme süreçlerinin güvenilirliğini sağlar. Veri temizleme, \n",
    "* Doğruluk\n",
    "* Tutarlılık\n",
    "* Eksik veri problemi\n",
    "* Aykırı değerler\n",
    "* Standartlaştırma\n",
    "\n",
    "Veri temizleme yöntemleri: <br>\n",
    "    - **Kayıp Veri Problemi** : Bir veri setindeki eksik veya bozuk verilerin bulunması durumudur. <br> \n",
    "    - **Tutarsız veri düzeltme**  veri setindeki tutarsızlıkları tespit etme ve düzeltme işlemidir.  <br> \n",
    "    - **Yinelenen Verilerin Silinmesi**   <br>\n",
    "    - **Gereksiz sütunların silinmesi**    <br>\n",
    "\n",
    "- **Veri Kodlaması**\n",
    "  Veri kodlaması, kategorik (nominal veya ordinal) verileri sayısal değerlere dönüştürme işlemidir. Bu dönüşüm, makine öğrenimi algoritmaları gibi birçok analiz yöntemi için gereklidir, çünkü bu algoritmalar genellikle sayısal verilerle çalışır. Veri kodlamasının iki ana türü vardır.\n",
    "  - Nominal kodlama\n",
    "  - Ordinal kodlama"
   ]
  },
  {
   "cell_type": "markdown",
   "id": "2d724441-4ab0-4950-827d-db49ebab62d4",
   "metadata": {},
   "source": [
    "## Öznitelik Mühendisliği"
   ]
  },
  {
   "cell_type": "markdown",
   "id": "2d9e80cc-95f1-4c3c-9f88-1a45242a28e2",
   "metadata": {},
   "source": [
    "**Öznitelik Nedir?** :\n",
    "- Öznitelik (feature), bir veri örneğini tanımlayan veya açıklayan herhangi bir özelliktir.\n",
    "- Öznitelikler, veri setindeki her bir gözlemin bir parçasını oluşturan ölçülebilir veya gözlemlenebilir özelliklerdir.\n",
    "- Öznitelikler, veri setinin her bir **sütununu** temsil eder.\n",
    "- Öznitelik mühendisliği (feature engineering), veri bilimi ve makine öğrenmi alanında kullanılan bir tekniktir ve veri setindeki öznitelikleri (features) optimize etmek veya yeni öznitelikler oluşturmak için yapılan işlemleri ifade eder.  "
   ]
  },
  {
   "cell_type": "markdown",
   "id": "c29b87f2-9947-4a00-b811-866153447c52",
   "metadata": {},
   "source": [
    "**Öznitelik mühendisliğinin önemi**\n",
    "\n",
    "- Model performansını artırma\n",
    "- Boyut azaltma\n",
    "- Hesaplama maliyetini azaltma\n",
    "\n",
    "\n",
    "**Öznitelik Seçimi**\n",
    "\n",
    "- Öznitelik seçimi (feature selection), veri setinde bulunan öznitelikler arasından en önemli veya en bilgilendirici olanları seçme veya belirleme sürecidir.\n",
    "- Bu süreçte, veri setinteki gereksiz, tekrarlayan veya düşük etkili özniteliklerin tanımlanması ve çıkarılması hedefleniyor.\n",
    "- Informasyon tabanlı yöntemler\n",
    "- Wrapper yöntemler\n",
    "- Gömülü yöntemler\n",
    "- Filter yöntemler\n",
    "\n",
    "**Öznitelik Çıkarma**\n",
    "\n",
    "- Öznitelik çıkarma (Feature extraction), veri setindeki özniteliklerin temsilini değiştirme veya dönüştürme sürecidir.\n",
    "- Bu süreçte, var olan özniteliklerin birleştirilmesi, dönüştürülmesi veya yeni özniteliklerin oluşturulması yoluyla verinin tamsilinin iyileştirilmesi amaçlanır.\n",
    "- Öznitelik çıkarma, veri boyutunu azaltarak gereksiz bilgiyi çıkararak ve verinin daha anlamlı bir şekilde temsil edilmesini sağlayarak model performansını arttırabilir.\n",
    "\n",
    "**Öznitelik Çıkarmanın Önemi**\n",
    "\n",
    "- Model performansını artırma\n",
    "- Boyut azaltma\n",
    "- Gereksiz bilgiyi çıkarılması\n",
    "- Anlamlı temsilinin sağlanması\n",
    "\n",
    "\n",
    "**Öznitelik Çıkarma Yöntemleri**\n",
    "\n",
    "- Principle Compenent Analysis (PCA) : Veri setindeki öznitelikler arasındaki korelasyonu azaltmak ve veri boyutunu azaltmak için kullanılan bir yöntemdir. \n",
    "- Linear Discriminant Analysis (LDA) : Sınıflar arasındaki farklılıkları en üst düzeye çıkarmaya kullanılan bir yöntemdir.\n",
    "- Autoencoders : Giriş verisine benzeyen ancak daha düşük boyutlu bir temsillemeye dönüştüren sinir ağı tabanlı bir modellerdir. Bu yöntem veri setindeki gizli yapıyı öğrenir ve daha az boyutlu bir temsile oluşturmuş olur.\n",
    "\n",
    "**Veri Normalizasyonu ve Standardizasyonu**\n",
    "\n",
    "- "
   ]
  },
  {
   "cell_type": "code",
   "execution_count": 2,
   "id": "e3d04ff8-5546-4002-a334-a63efa831616",
   "metadata": {},
   "outputs": [
    {
     "name": "stderr",
     "output_type": "stream",
     "text": [
      "'[Resim' is not recognized as an internal or external command,\n",
      "operable program or batch file.\n"
     ]
    }
   ],
   "source": [
    "![Resim Açıklaması](images/oznitelik_yontemleri.png)"
   ]
  },
  {
   "cell_type": "markdown",
   "id": "33edc047-ad1f-409e-a11a-6c62fed7f421",
   "metadata": {},
   "source": [
    "## Gözetimli Öğrenme"
   ]
  },
  {
   "cell_type": "markdown",
   "id": "d934f309-a496-429b-93a0-39f02fea7ff7",
   "metadata": {},
   "source": [
    "## Gözetimsiz Öğrenme"
   ]
  },
  {
   "cell_type": "markdown",
   "id": "ebbc7cd4-4904-4320-8652-98647e6bcecb",
   "metadata": {},
   "source": [
    "## Pekiştirmeli Öğrenme"
   ]
  },
  {
   "cell_type": "code",
   "execution_count": null,
   "id": "b243167a-e6cc-426d-a673-cc20246d5ef2",
   "metadata": {},
   "outputs": [],
   "source": []
  }
 ],
 "metadata": {
  "kernelspec": {
   "display_name": "Python 3 (ipykernel)",
   "language": "python",
   "name": "python3"
  },
  "language_info": {
   "codemirror_mode": {
    "name": "ipython",
    "version": 3
   },
   "file_extension": ".py",
   "mimetype": "text/x-python",
   "name": "python",
   "nbconvert_exporter": "python",
   "pygments_lexer": "ipython3",
   "version": "3.12.8"
  }
 },
 "nbformat": 4,
 "nbformat_minor": 5
}
